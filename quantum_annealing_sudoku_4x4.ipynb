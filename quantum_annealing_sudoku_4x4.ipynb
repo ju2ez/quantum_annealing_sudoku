{
 "cells": [
  {
   "cell_type": "code",
   "execution_count": 1,
   "metadata": {},
   "outputs": [],
   "source": [
    "# for classical solver (simulated annealing)\n",
    "import dimod\n",
    "import operator\n",
    "import dwavebinarycsp\n",
    "import numpy as np\n",
    "import math"
   ]
  },
  {
   "cell_type": "code",
   "execution_count": 14,
   "metadata": {},
   "outputs": [],
   "source": [
    "rows = 'ABCD'\n",
    "cols = '1234'\n",
    "boxes = [[(\"{}{}\".format(r, c)) for c in cols] for r in rows]  # declare variables for each box in the puzzle\n",
    "square_units = [ [ x+y for x in A for y in B ] for A in ('ABCD') for B in ('1234') ]"
   ]
  },
  {
   "cell_type": "code",
   "execution_count": 40,
   "metadata": {},
   "outputs": [],
   "source": [
    "def print_board(board):\n",
    "    if isinstance(board, str):     \n",
    "        board = string_to_tuple(board)\n",
    "    for row, _boxes in enumerate(boxes):\n",
    "        if row and row % 2 == 0:\n",
    "            print('-'*6+\"|\"+'-'*6)\n",
    "        for col, box in enumerate(_boxes):\n",
    "            if col and col % 2 == 0:\n",
    "                print('|', end='')\n",
    "            print(' {} '.format((int(board[row][col]) or '-')), end='')\n",
    "        print()\n",
    "    print()"
   ]
  },
  {
   "cell_type": "code",
   "execution_count": 44,
   "metadata": {},
   "outputs": [
    {
     "name": "stdout",
     "output_type": "stream",
     "text": [
      " 1  2 | -  - \n",
      " -  - | -  - \n",
      "------|------\n",
      " -  - | 1  - \n",
      " -  - | 4  - \n",
      "\n"
     ]
    }
   ],
   "source": [
    "board = ((1,2,0,0),\n",
    "         (0,0,0,0),\n",
    "         (0,0,1,0),\n",
    "         (0,0,4,0),\n",
    ")\n",
    "print_board(board)"
   ]
  },
  {
   "cell_type": "code",
   "execution_count": 47,
   "metadata": {},
   "outputs": [
    {
     "name": "stdout",
     "output_type": "stream",
     "text": [
      " 1  2 | 3  4 \n",
      " 4  3 | 2  1 \n",
      "------|------\n",
      " 2  1 | 4  3 \n",
      " 3  4 | 1  2 \n",
      "\n"
     ]
    }
   ],
   "source": [
    "correct_board = ((1,2,3,4),\n",
    "         (4,3,2,1),\n",
    "         (2,1,4,3),\n",
    "         (3,4,1,2),\n",
    ")\n",
    "print_board(correct_board)"
   ]
  },
  {
   "cell_type": "code",
   "execution_count": 48,
   "metadata": {},
   "outputs": [],
   "source": [
    "from itertools import product\n",
    "\n",
    "def check_sudoku(grid):\n",
    "    \"\"\"Validate a sudoku solution.\n",
    "\n",
    "    Given a grid as a list of lists, return None if it is ill-formed,\n",
    "    False if it is invalid, or True if it is a valid solution.\n",
    "    \"\"\"\n",
    "    error_count=0\n",
    "    # Check that the grid is 4x4.\n",
    "    if len(grid) != 4 or not all(len(row) == 4 for row in grid):\n",
    "        error_count+=1\n",
    "    DIGITS = set(range(1, 5))\n",
    "\n",
    "    # Check that each number appears exactly once per row\n",
    "    if not all(set(row) == DIGITS for row in grid):\n",
    "        error_count+=1\n",
    "\n",
    "    # Check that each number appears exactly once per column\n",
    "    columns = [[row[c] for row in grid] for c in range(4)]\n",
    "    if not all(set(col) == DIGITS for col in columns):\n",
    "        error_count+=1\n",
    "\n",
    "    # Check that each number appears exactly once per 3x3 grid\n",
    "    THREES = [(0, 1), (2, 3)]\n",
    "    for row_block, col_block in product(THREES, THREES):\n",
    "        block = [grid[r][c] for r, c in product(row_block, col_block)]\n",
    "        if set(block) != DIGITS:\n",
    "            error_count+=1\n",
    "\n",
    "\n",
    "    return error_count\n"
   ]
  },
  {
   "cell_type": "code",
   "execution_count": 52,
   "metadata": {},
   "outputs": [
    {
     "name": "stdout",
     "output_type": "stream",
     "text": [
      "Error Count:  0\n",
      "Error Count:  6\n"
     ]
    }
   ],
   "source": [
    "# check if the solution check works\n",
    "print('Error Count: ',check_sudoku(correct_board))\n",
    "print('Error Count: ',check_sudoku(board))"
   ]
  },
  {
   "cell_type": "code",
   "execution_count": 53,
   "metadata": {},
   "outputs": [],
   "source": [
    "def encode_board_to_binary(board):\n",
    "    binary_board= np.zeros((4, 4, 4)).tolist()\n",
    "    for row_index, row in enumerate(board):\n",
    "        for column_index, cell in enumerate(row):\n",
    "            if cell>0:\n",
    "                binary_board[cell-1][row_index][column_index]=1    \n",
    "    return binary_board \n",
    "\n",
    "def decode_board_from_binary(binary_board):\n",
    "    board= np.zeros((4, 4))\n",
    "    for k, color in enumerate(binary_board):\n",
    "        for i, row in enumerate(color):\n",
    "            for j, cell_value in enumerate(row):\n",
    "                if cell_value>0:\n",
    "                    board[i][j]+=int(k+1)\n",
    "                else:\n",
    "                    board[i][j]+=int(0)\n",
    "    return board "
   ]
  },
  {
   "cell_type": "code",
   "execution_count": 60,
   "metadata": {},
   "outputs": [],
   "source": [
    "constant = 0\n",
    "N = 4\n",
    "cell_qubo = {}\n",
    "linear = {}\n",
    "quad = {}\n",
    "penalty_weight = 1\n",
    "for i in range(1,N+1):\n",
    "        for j in range(1,N+1):\n",
    "            for k1 in range(1,N+1):  \n",
    "                    var_1 = encode_var_labels(i,j,k1)\n",
    "                    for k2 in range(1,N+1):\n",
    "                            var_2 = encode_var_labels(i,j,k2)\n",
    "                            if var_1 == var_2:\n",
    "                                linear[var_1] = -1*penalty_weight\n",
    "                            else:\n",
    "                                quad[var_1,var_2]= 2*penalty_weight\n",
    "                        #linear[var_1] = 2\n",
    "                    \n",
    "            constant+=1\n",
    "            \n",
    "\n",
    "cell_qubo[()] = constant*penalty_weight\n",
    "cell_qubo[\"linear\"] = linear\n",
    "cell_qubo[\"quadratic\"] = quad\n",
    "\n",
    "#bqm = dimod.BinaryQuadraticModel(cell_qubo,constant,dimod.Vartype.BINARY)"
   ]
  },
  {
   "cell_type": "code",
   "execution_count": 61,
   "metadata": {},
   "outputs": [],
   "source": [
    "penalty_weight=1\n",
    "constant = 0\n",
    "N = 4\n",
    "column_qubo = {}\n",
    "lin_column={}\n",
    "quad_column={}\n",
    "binary_board = encode_board_to_binary(board)\n",
    "for k in range(1,N):\n",
    "        for j in range(1,N):\n",
    "            for i1 in range(1,N):\n",
    "                var_1 = encode_var_labels(i1,j,k)\n",
    "                for i2 in range(1,N):               \n",
    "                    var_2 = encode_var_labels(i2,j,k)\n",
    "                    if var_1 == var_2:\n",
    "                        lin_column[var_1] = -1*penalty_weight\n",
    "                    else:\n",
    "                        quad_column[var_1,var_2] = 2*penalty_weight\n",
    "        constant+=1\n",
    "        \n",
    "column_qubo[()] = constant*penalty_weight\n",
    "column_qubo['linear'] = lin_column\n",
    "column_qubo['quadratic'] = quad_column"
   ]
  },
  {
   "cell_type": "code",
   "execution_count": 62,
   "metadata": {},
   "outputs": [],
   "source": [
    "constant = 0\n",
    "N = 4\n",
    "row_qubo = {}\n",
    "linear_row ={}\n",
    "quadratic_row={}\n",
    "penalty_weight=2\n",
    "binary_board = encode_board_to_binary(board)\n",
    "for k in range(1,N):\n",
    "        for i in range(1,N):\n",
    "            for j1 in range(1,N):\n",
    "                var_1 = encode_var_labels(i,j1,k)\n",
    "                for j2 in range(1,N):      \n",
    "                    var_2 = encode_var_labels(i,j2,k)\n",
    "                    if var_1 == var_2:\n",
    "                        linear_row[var_1] = -1*penalty_weight\n",
    "                    else:\n",
    "                        quadratic_row[var_1, var_2] = 2*penalty_weight\n",
    "        constant+=1\n",
    "        \n",
    "row_qubo[()] = constant*penalty_weight\n",
    "row_qubo['linear'] = linear_row\n",
    "row_qubo['quadratic'] = quadratic_row"
   ]
  },
  {
   "cell_type": "code",
   "execution_count": 63,
   "metadata": {},
   "outputs": [],
   "source": [
    "binary_board = encode_board_to_binary(board)\n",
    "hint = []\n",
    "penalty_weight = 4\n",
    "\n",
    "for k, color in enumerate(binary_board):\n",
    "    for i, row in enumerate(color):\n",
    "        for j, cell in enumerate(row):\n",
    "            if cell>0:\n",
    "                hint.append([i+1,j+1,k+1])\n",
    "                \n",
    "hint_qubo = {}\n",
    "constant=0\n",
    "for (i, j, k) in hint:\n",
    "    re_label = encode_var_labels(i,j,k) \n",
    "    hint_qubo[re_label] = -1*penalty_weight\n",
    "    constant += 1\n",
    "\n",
    "hint_qubo[()] = constant*penalty_weight\n"
   ]
  },
  {
   "cell_type": "code",
   "execution_count": 130,
   "metadata": {},
   "outputs": [],
   "source": [
    "from math import sqrt\n",
    "constant = 0\n",
    "N = 4\n",
    "duplicate_qubo = {}\n",
    "dupli_linear = {}\n",
    "dupli_quadr = {}\n",
    "sqrtN = int(sqrt(N))\n",
    "for grid_i in range(sqrtN):\n",
    "    for grid_j in range(sqrtN):\n",
    "        for k in range(N):\n",
    "            # there can be only one k in the same subgrid.\n",
    "            for i1 in range(grid_i * 2, grid_i * 2 + 2):\n",
    "                for j1 in range(grid_j * 2, grid_j * 2 + 2):\n",
    "                    for i2 in range(grid_i * 2, grid_i * 2 + 2):\n",
    "                        var_1 = encode_var_labels(i1+1,j1+1,k+1)\n",
    "                        for j2 in range(grid_j * 2, grid_j * 2 + 2):\n",
    "                            var_2 = encode_var_labels(i2+1,j2+1,k+1)\n",
    "                            if var_1 == var_2:\n",
    "                                dupli_linear[var_1] = -1\n",
    "                            else:\n",
    "                                dupli_quadr[var_1,var_2] = 1\n",
    "            constant+=1\n",
    "\n",
    "            \n",
    "duplicate_qubo[()] = constant\n",
    "duplicate_qubo['linear'] = dupli_linear\n",
    "duplicate_qubo['quadratic'] = dupli_quadr"
   ]
  },
  {
   "cell_type": "code",
   "execution_count": 131,
   "metadata": {},
   "outputs": [],
   "source": [
    "result_qubo_linear = {}\n",
    "result_qubo_quadratic = {}"
   ]
  },
  {
   "cell_type": "code",
   "execution_count": 132,
   "metadata": {},
   "outputs": [],
   "source": [
    "for index, value in hint_qubo.items():\n",
    "    if result_qubo_linear.get(index):\n",
    "        result_qubo_linear[index] += value\n",
    "        \n",
    "    else:\n",
    "        result_qubo_linear[index] = value"
   ]
  },
  {
   "cell_type": "code",
   "execution_count": 133,
   "metadata": {},
   "outputs": [],
   "source": [
    "for index, value in cell_qubo['linear'].items():\n",
    "    if result_qubo_linear.get(index):\n",
    "        result_qubo_linear[index] += value\n",
    "        \n",
    "    else:\n",
    "        result_qubo_linear[index] = value"
   ]
  },
  {
   "cell_type": "code",
   "execution_count": 134,
   "metadata": {},
   "outputs": [],
   "source": [
    "for index, value in cell_qubo['quadratic'].items():\n",
    "    if result_qubo_quadratic.get(index):\n",
    "        result_qubo_quadratic[index] += value\n",
    "        \n",
    "    else:\n",
    "        result_qubo_quadratic[index] = value"
   ]
  },
  {
   "cell_type": "code",
   "execution_count": 135,
   "metadata": {},
   "outputs": [],
   "source": [
    "for index, value in column_qubo['linear'].items():\n",
    "    if result_qubo_linear.get(index):\n",
    "        result_qubo_linear[index] += value\n",
    "    else:\n",
    "        result_qubo_linear[index] = value"
   ]
  },
  {
   "cell_type": "code",
   "execution_count": 136,
   "metadata": {},
   "outputs": [],
   "source": [
    "for index, value in column_qubo['quadratic'].items():\n",
    "    if result_qubo_quadratic.get(index):\n",
    "        result_qubo_quadratic[index] += value\n",
    "    else:\n",
    "        result_qubo_quadratic[index] = value"
   ]
  },
  {
   "cell_type": "code",
   "execution_count": 137,
   "metadata": {},
   "outputs": [],
   "source": [
    "for index, value in row_qubo['linear'].items():\n",
    "    if result_qubo_linear.get(index):\n",
    "        result_qubo_linear[index] += value\n",
    "        \n",
    "    else:\n",
    "        result_qubo_linear[index] = value"
   ]
  },
  {
   "cell_type": "code",
   "execution_count": 138,
   "metadata": {},
   "outputs": [],
   "source": [
    "for index, value in row_qubo['quadratic'].items():\n",
    "    if result_qubo_quadratic.get(index):\n",
    "        result_qubo_quadratic[index] += value\n",
    "        \n",
    "    else:\n",
    "        result_qubo_quadratic[index] = value"
   ]
  },
  {
   "cell_type": "code",
   "execution_count": 139,
   "metadata": {},
   "outputs": [],
   "source": [
    "for index, value in duplicate_qubo['linear'].items():\n",
    "    if result_qubo_linear.get(index):\n",
    "        result_qubo_linear[index] += value\n",
    "        \n",
    "    else:\n",
    "        result_qubo_linear[index] = value"
   ]
  },
  {
   "cell_type": "code",
   "execution_count": 140,
   "metadata": {},
   "outputs": [],
   "source": [
    "for index, value in duplicate_qubo['quadratic'].items():\n",
    "    if result_qubo_quadratic.get(index):\n",
    "        result_qubo_quadratic[index] += value\n",
    "        \n",
    "    else:\n",
    "        result_qubo_quadratic[index] = value"
   ]
  },
  {
   "cell_type": "code",
   "execution_count": 141,
   "metadata": {},
   "outputs": [
    {
     "data": {
      "text/plain": [
       "8.0"
      ]
     },
     "execution_count": 141,
     "metadata": {},
     "output_type": "execute_result"
    }
   ],
   "source": [
    "constant/2"
   ]
  },
  {
   "cell_type": "code",
   "execution_count": 142,
   "metadata": {},
   "outputs": [],
   "source": [
    "constant= cell_qubo.get((),0) + hint_qubo.get((),0) + row_qubo.get((),0) + column_qubo.get((),0) + duplicate_qubo.get((),0)\n",
    "bqm = dimod.BinaryQuadraticModel(result_qubo_linear,result_qubo_quadratic, constant,dimod.Vartype.BINARY)"
   ]
  },
  {
   "cell_type": "code",
   "execution_count": 143,
   "metadata": {},
   "outputs": [],
   "source": [
    "# test run\n",
    "import neal\n",
    "sampler = neal.SimulatedAnnealingSampler()\n",
    "sample_set=sampler.sample(bqm, num_reads=30,num_sweeps=2222)\n"
   ]
  },
  {
   "cell_type": "code",
   "execution_count": 144,
   "metadata": {},
   "outputs": [],
   "source": [
    "from random import randrange\n",
    "import time\n",
    "\n",
    "def find_optimal_solution(best_solution_global, current_solution, current_energy):\n",
    "    best_solution = {}\n",
    "    error_count=20\n",
    "    iteration = 0\n",
    "    sampler = neal.SimulatedAnnealingSampler()\n",
    "    start_time = time.perf_counter()\n",
    "    while error_count>0:\n",
    "        \"\"\"\n",
    "        sample_set = sampler.sample(bqm, seed=1234, beta_range=[0.1, 4.2],\n",
    "                                        num_reads=10, num_sweeps=20000,\n",
    "                                       beta_schedule_type='geometric')\n",
    "        \"\"\"\n",
    "        random_seed = randrange(9000)\n",
    "        #random_seed = 5832\n",
    "        num_reads = randrange(12000)\n",
    "        num_sweeps = randrange(60000)\n",
    "        num_reads = 5\n",
    "        num_sweeps=50\n",
    "        #num_sweeps*=iteration\n",
    "        pre_anneal = time.perf_counter()\n",
    "        sample_set=sampler.sample(bqm,seed=random_seed ,num_reads=num_reads,num_sweeps=num_sweeps)\n",
    "        iteration+=1\n",
    "        post_anneal = time.perf_counter()\n",
    "        \n",
    "        annealing_time = post_anneal-pre_anneal\n",
    "        for solution, energy in sample_set.data(['sample', 'energy']):\n",
    "            binary_solution_board= np.zeros((4, 4, 4))\n",
    "            for index, value in solution.items():\n",
    "                if type(index) is int and index>0:\n",
    "                    board_index = decode_var_labels(index)\n",
    "                    binary_solution_board[board_index[2]-1][board_index[0]-1][board_index[1]-1] = value\n",
    "            solution_board=decode_board_from_binary(binary_solution_board)\n",
    "            error_count_temp = check_sudoku(solution_board)\n",
    "            \n",
    "            \n",
    "            \n",
    "            current_solution.append(1)\n",
    "            current_energy.append(energy)\n",
    "            current_solution[:] = []\n",
    "            current_energy[:] = []\n",
    "            current_solution.append(solution)\n",
    "            current_energy.append(energy)\n",
    "            \n",
    "            \n",
    "        overall_time = time.perf_counter()-start_time\n",
    "        if error_count_temp<error_count:\n",
    "            best_solution = solution_board\n",
    "            best_solution_global.append(solution)\n",
    "            error_count=error_count_temp\n",
    "            print(\"\\nError Count:\",error_count, \"iteration:\", iteration, \"Energy:\", energy,\n",
    "                  \"Seed:\", random_seed, \"num_reads:\", num_reads, \"sweeps:\", num_sweeps, \n",
    "                 \"Annealing Time:\", annealing_time, \"Overall Time:\", overall_time)\n",
    "            \n",
    "        if iteration%100 == 0:\n",
    "            print(\"\\nCurrent State:\",\n",
    "                  \"Error Count:\",error_count_temp, \"iteration:\", iteration, \"Energy:\", energy,\n",
    "                 \"Seed:\", random_seed, \"num_reads:\", num_reads, \"sweeps:\", num_sweeps,\n",
    "                 \"Annealing Time:\", annealing_time, \"Overall Time:\", overall_time)\n",
    "            \n",
    "\n",
    "        "
   ]
  },
  {
   "cell_type": "code",
   "execution_count": 145,
   "metadata": {},
   "outputs": [
    {
     "name": "stdout",
     "output_type": "stream",
     "text": [
      "\n",
      "Error Count: 3 iteration: 1 Energy: -9.0 Seed: 8961 num_reads: 5 sweeps: 50 Annealing Time: 0.012784035003278404 Overall Time: 0.020402085996465757\n",
      "\n",
      "Error Count: 2 iteration: 2 Energy: -8.0 Seed: 3098 num_reads: 5 sweeps: 50 Annealing Time: 0.005331012012902647 Overall Time: 0.06920660199830309\n",
      "\n",
      "Error Count: 1 iteration: 8 Energy: -11.0 Seed: 2670 num_reads: 5 sweeps: 50 Annealing Time: 0.004388147994177416 Overall Time: 0.1969865029968787\n",
      "\n",
      "Error Count: 0 iteration: 52 Energy: -4.0 Seed: 4043 num_reads: 5 sweeps: 50 Annealing Time: 0.004445525992196053 Overall Time: 0.6978367549891118\n"
     ]
    }
   ],
   "source": [
    "import multiprocessing\n",
    "manager = multiprocessing.Manager()\n",
    "best_solution = manager.list()\n",
    "current_solution = manager.list()\n",
    "current_energy = manager.list()\n",
    "\n",
    "\n",
    "process = multiprocessing.Process(target=find_optimal_solution, \n",
    "            \n",
    "                                  args= (best_solution, current_solution, current_energy))\n",
    "process.start()\n",
    "\n"
   ]
  },
  {
   "cell_type": "code",
   "execution_count": 146,
   "metadata": {},
   "outputs": [
    {
     "data": {
      "text/plain": [
       "<Process name='Process-10' pid=1586124 parent=1561924 stopped exitcode=0>"
      ]
     },
     "execution_count": 146,
     "metadata": {},
     "output_type": "execute_result"
    }
   ],
   "source": [
    "import time\n",
    "time.sleep(10)\n",
    "#wait for terminating in order to have  \n",
    "#results when doing a (quick) autorun\n",
    "\n",
    "process.terminate()\n",
    "process"
   ]
  },
  {
   "cell_type": "code",
   "execution_count": 147,
   "metadata": {},
   "outputs": [],
   "source": [
    "#sample_set = list(current_solution)\n",
    "sample_set = list(best_solution)"
   ]
  },
  {
   "cell_type": "code",
   "execution_count": 148,
   "metadata": {},
   "outputs": [],
   "source": [
    "solution={}\n",
    "solution_2={}\n",
    "solution_3={}\n",
    "for number, solution in enumerate(sample_set):\n",
    "    if number==0:\n",
    "        solution = solution\n",
    "    elif number==1:\n",
    "        solution_2 = solution\n",
    "    elif number==2:\n",
    "        solution_3 = solution\n",
    "        \n",
    "    \n",
    "last_solution = solution"
   ]
  },
  {
   "cell_type": "code",
   "execution_count": 149,
   "metadata": {},
   "outputs": [],
   "source": [
    "binary_solution_board= np.zeros((4, 4, 4))\n",
    "for index, value in solution.items():\n",
    "    if type(index) is int and index>0:\n",
    "        board_index = decode_var_labels(index)\n",
    "        binary_solution_board[board_index[2]-1][board_index[0]-1][board_index[1]-1] = value\n"
   ]
  },
  {
   "cell_type": "code",
   "execution_count": 150,
   "metadata": {},
   "outputs": [
    {
     "data": {
      "text/plain": [
       "array([[4., 2., 1., 3.],\n",
       "       [3., 1., 2., 4.],\n",
       "       [1., 4., 3., 2.],\n",
       "       [2., 3., 4., 1.]])"
      ]
     },
     "execution_count": 150,
     "metadata": {},
     "output_type": "execute_result"
    }
   ],
   "source": [
    "solution_board=decode_board_from_binary(binary_solution_board)\n",
    "solution_board"
   ]
  },
  {
   "cell_type": "code",
   "execution_count": 151,
   "metadata": {},
   "outputs": [
    {
     "name": "stdout",
     "output_type": "stream",
     "text": [
      " 1  2 | -  - \n",
      " -  - | -  - \n",
      "------|------\n",
      " -  - | 1  - \n",
      " -  - | 4  - \n",
      "\n"
     ]
    }
   ],
   "source": [
    "print_board(board)"
   ]
  },
  {
   "cell_type": "code",
   "execution_count": 152,
   "metadata": {},
   "outputs": [
    {
     "name": "stdout",
     "output_type": "stream",
     "text": [
      " 4  2 | 1  3 \n",
      " 3  1 | 2  4 \n",
      "------|------\n",
      " 1  4 | 3  2 \n",
      " 2  3 | 4  1 \n",
      "\n",
      "Error Count: 0\n",
      "BQM Energy: -4.0\n"
     ]
    }
   ],
   "source": [
    "print_board(solution_board)\n",
    "print(\"Error Count:\",check_sudoku(solution_board))\n",
    "print(\"BQM Energy:\", bqm.energy(solution))"
   ]
  },
  {
   "cell_type": "code",
   "execution_count": 181,
   "metadata": {},
   "outputs": [
    {
     "name": "stdout",
     "output_type": "stream",
     "text": [
      " 4  2 | 1  3 \n",
      " 3  1 | 2  4 \n",
      "------|------\n",
      " 1  4 | 3  2 \n",
      " 2  3 | 4  1 \n",
      "\n",
      "Error Count: 0\n"
     ]
    }
   ],
   "source": [
    "binary_solution_board= np.zeros((4, 4, 4))\n",
    "for index, value in solution_2.items():\n",
    "    if type(index) is int and index>0:\n",
    "        board_index = decode_var_labels(index)\n",
    "        binary_solution_board[board_index[2]-1][board_index[0]-1][board_index[1]-1] = value\n",
    "print_board(solution_board)\n",
    "print(\"Error Count:\",check_sudoku(solution_board))"
   ]
  },
  {
   "cell_type": "code",
   "execution_count": 154,
   "metadata": {},
   "outputs": [
    {
     "name": "stdout",
     "output_type": "stream",
     "text": [
      " 4  2 | 1  3 \n",
      " 3  1 | 2  4 \n",
      "------|------\n",
      " 1  4 | 3  2 \n",
      " 2  3 | 4  1 \n",
      "\n",
      "Error Count: 0\n"
     ]
    }
   ],
   "source": [
    "binary_solution_board= np.zeros((9, 9, 9))\n",
    "for index, value in solution_3.items():\n",
    "    if type(index) is int and index>0:\n",
    "        board_index = decode_var_labels(index)\n",
    "        binary_solution_board[board_index[2]-1][board_index[0]-1][board_index[1]-1] = value\n",
    "print_board(solution_board)\n",
    "print(\"Error Count:\",check_sudoku(solution_board))"
   ]
  },
  {
   "cell_type": "code",
   "execution_count": 155,
   "metadata": {},
   "outputs": [
    {
     "data": {
      "text/plain": [
       "-4.0"
      ]
     },
     "execution_count": 155,
     "metadata": {},
     "output_type": "execute_result"
    }
   ],
   "source": [
    "bqm.energy(solution)"
   ]
  },
  {
   "cell_type": "code",
   "execution_count": 157,
   "metadata": {},
   "outputs": [
    {
     "name": "stdout",
     "output_type": "stream",
     "text": [
      "QPU Advantage_system1.1 was selected.\n"
     ]
    }
   ],
   "source": [
    "from dwave.system import DWaveSampler, EmbeddingComposite\n",
    "# Use a D-Wave system as the sampler\n",
    "sampler = DWaveSampler() \n",
    "\n",
    "print(\"QPU {} was selected.\".format(sampler.solver.name))"
   ]
  },
  {
   "cell_type": "code",
   "execution_count": 158,
   "metadata": {},
   "outputs": [],
   "source": [
    "# Set up a D-Wave system as the sampler\n",
    "sampler = EmbeddingComposite(sampler)\n"
   ]
  },
  {
   "cell_type": "code",
   "execution_count": 159,
   "metadata": {},
   "outputs": [],
   "source": [
    "bqm_graph = bqm.to_networkx_graph()"
   ]
  },
  {
   "cell_type": "code",
   "execution_count": 161,
   "metadata": {},
   "outputs": [
    {
     "name": "stdout",
     "output_type": "stream",
     "text": [
      "Number of problem nodes (variables): 65\n",
      "Number of problem edges (couplings): 228\n"
     ]
    }
   ],
   "source": [
    "print('Number of problem nodes (variables):',len(bqm_graph.nodes))\n",
    "print('Number of problem edges (couplings):',len(bqm_graph.edges))"
   ]
  },
  {
   "cell_type": "code",
   "execution_count": 162,
   "metadata": {},
   "outputs": [],
   "source": [
    "from dimod import BinaryQuadraticModel\n",
    "from dwave.embedding import embed_bqm, unembed_sampleset\n",
    "from dwave.system.samplers import DWaveSampler\n",
    "from minorminer import find_embedding\n",
    "from dwave.embedding.chain_breaks import majority_vote\n",
    "\n",
    "solver = DWaveSampler()\n",
    "\n",
    "__, target_edgelist, target_adjacency = solver.structure\n",
    "\n",
    "#bqm = BinaryQuadraticModel.from_qubo(Q)\n",
    "\n",
    "emb = find_embedding(bqm.to_qubo()[0], target_edgelist)\n",
    "\n",
    "#embedded_bqm = embed_bqm(bqm, emb, target_adjacency)\n",
    "\n",
    "#result = solver.sample(embedded_bqm, num_reads=1)\n",
    "\n",
    "#unembedded = unembed_sampleset(result, emb, bqm, chain_break_method=majority_vote(bqm, emb))"
   ]
  },
  {
   "cell_type": "code",
   "execution_count": 164,
   "metadata": {},
   "outputs": [],
   "source": [
    "embedded_bqm = embed_bqm(source_bqm=bqm,embedding=emb ,target_adjacency=target_adjacency)"
   ]
  },
  {
   "cell_type": "code",
   "execution_count": 165,
   "metadata": {},
   "outputs": [],
   "source": [
    "result = solver.sample(embedded_bqm, num_reads=1)"
   ]
  },
  {
   "cell_type": "code",
   "execution_count": 168,
   "metadata": {},
   "outputs": [],
   "source": [
    "unembedded = unembed_sampleset(result, emb, bqm, chain_break_method=majority_vote)"
   ]
  },
  {
   "cell_type": "code",
   "execution_count": 190,
   "metadata": {},
   "outputs": [
    {
     "data": {
      "text/plain": [
       "SampleSet(rec.array([([1, 1, 0, 1, 0, 0, 0, 0, 0, 0, 0, 0, 1, 1, 0, 0, 1, 0, 0, 1, 0, 0, 0, 0, 1, 1, 0, 0, 0, 0, 1, 0, 0, 0, 0, 0, 0, 0, 0, 0, 1, 0, 0, 0, 0, 1, 0, 0, 0, 0, 1, 0, 0, 0, 0, 0, 1, 1, 0, 0, 1, 0, 1, 0, 0], 21., 1)],\n",
       "          dtype=[('sample', 'i1', (65,)), ('energy', '<f8'), ('num_occurrences', '<i8')]), [1, 41, 6, 60, (), 2, 3, 4, 5, 7, 8, 9, 10, 11, 12, 13, 14, 15, 16, 17, 18, 19, 20, 21, 22, 23, 24, 25, 26, 27, 28, 29, 30, 31, 32, 33, 34, 35, 36, 37, 38, 39, 40, 42, 43, 44, 45, 46, 47, 48, 49, 50, 51, 52, 53, 54, 55, 56, 57, 58, 59, 61, 62, 63, 64], {'timing': {'qpu_sampling_time': 104, 'qpu_anneal_time_per_sample': 20, 'qpu_readout_time_per_sample': 63, 'qpu_access_time': 26160, 'qpu_access_overhead_time': 14934, 'qpu_programming_time': 26056, 'qpu_delay_time_per_sample': 21, 'total_post_processing_time': 454, 'post_processing_overhead_time': 454}, 'problem_id': 'b6aee190-a5fb-4b73-b771-ca569faf6ab2'}, 'BINARY')"
      ]
     },
     "execution_count": 190,
     "metadata": {},
     "output_type": "execute_result"
    }
   ],
   "source": [
    "unembedded"
   ]
  },
  {
   "cell_type": "code",
   "execution_count": 202,
   "metadata": {},
   "outputs": [],
   "source": [
    "d_wave_solution= unembedded.first.sample"
   ]
  },
  {
   "cell_type": "code",
   "execution_count": 204,
   "metadata": {},
   "outputs": [
    {
     "ename": "ValueError",
     "evalue": "invalid combination of arguments provided: if data capture not enabled, problem/response/solver/etc have to be explicitly specified",
     "output_type": "error",
     "traceback": [
      "\u001b[0;31m---------------------------------------------------------------------------\u001b[0m",
      "\u001b[0;31mValueError\u001b[0m                                Traceback (most recent call last)",
      "\u001b[0;32m<ipython-input-204-2512a17ea131>\u001b[0m in \u001b[0;36m<module>\u001b[0;34m\u001b[0m\n\u001b[1;32m      1\u001b[0m \u001b[0;32mimport\u001b[0m \u001b[0mdwave\u001b[0m\u001b[0;34m.\u001b[0m\u001b[0minspector\u001b[0m\u001b[0;34m\u001b[0m\u001b[0;34m\u001b[0m\u001b[0m\n\u001b[0;32m----> 2\u001b[0;31m \u001b[0mdwave\u001b[0m\u001b[0;34m.\u001b[0m\u001b[0minspector\u001b[0m\u001b[0;34m.\u001b[0m\u001b[0mshow\u001b[0m\u001b[0;34m(\u001b[0m\u001b[0mresult\u001b[0m\u001b[0;34m)\u001b[0m\u001b[0;34m\u001b[0m\u001b[0;34m\u001b[0m\u001b[0m\n\u001b[0m",
      "\u001b[0;32m~/.local/lib/python3.9/site-packages/dwave/inspector/__init__.py\u001b[0m in \u001b[0;36mshow\u001b[0;34m(*args, **kwargs)\u001b[0m\n\u001b[1;32m    176\u001b[0m     \"\"\"\n\u001b[1;32m    177\u001b[0m     \u001b[0mblock\u001b[0m \u001b[0;34m=\u001b[0m \u001b[0mkwargs\u001b[0m\u001b[0;34m.\u001b[0m\u001b[0mpop\u001b[0m\u001b[0;34m(\u001b[0m\u001b[0;34m'block'\u001b[0m\u001b[0;34m,\u001b[0m \u001b[0mBlock\u001b[0m\u001b[0;34m.\u001b[0m\u001b[0mONCE\u001b[0m\u001b[0;34m)\u001b[0m\u001b[0;34m\u001b[0m\u001b[0;34m\u001b[0m\u001b[0m\n\u001b[0;32m--> 178\u001b[0;31m     \u001b[0mdata\u001b[0m \u001b[0;34m=\u001b[0m \u001b[0mfrom_objects\u001b[0m\u001b[0;34m(\u001b[0m\u001b[0;34m*\u001b[0m\u001b[0margs\u001b[0m\u001b[0;34m,\u001b[0m \u001b[0;34m**\u001b[0m\u001b[0mkwargs\u001b[0m\u001b[0;34m)\u001b[0m\u001b[0;34m\u001b[0m\u001b[0;34m\u001b[0m\u001b[0m\n\u001b[0m\u001b[1;32m    179\u001b[0m     \u001b[0mid_\u001b[0m \u001b[0;34m=\u001b[0m \u001b[0mpush_inspector_data\u001b[0m\u001b[0;34m(\u001b[0m\u001b[0mdata\u001b[0m\u001b[0;34m)\u001b[0m\u001b[0;34m\u001b[0m\u001b[0;34m\u001b[0m\u001b[0m\n\u001b[1;32m    180\u001b[0m     \u001b[0;32mreturn\u001b[0m \u001b[0mopen_problem\u001b[0m\u001b[0;34m(\u001b[0m\u001b[0mid_\u001b[0m\u001b[0;34m,\u001b[0m \u001b[0mblock\u001b[0m\u001b[0;34m=\u001b[0m\u001b[0mblock\u001b[0m\u001b[0;34m)\u001b[0m\u001b[0;34m\u001b[0m\u001b[0;34m\u001b[0m\u001b[0m\n",
      "\u001b[0;32m~/.local/lib/python3.9/site-packages/dwave/inspector/adapters.py\u001b[0m in \u001b[0;36mfrom_objects\u001b[0;34m(*args, **kwargs)\u001b[0m\n\u001b[1;32m    841\u001b[0m             embedding_context=embedding_context, warnings=warnings)\n\u001b[1;32m    842\u001b[0m \u001b[0;34m\u001b[0m\u001b[0m\n\u001b[0;32m--> 843\u001b[0;31m     raise ValueError(\n\u001b[0m\u001b[1;32m    844\u001b[0m         \u001b[0;34m\"invalid combination of arguments provided: if data capture not \"\u001b[0m\u001b[0;34m\u001b[0m\u001b[0;34m\u001b[0m\u001b[0m\n\u001b[1;32m    845\u001b[0m         \"enabled, problem/response/solver/etc have to be explicitly specified\")\n",
      "\u001b[0;31mValueError\u001b[0m: invalid combination of arguments provided: if data capture not enabled, problem/response/solver/etc have to be explicitly specified"
     ]
    }
   ],
   "source": [
    "import dwave.inspector\n",
    "dwave.inspector.show(result)   "
   ]
  },
  {
   "cell_type": "code",
   "execution_count": 205,
   "metadata": {},
   "outputs": [
    {
     "name": "stdout",
     "output_type": "stream",
     "text": [
      " 4  2 | 1  3 \n",
      " 3  1 | 2  4 \n",
      "------|------\n",
      " 1  4 | 3  2 \n",
      " 2  3 | 4  1 \n",
      "\n",
      "Error Count: 0\n"
     ]
    }
   ],
   "source": [
    "binary_solution_board= np.zeros((4, 4, 4))\n",
    "for index, value in d_wave_solution.items():\n",
    "    if type(index) is int and index>0:\n",
    "        board_index = decode_var_labels(index)\n",
    "        binary_solution_board[board_index[2]-1][board_index[0]-1][board_index[1]-1] = value\n",
    "print_board(solution_board)\n",
    "print(\"Error Count:\",check_sudoku(solution_board))"
   ]
  },
  {
   "cell_type": "code",
   "execution_count": null,
   "metadata": {},
   "outputs": [],
   "source": []
  },
  {
   "cell_type": "code",
   "execution_count": null,
   "metadata": {},
   "outputs": [],
   "source": []
  }
 ],
 "metadata": {
  "kernelspec": {
   "display_name": "Python 3",
   "language": "python",
   "name": "python3"
  },
  "language_info": {
   "codemirror_mode": {
    "name": "ipython",
    "version": 3
   },
   "file_extension": ".py",
   "mimetype": "text/x-python",
   "name": "python",
   "nbconvert_exporter": "python",
   "pygments_lexer": "ipython3",
   "version": "3.9.1"
  }
 },
 "nbformat": 4,
 "nbformat_minor": 4
}

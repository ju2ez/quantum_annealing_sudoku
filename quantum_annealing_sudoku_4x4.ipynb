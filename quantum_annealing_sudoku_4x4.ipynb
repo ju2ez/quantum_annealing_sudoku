{
 "cells": [
  {
   "cell_type": "markdown",
   "metadata": {},
   "source": [
    "# Solving a 4x4 grid cell Sudoku with the latest D-Wave Quantum Annealer via Cloud (D-Wave leap)"
   ]
  },
  {
   "cell_type": "code",
   "execution_count": 1,
   "metadata": {},
   "outputs": [],
   "source": [
    "# for classical solver (simulated annealing)\n",
    "import dimod\n",
    "import operator\n",
    "import dwavebinarycsp\n",
    "import numpy as np\n",
    "import math\n",
    "import os\n",
    "import json"
   ]
  },
  {
   "cell_type": "code",
   "execution_count": 2,
   "metadata": {},
   "outputs": [],
   "source": [
    "from datetime import datetime\n",
    "from quantum_annealing_sudoku import quantum_annealing_sudoku\n",
    "from quantum_annealing_sudoku.label_encoder import encode_var_labels, decode_var_labels"
   ]
  },
  {
   "cell_type": "code",
   "execution_count": 3,
   "metadata": {},
   "outputs": [],
   "source": [
    "log_parent_dir = 'data/'\n",
    "start_time_str = datetime.today().strftime('%d_%m_%Y__%H_%M_%S')\n",
    "log_dir = log_parent_dir+f\"log_{start_time_str}\"\n",
    "os.mkdir(log_dir)\n",
    "# This will generate a folder named something like log_14_04_2020__19_46_06"
   ]
  },
  {
   "cell_type": "code",
   "execution_count": 4,
   "metadata": {},
   "outputs": [],
   "source": [
    "class QA_AnnealingParameters(): \n",
    "    embdding = {}\n",
    "    num_reads = int \n",
    "    bqm = {}\n",
    "    sampler_properties = {}\n",
    "    result = {}\n",
    "    \n",
    "class SA_AnnealingParameters(): \n",
    "    random_sett = int\n",
    "    num_reads = int \n",
    "    num_sweeps = int\n",
    "    annealing_time = float\n",
    "    sample_set = {}\n",
    "        \n",
    "\n",
    "# params for logging\n",
    "params_qa = QA_AnnealingParameters()\n",
    "params_sa = SA_AnnealingParameters()"
   ]
  },
  {
   "cell_type": "code",
   "execution_count": 5,
   "metadata": {},
   "outputs": [],
   "source": [
    "sudoku_4x4 = quantum_annealing_sudoku.QuantumAnnealingSudoku(grid_9x9 = False)\n",
    "\n",
    "\n",
    "#get some function shortcuts for better readability \n",
    "check_sudoku = sudoku_4x4.check_sudoku\n",
    "encode_board_to_binary = sudoku_4x4.encode_board_to_binary\n",
    "decode_board_from_binary = sudoku_4x4.decode_board_from_binary\n",
    "print_board = sudoku_4x4.print_board"
   ]
  },
  {
   "cell_type": "code",
   "execution_count": 6,
   "metadata": {},
   "outputs": [
    {
     "name": "stdout",
     "output_type": "stream",
     "text": [
      " 1  2 | -  - \n",
      " -  - | -  - \n",
      "------|------\n",
      " -  - | 1  - \n",
      " -  - | 4  - \n",
      "\n"
     ]
    }
   ],
   "source": [
    "board = ((1,2,0,0),\n",
    "         (0,0,0,0),\n",
    "         (0,0,1,0),\n",
    "         (0,0,4,0),\n",
    ")\n",
    "sudoku_4x4.print_board((board))"
   ]
  },
  {
   "cell_type": "code",
   "execution_count": 7,
   "metadata": {},
   "outputs": [
    {
     "name": "stdout",
     "output_type": "stream",
     "text": [
      " 1  2 | 3  4 \n",
      " 4  3 | 2  1 \n",
      "------|------\n",
      " 2  1 | 4  3 \n",
      " 3  4 | 1  2 \n",
      "\n"
     ]
    }
   ],
   "source": [
    "correct_board = ((1,2,3,4),\n",
    "         (4,3,2,1),\n",
    "         (2,1,4,3),\n",
    "         (3,4,1,2),\n",
    ")\n",
    "sudoku_4x4.print_board(correct_board)"
   ]
  },
  {
   "cell_type": "code",
   "execution_count": 8,
   "metadata": {},
   "outputs": [
    {
     "name": "stdout",
     "output_type": "stream",
     "text": [
      "Error Count:  0\n",
      "Error Count:  6\n"
     ]
    }
   ],
   "source": [
    "# check if the solution check works\n",
    "print('Error Count: ',sudoku_4x4.check_sudoku(correct_board))\n",
    "print('Error Count: ',sudoku_4x4.check_sudoku(board))"
   ]
  },
  {
   "cell_type": "markdown",
   "metadata": {},
   "source": [
    "The QUBO for restricting the amount of numbers in a cell reads:\n",
    "\n",
    "$$\\alpha\\sum_{i=1}^{N} \\sum_{j=1}^{N} (\\sum_{k=1}^{N} x_{ijk}-1)^2  $$\n",
    "\n",
    "with N being number of rows, columns, and possible numbers.\n",
    "$\\alpha$ is a penalty weight. We set an offset of 1 in order to compensate the starting by zero whereas Sudoku board starts counting at 1."
   ]
  },
  {
   "cell_type": "code",
   "execution_count": 9,
   "metadata": {},
   "outputs": [],
   "source": [
    "constant = 0\n",
    "N = 4\n",
    "cell_qubo = {}\n",
    "linear = {}\n",
    "quad = {}\n",
    "penalty_weight = 1\n",
    "for i in range(1,N+1):\n",
    "        for j in range(1,N+1):\n",
    "            for k1 in range(1,N+1):  \n",
    "                    var_1 = encode_var_labels(i,j,k1)\n",
    "                    for k2 in range(1,N+1):\n",
    "                            var_2 = encode_var_labels(i,j,k2)\n",
    "                            if var_1 == var_2:\n",
    "                                linear[var_1] = -1*penalty_weight\n",
    "                            else:\n",
    "                                quad[var_1,var_2]= 2*penalty_weight\n",
    "                        #linear[var_1] = 2\n",
    "                    \n",
    "            constant+=1\n",
    "            \n",
    "\n",
    "cell_qubo[()] = constant*penalty_weight\n",
    "cell_qubo[\"linear\"] = linear\n",
    "cell_qubo[\"quadratic\"] = quad\n",
    "\n",
    "#bqm = dimod.BinaryQuadraticModel(cell_qubo,constant,dimod.Vartype.BINARY)"
   ]
  },
  {
   "cell_type": "markdown",
   "metadata": {},
   "source": [
    "Each column j can have not any duplicate number: \n",
    "\n",
    "$$\\alpha\\sum_{k=1}^{N} \\sum_{j=1}^{N} (\\sum_{i=1}^{N} x_{ijk}-1)^2  $$\n"
   ]
  },
  {
   "cell_type": "code",
   "execution_count": 10,
   "metadata": {},
   "outputs": [],
   "source": [
    "penalty_weight=1\n",
    "constant = 0\n",
    "N = 4\n",
    "column_qubo = {}\n",
    "lin_column={}\n",
    "quad_column={}\n",
    "binary_board = sudoku_4x4.encode_board_to_binary(board)\n",
    "for k in range(1,N+1):\n",
    "        for j in range(1,N+1):\n",
    "            for i1 in range(1,N+1):\n",
    "                var_1 = encode_var_labels(i1,j,k)\n",
    "                for i2 in range(1,N+1):               \n",
    "                    var_2 = encode_var_labels(i2,j,k)\n",
    "                    if var_1 == var_2:\n",
    "                        lin_column[var_1] = -1*penalty_weight\n",
    "                    else:\n",
    "                        quad_column[var_1,var_2] = 2*penalty_weight\n",
    "        constant+=1\n",
    "        \n",
    "column_qubo[()] = constant*penalty_weight\n",
    "column_qubo['linear'] = lin_column\n",
    "column_qubo['quadratic'] = quad_column"
   ]
  },
  {
   "cell_type": "markdown",
   "metadata": {},
   "source": [
    "Each row i can have not any duplicate number: \n",
    "\n",
    "$$\\alpha\\sum_{k=1}^{N} \\sum_{i=1}^{N} (\\sum_{j=1}^{N} x_{ijk}-1)^2  $$\n"
   ]
  },
  {
   "cell_type": "code",
   "execution_count": 11,
   "metadata": {},
   "outputs": [],
   "source": [
    "constant = 0\n",
    "N = 4\n",
    "row_qubo = {}\n",
    "linear_row ={}\n",
    "quadratic_row={}\n",
    "penalty_weight=2\n",
    "binary_board = sudoku_4x4.encode_board_to_binary(board)\n",
    "for k in range(1,N):\n",
    "        for i in range(1,N+1):\n",
    "            for j1 in range(1,N+1):\n",
    "                var_1 = encode_var_labels(i,j1,k)\n",
    "                for j2 in range(1,N+1):      \n",
    "                    var_2 = encode_var_labels(i,j2,k)\n",
    "                    if var_1 == var_2:\n",
    "                        linear_row[var_1] = -1*penalty_weight\n",
    "                    else:\n",
    "                        quadratic_row[var_1, var_2] = 2*penalty_weight\n",
    "        constant+=1\n",
    "        \n",
    "row_qubo[()] = constant*penalty_weight\n",
    "row_qubo['linear'] = linear_row\n",
    "row_qubo['quadratic'] = quadratic_row"
   ]
  },
  {
   "cell_type": "markdown",
   "metadata": {},
   "source": [
    "Initial numbers given as a hint cannot be changed: \n",
    "\n",
    "$$2\\alpha\\sum_{hint}(1- x_{ijk}) $$\n"
   ]
  },
  {
   "cell_type": "code",
   "execution_count": 12,
   "metadata": {},
   "outputs": [],
   "source": [
    "binary_board = sudoku_4x4.encode_board_to_binary(board)\n",
    "hint = []\n",
    "penalty_weight = 4\n",
    "\n",
    "for k, color in enumerate(binary_board):\n",
    "    for i, row in enumerate(color):\n",
    "        for j, cell in enumerate(row):\n",
    "            if cell>0:\n",
    "                hint.append([i+1,j+1,k+1])\n",
    "                \n",
    "hint_qubo_linear = {}\n",
    "hint_qubo = {}\n",
    "constant=2\n",
    "for (i, j, k) in hint:\n",
    "    re_label = encode_var_labels(i,j,k) \n",
    "    hint_qubo_linear[re_label] = -1*penalty_weight\n",
    "    constant += 1\n",
    "\n",
    "hint_qubo[()] = constant*penalty_weight\n",
    "hint_qubo['linear'] = hint_qubo_linear"
   ]
  },
  {
   "cell_type": "markdown",
   "metadata": {},
   "source": [
    "Each of the nine 3x3 sub-squares can not have a duplicate number:\n",
    "\n",
    "\n",
    "\n",
    "$\\alpha\\sum_{k=1}^{N} (\\sum_{j=1}^{2} \\sum_{i=1}^{2} x_{(i+v)(j+v)k}-1)^2  $\n",
    "\n",
    "$ u, v \\in \\{0,3,6\\}$ : offset to each grid\n"
   ]
  },
  {
   "cell_type": "code",
   "execution_count": 13,
   "metadata": {},
   "outputs": [],
   "source": [
    "from math import sqrt\n",
    "constant = 0\n",
    "N = 4\n",
    "duplicate_qubo = {}\n",
    "dupli_linear = {}\n",
    "dupli_quadr = {}\n",
    "sqrtN = int(sqrt(N))\n",
    "for grid_i in range(sqrtN):\n",
    "    for grid_j in range(sqrtN):\n",
    "        for k in range(N):\n",
    "            # there can be only one k in the same subgrid.\n",
    "            for i1 in range(grid_i * 2, grid_i * 2 + 2):\n",
    "                for j1 in range(grid_j * 2, grid_j * 2 + 2):\n",
    "                    for i2 in range(grid_i * 2, grid_i * 2 + 2):\n",
    "                        var_1 = encode_var_labels(i1+1,j1+1,k+1)\n",
    "                        for j2 in range(grid_j * 2, grid_j * 2 + 2):\n",
    "                            var_2 = encode_var_labels(i2+1,j2+1,k+1)\n",
    "                            if var_1 == var_2:\n",
    "                                dupli_linear[var_1] = -1\n",
    "                            else:\n",
    "                                dupli_quadr[var_1,var_2] = 1\n",
    "            constant+=1\n",
    "\n",
    "            \n",
    "duplicate_qubo[()] = constant\n",
    "duplicate_qubo['linear'] = dupli_linear\n",
    "duplicate_qubo['quadratic'] = dupli_quadr"
   ]
  },
  {
   "cell_type": "code",
   "execution_count": 14,
   "metadata": {},
   "outputs": [],
   "source": [
    "def append_linear(result_qubo_linear, qubo):    \n",
    "    if not qubo.get('linear'):\n",
    "        return result_qubo_linear\n",
    "    for index, value in qubo['linear'].items():\n",
    "        if result_qubo_linear.get(index):\n",
    "            result_qubo_linear[index] += value     \n",
    "        else:\n",
    "            result_qubo_linear[index] = value\n",
    "            \n",
    "    return result_qubo_linear\n",
    "            \n",
    "def append_quadratic(result_qubo_quadratic, qubo):    \n",
    "    if not qubo.get('quadratic'):\n",
    "        return result_qubo_quadratic\n",
    "    for index, value in qubo['quadratic'].items():\n",
    "        if result_qubo_quadratic.get(index):\n",
    "            result_qubo_quadratic[index] += value \n",
    "        else:\n",
    "            result_qubo_quadratic[index] = value\n",
    "            \n",
    "    return result_qubo_quadratic\n",
    "            "
   ]
  },
  {
   "cell_type": "code",
   "execution_count": 15,
   "metadata": {},
   "outputs": [],
   "source": [
    "# qubos that are needed to achieve the constraints\n",
    "qubos=[cell_qubo, column_qubo, row_qubo, hint_qubo, duplicate_qubo]"
   ]
  },
  {
   "cell_type": "markdown",
   "metadata": {},
   "source": [
    "The final QUBO reads:\n",
    "\n",
    "$$ Q_{final} = \\alpha\\sum_{i=1}^{N} \\sum_{j=1}^{N} (\\sum_{k=1}^{N} x_{ijk}-1)^2 + \\beta\\sum_{k=1}^{N} \\sum_{j=1}^{N} (\\sum_{i=1}^{N} x_{ijk}-1)^2 \n",
    "+ \\gamma\\sum_{k=1}^{N} \\sum_{i=1}^{N} (\\sum_{j=1}^{N} x_{ijk}-1)^2 \n",
    "+ 2\\theta\\sum_{hint}(1- x_{ijk}) \n",
    "\\\\ + \\epsilon\\sum_{k=1}^{N} (\\sum_{j=1}^{2} \\sum_{i=1}^{2} x_{(i+v)(j+v)k}-1)^2$$\n",
    "\n",
    "\n",
    "\n",
    "With $x_{ijk} \\in \\{0,1\\}$ and $i,j,k \\in \\{1..9\\}$"
   ]
  },
  {
   "cell_type": "code",
   "execution_count": 16,
   "metadata": {},
   "outputs": [],
   "source": [
    "result_qubo_linear = {}\n",
    "result_qubo_quadratic = {}\n",
    "for qubo in qubos:    \n",
    "    if qubo is not None:\n",
    "        result_qubo_linear = append_linear(result_qubo_linear, qubo)\n",
    "        result_qubo_quadratic = append_quadratic(result_qubo_quadratic, qubo)"
   ]
  },
  {
   "cell_type": "code",
   "execution_count": 17,
   "metadata": {},
   "outputs": [],
   "source": [
    "constant= cell_qubo.get((),0) + hint_qubo.get((),0) + row_qubo.get((),0) + column_qubo.get((),0) + duplicate_qubo.get((),0)\n",
    "bqm = dimod.BinaryQuadraticModel(result_qubo_linear,result_qubo_quadratic, constant,dimod.Vartype.BINARY)"
   ]
  },
  {
   "cell_type": "code",
   "execution_count": 18,
   "metadata": {},
   "outputs": [],
   "source": [
    "# test run\n",
    "import neal\n",
    "sampler = neal.SimulatedAnnealingSampler()\n",
    "sample_set=sampler.sample(bqm, num_reads=30,num_sweeps=2222)\n"
   ]
  },
  {
   "cell_type": "code",
   "execution_count": 19,
   "metadata": {},
   "outputs": [],
   "source": [
    "from random import randrange\n",
    "import time\n",
    "\n",
    "def find_optimal_solution(best_solution_global, current_solution, current_energy, \n",
    "                          sa_sample_set):\n",
    "    best_solution = {}\n",
    "    error_count=20\n",
    "    iteration = 0\n",
    "    sampler = neal.SimulatedAnnealingSampler()\n",
    "    start_time = time.perf_counter()\n",
    "    while error_count>0:\n",
    "        \"\"\"\n",
    "        sample_set = sampler.sample(bqm, seed=1234, beta_range=[0.1, 4.2],\n",
    "                                        num_reads=10, num_sweeps=20000,\n",
    "                                       beta_schedule_type='geometric')\n",
    "        \"\"\"\n",
    "        random_seed = randrange(9000)\n",
    "        #random_seed = 5832\n",
    "        #num_reads = randrange(12000)\n",
    "        num_sweeps = randrange(6000)\n",
    "        num_reads = 1000 \n",
    "        #num_sweeps= 50\n",
    "        #num_sweeps*=iteration\n",
    "        pre_anneal = time.perf_counter()\n",
    "        sample_set=sampler.sample(bqm,seed=random_seed ,num_reads=num_reads,num_sweeps=num_sweeps)\n",
    "        post_anneal = time.perf_counter()\n",
    "        annealing_time = post_anneal-pre_anneal\n",
    "        iteration+=1\n",
    "        sa_sample = sample_set.copy()\n",
    "        sa_sample.info.update({'annealing_time':annealing_time})\n",
    "        sa_sample_set.append(sa_sample)\n",
    "        \n",
    "        params_sa.num_reads = num_reads\n",
    "        params_sa.num_sweeps = num_sweeps\n",
    "        params_sa.random_seed = random_seed\n",
    "        params_sa.annealing_time = annealing_time\n",
    "        params_sa.sa_sample_set = sample_set.to_serializable()\n",
    "        \n",
    "        sorted_params_dict_sa = {k: params_sa.__dict__[k] for k \n",
    "                      in sorted(params_sa.__dict__.keys())}\n",
    "        \n",
    "        lowest_energy = sample_set.first.energy\n",
    "        \n",
    "        params_filepath_sa = os.path.join(log_dir, 'params_sa_'+str(iteration)+'_'+str(lowest_energy)+\"_\"+str(num_reads)+'.json')\n",
    "        json.dump(sorted_params_dict_sa, open(params_filepath_sa, 'w'), indent=4)\n",
    "\n",
    "\n",
    "        for solution, energy in sample_set.data(['sample', 'energy']):\n",
    "            binary_solution_board= np.zeros((4, 4, 4))\n",
    "            for index, value in solution.items():\n",
    "                if type(index) is int and index>0:\n",
    "                    board_index = decode_var_labels(index)\n",
    "                    binary_solution_board[board_index[2]-1][board_index[0]-1][board_index[1]-1] = value\n",
    "            solution_board=decode_board_from_binary(binary_solution_board)\n",
    "            error_count_temp = check_sudoku(solution_board)\n",
    "            \n",
    "            \n",
    "            \n",
    "            current_solution.append(1)\n",
    "            current_energy.append(energy)\n",
    "            current_solution[:] = []\n",
    "            current_energy[:] = []\n",
    "            current_solution.append(solution)\n",
    "            current_energy.append(energy)\n",
    "            \n",
    "            \n",
    "        overall_time = time.perf_counter()-start_time\n",
    "        if error_count_temp<error_count:\n",
    "            best_solution = solution_board\n",
    "            best_solution_global.append(solution)\n",
    "            error_count=error_count_temp\n",
    "            print(\"\\nError Count:\",error_count, \"iteration:\", iteration, \"Energy:\", energy,\n",
    "                  \"Seed:\", random_seed, \"num_reads:\", num_reads, \"sweeps:\", num_sweeps, \n",
    "                 \"Annealing Time:\", annealing_time, \"Overall Time:\", overall_time)\n",
    "            \n",
    "        if iteration%100 == 0:\n",
    "            print(\"\\nCurrent State:\",\n",
    "                  \"Error Count:\",error_count_temp, \"iteration:\", iteration, \"Energy:\", energy,\n",
    "                 \"Seed:\", random_seed, \"num_reads:\", num_reads, \"sweeps:\", num_sweeps,\n",
    "                 \"Annealing Time:\", annealing_time, \"Overall Time:\", overall_time)\n",
    "            \n",
    "\n",
    "            \n",
    "    return sample_set\n",
    "        "
   ]
  },
  {
   "cell_type": "code",
   "execution_count": 20,
   "metadata": {},
   "outputs": [
    {
     "name": "stdout",
     "output_type": "stream",
     "text": [
      "\n",
      "Error Count: 3 iteration: 1 Energy: -10.0 Seed: 2151 num_reads: 1000 sweeps: 1461 Annealing Time: 1.741178756001318 Overall Time: 3.886241633001191\n",
      "\n",
      "Error Count: 0 iteration: 2 Energy: -10.0 Seed: 8688 num_reads: 1000 sweeps: 3958 Annealing Time: 4.681738432998827 Overall Time: 10.610220945000037\n"
     ]
    }
   ],
   "source": [
    "import multiprocessing\n",
    "manager = multiprocessing.Manager()\n",
    "best_solution = manager.list()\n",
    "current_solution = manager.list()\n",
    "current_energy = manager.list()\n",
    "sa_sample_set = manager.list()\n",
    "\n",
    "process = multiprocessing.Process(target=find_optimal_solution, \n",
    "            \n",
    "                                  args= (best_solution, current_solution, \n",
    "                                         current_energy, sa_sample_set))\n",
    "process.start()\n",
    "\n"
   ]
  },
  {
   "cell_type": "code",
   "execution_count": 21,
   "metadata": {},
   "outputs": [
    {
     "data": {
      "text/plain": [
       "<Process name='Process-2' pid=13163 parent=13133 stopped exitcode=0>"
      ]
     },
     "execution_count": 21,
     "metadata": {},
     "output_type": "execute_result"
    }
   ],
   "source": [
    "import time\n",
    "time.sleep(30)\n",
    "#wait with process terminating; in order to have  \n",
    "#results when doing a (quick) autorun\n",
    "\n",
    "process.terminate()\n",
    "process"
   ]
  },
  {
   "cell_type": "code",
   "execution_count": 22,
   "metadata": {},
   "outputs": [],
   "source": [
    "#sample_set = list(current_solution)\n",
    "sample_set_simulated_annealing = list(best_solution)"
   ]
  },
  {
   "cell_type": "code",
   "execution_count": 23,
   "metadata": {},
   "outputs": [
    {
     "data": {
      "text/plain": [
       "{'beta_range': [0.02829172165550797, 9.210340371976184],\n",
       " 'beta_schedule_type': 'geometric',\n",
       " 'annealing_time': 1.741178756001318}"
      ]
     },
     "execution_count": 23,
     "metadata": {},
     "output_type": "execute_result"
    }
   ],
   "source": [
    "sa_sample_set[0].info"
   ]
  },
  {
   "cell_type": "code",
   "execution_count": 24,
   "metadata": {},
   "outputs": [],
   "source": [
    "solution={}\n",
    "solution_2={}\n",
    "solution_3={}\n",
    "for number, solution in enumerate(sample_set_simulated_annealing):\n",
    "    if number==0:\n",
    "        solution = solution\n",
    "    elif number==1:\n",
    "        solution_2 = solution\n",
    "    elif number==2:\n",
    "        solution_3 = solution\n",
    "        \n",
    "    \n",
    "last_solution = solution"
   ]
  },
  {
   "cell_type": "code",
   "execution_count": 25,
   "metadata": {},
   "outputs": [],
   "source": [
    "binary_solution_board= np.zeros((4, 4, 4))\n",
    "for index, value in solution.items():\n",
    "    if type(index) is int and index>0:\n",
    "        board_index = decode_var_labels(index)\n",
    "        binary_solution_board[board_index[2]-1][board_index[0]-1][board_index[1]-1] = value\n"
   ]
  },
  {
   "cell_type": "code",
   "execution_count": 26,
   "metadata": {},
   "outputs": [
    {
     "data": {
      "text/plain": [
       "array([[2., 3., 1., 4.],\n",
       "       [1., 4., 2., 3.],\n",
       "       [4., 2., 3., 1.],\n",
       "       [3., 1., 4., 2.]])"
      ]
     },
     "execution_count": 26,
     "metadata": {},
     "output_type": "execute_result"
    }
   ],
   "source": [
    "solution_board=decode_board_from_binary(binary_solution_board)\n",
    "solution_board"
   ]
  },
  {
   "cell_type": "code",
   "execution_count": 27,
   "metadata": {},
   "outputs": [
    {
     "name": "stdout",
     "output_type": "stream",
     "text": [
      " 1  2 | -  - \n",
      " -  - | -  - \n",
      "------|------\n",
      " -  - | 1  - \n",
      " -  - | 4  - \n",
      "\n"
     ]
    }
   ],
   "source": [
    "print_board(board)"
   ]
  },
  {
   "cell_type": "code",
   "execution_count": 28,
   "metadata": {},
   "outputs": [
    {
     "name": "stdout",
     "output_type": "stream",
     "text": [
      " 2  3 | 1  4 \n",
      " 1  4 | 2  3 \n",
      "------|------\n",
      " 4  2 | 3  1 \n",
      " 3  1 | 4  2 \n",
      "\n",
      "Error Count: 0\n",
      "BQM Energy: -10.0\n"
     ]
    }
   ],
   "source": [
    "sudoku_4x4.print_board(solution_board)\n",
    "print(\"Error Count:\",sudoku_4x4.check_sudoku(solution_board))\n",
    "print(\"BQM Energy:\", bqm.energy(solution))"
   ]
  },
  {
   "cell_type": "code",
   "execution_count": 29,
   "metadata": {},
   "outputs": [
    {
     "name": "stdout",
     "output_type": "stream",
     "text": [
      " 2  3 | 1  4 \n",
      " 1  4 | 2  3 \n",
      "------|------\n",
      " 4  2 | 3  1 \n",
      " 3  1 | 4  2 \n",
      "\n",
      "Error Count: 0\n"
     ]
    }
   ],
   "source": [
    "binary_solution_board= np.zeros((4, 4, 4))\n",
    "for index, value in solution_2.items():\n",
    "    if type(index) is int and index>0:\n",
    "        board_index = decode_var_labels(index)\n",
    "        binary_solution_board[board_index[2]-1][board_index[0]-1][board_index[1]-1] = value\n",
    "sudoku_4x4.print_board(solution_board)\n",
    "print(\"Error Count:\",sudoku_4x4.check_sudoku(solution_board))"
   ]
  },
  {
   "cell_type": "code",
   "execution_count": 30,
   "metadata": {},
   "outputs": [
    {
     "name": "stdout",
     "output_type": "stream",
     "text": [
      " 2  3 | 1  4 \n",
      " 1  4 | 2  3 \n",
      "------|------\n",
      " 4  2 | 3  1 \n",
      " 3  1 | 4  2 \n",
      "\n",
      "Error Count: 0\n"
     ]
    }
   ],
   "source": [
    "binary_solution_board= np.zeros((9, 9, 9))\n",
    "for index, value in solution_3.items():\n",
    "    if type(index) is int and index>0:\n",
    "        board_index = decode_var_labels(index)\n",
    "        binary_solution_board[board_index[2]-1][board_index[0]-1][board_index[1]-1] = value\n",
    "print_board(solution_board)\n",
    "print(\"Error Count:\",check_sudoku(solution_board))"
   ]
  },
  {
   "cell_type": "code",
   "execution_count": 31,
   "metadata": {},
   "outputs": [
    {
     "data": {
      "text/plain": [
       "-10.0"
      ]
     },
     "execution_count": 31,
     "metadata": {},
     "output_type": "execute_result"
    }
   ],
   "source": [
    "bqm.energy(solution)"
   ]
  },
  {
   "cell_type": "code",
   "execution_count": 32,
   "metadata": {},
   "outputs": [
    {
     "name": "stdout",
     "output_type": "stream",
     "text": [
      " 2  3 | 1  4 \n",
      " 1  4 | 2  3 \n",
      "------|------\n",
      " 4  2 | 3  1 \n",
      " 3  1 | 4  2 \n",
      "\n",
      "Error Count: 0\n"
     ]
    }
   ],
   "source": [
    "binary_solution_board= np.zeros((4, 4, 4))\n",
    "for index, value in sa_sample_set[0].first.sample.items():\n",
    "    if type(index) is int and index>0:\n",
    "        board_index = decode_var_labels(index)\n",
    "        binary_solution_board[board_index[2]-1][board_index[0]-1][board_index[1]-1] = value\n",
    "print_board(solution_board)\n",
    "print(\"Error Count:\",check_sudoku(solution_board))"
   ]
  },
  {
   "cell_type": "code",
   "execution_count": 33,
   "metadata": {},
   "outputs": [],
   "source": [
    "sa_sample_df = sa_sample_set[0].to_pandas_dataframe()\n",
    "annealing_time = sa_sample_set[0].info['annealing_time']\n",
    "sa_sample_df['annealing_time'] = annealing_time"
   ]
  },
  {
   "cell_type": "code",
   "execution_count": 34,
   "metadata": {},
   "outputs": [
    {
     "data": {
      "text/html": [
       "<div>\n",
       "<style scoped>\n",
       "    .dataframe tbody tr th:only-of-type {\n",
       "        vertical-align: middle;\n",
       "    }\n",
       "\n",
       "    .dataframe tbody tr th {\n",
       "        vertical-align: top;\n",
       "    }\n",
       "\n",
       "    .dataframe thead th {\n",
       "        text-align: right;\n",
       "    }\n",
       "</style>\n",
       "<table border=\"1\" class=\"dataframe\">\n",
       "  <thead>\n",
       "    <tr style=\"text-align: right;\">\n",
       "      <th></th>\n",
       "      <th>1</th>\n",
       "      <th>2</th>\n",
       "      <th>3</th>\n",
       "      <th>4</th>\n",
       "      <th>10</th>\n",
       "      <th>11</th>\n",
       "      <th>12</th>\n",
       "      <th>13</th>\n",
       "      <th>19</th>\n",
       "      <th>20</th>\n",
       "      <th>...</th>\n",
       "      <th>263</th>\n",
       "      <th>264</th>\n",
       "      <th>265</th>\n",
       "      <th>271</th>\n",
       "      <th>272</th>\n",
       "      <th>273</th>\n",
       "      <th>274</th>\n",
       "      <th>energy</th>\n",
       "      <th>num_occurrences</th>\n",
       "      <th>annealing_time</th>\n",
       "    </tr>\n",
       "  </thead>\n",
       "  <tbody>\n",
       "    <tr>\n",
       "      <th>0</th>\n",
       "      <td>1</td>\n",
       "      <td>0</td>\n",
       "      <td>0</td>\n",
       "      <td>0</td>\n",
       "      <td>0</td>\n",
       "      <td>1</td>\n",
       "      <td>0</td>\n",
       "      <td>0</td>\n",
       "      <td>0</td>\n",
       "      <td>0</td>\n",
       "      <td>...</td>\n",
       "      <td>0</td>\n",
       "      <td>0</td>\n",
       "      <td>1</td>\n",
       "      <td>0</td>\n",
       "      <td>0</td>\n",
       "      <td>1</td>\n",
       "      <td>0</td>\n",
       "      <td>-22.0</td>\n",
       "      <td>1</td>\n",
       "      <td>1.741179</td>\n",
       "    </tr>\n",
       "    <tr>\n",
       "      <th>1</th>\n",
       "      <td>1</td>\n",
       "      <td>0</td>\n",
       "      <td>0</td>\n",
       "      <td>0</td>\n",
       "      <td>0</td>\n",
       "      <td>1</td>\n",
       "      <td>0</td>\n",
       "      <td>0</td>\n",
       "      <td>0</td>\n",
       "      <td>0</td>\n",
       "      <td>...</td>\n",
       "      <td>0</td>\n",
       "      <td>0</td>\n",
       "      <td>1</td>\n",
       "      <td>0</td>\n",
       "      <td>1</td>\n",
       "      <td>0</td>\n",
       "      <td>0</td>\n",
       "      <td>-22.0</td>\n",
       "      <td>1</td>\n",
       "      <td>1.741179</td>\n",
       "    </tr>\n",
       "  </tbody>\n",
       "</table>\n",
       "<p>2 rows × 67 columns</p>\n",
       "</div>"
      ],
      "text/plain": [
       "   1  2  3  4  10  11  12  13  19  20  ...  263  264  265  271  272  273  274  \\\n",
       "0  1  0  0  0   0   1   0   0   0   0  ...    0    0    1    0    0    1    0   \n",
       "1  1  0  0  0   0   1   0   0   0   0  ...    0    0    1    0    1    0    0   \n",
       "\n",
       "   energy  num_occurrences  annealing_time  \n",
       "0   -22.0                1        1.741179  \n",
       "1   -22.0                1        1.741179  \n",
       "\n",
       "[2 rows x 67 columns]"
      ]
     },
     "execution_count": 34,
     "metadata": {},
     "output_type": "execute_result"
    }
   ],
   "source": [
    "sa_sample_df.head(2)"
   ]
  },
  {
   "cell_type": "code",
   "execution_count": 35,
   "metadata": {},
   "outputs": [],
   "source": [
    "sa_sample_df.to_csv(log_dir+\n",
    "                    '/simulated_annealing_'+ str(annealing_time)+\n",
    "                   '.csv')"
   ]
  },
  {
   "cell_type": "code",
   "execution_count": 36,
   "metadata": {},
   "outputs": [],
   "source": [
    "bqm_graph = bqm.to_networkx_graph()"
   ]
  },
  {
   "cell_type": "code",
   "execution_count": 37,
   "metadata": {},
   "outputs": [
    {
     "name": "stdout",
     "output_type": "stream",
     "text": [
      "Number of problem nodes (variables): 64\n",
      "Number of problem edges (couplings): 304\n"
     ]
    }
   ],
   "source": [
    "print('Number of problem nodes (variables):',len(bqm_graph.nodes))\n",
    "print('Number of problem edges (couplings):',len(bqm_graph.edges))"
   ]
  },
  {
   "cell_type": "markdown",
   "metadata": {},
   "source": [
    "Turns out the number of edges and nodes is feasible (small) enough to be embedded on the quantum annealing hardware!"
   ]
  },
  {
   "cell_type": "code",
   "execution_count": 38,
   "metadata": {},
   "outputs": [],
   "source": [
    "# imports for D-Wave\n",
    "from dwave.system import DWaveSampler, EmbeddingComposite\n",
    "from dimod import BinaryQuadraticModel\n",
    "from dwave.embedding import embed_bqm, unembed_sampleset\n",
    "from dwave.system.samplers import DWaveSampler\n",
    "from minorminer import find_embedding\n",
    "from dwave.embedding.chain_breaks import majority_vote\n",
    "\n",
    "import dwave.inspector\n"
   ]
  },
  {
   "cell_type": "markdown",
   "metadata": {},
   "source": [
    "#### Either use the D-Wave embedding composite to ansemble the steps of embedding and sampling or split them up by using minorminor.find_embedding"
   ]
  },
  {
   "cell_type": "code",
   "execution_count": 39,
   "metadata": {},
   "outputs": [],
   "source": [
    "use_embedding_composite=False"
   ]
  },
  {
   "cell_type": "code",
   "execution_count": 40,
   "metadata": {},
   "outputs": [
    {
     "name": "stdout",
     "output_type": "stream",
     "text": [
      "QPU Advantage_system1.1 was selected.\n"
     ]
    }
   ],
   "source": [
    "# Use a D-Wave system as the sampler\n",
    "sampler = DWaveSampler() \n",
    "print(\"QPU {} was selected.\".format(sampler.solver.name))"
   ]
  },
  {
   "cell_type": "code",
   "execution_count": 41,
   "metadata": {},
   "outputs": [],
   "source": [
    "embedding = {}\n",
    "if use_embedding_composite is True: \n",
    "    # Set up a D-Wave system EmbeddingComposite as the sampler\n",
    "    sampler = EmbeddingComposite(sampler)\n",
    "\n",
    "else:\n",
    "    # split sampling into embedding first and then sampling\n",
    "    __, target_edgelist, target_adjacency = sampler.structure\n",
    "    #bqm = BinaryQuadraticModel.from_qubo(Q)\n",
    "    emb = find_embedding(bqm.to_qubo()[0], target_edgelist)\n",
    "    embedded_bqm = embed_bqm(source_bqm=bqm,embedding=emb ,target_adjacency=target_adjacency)\n",
    "    embedding['embedding'] = emb"
   ]
  },
  {
   "cell_type": "code",
   "execution_count": 42,
   "metadata": {},
   "outputs": [],
   "source": [
    "# sampling on leap hardware\n",
    "# num_read is very important as it defines the number of sampling \n",
    "# made on the hardware\n",
    "\n",
    "NUM_READS=1000\n",
    "if use_embedding_composite is True:\n",
    "    result = sampler.sample(bqm, num_reads=NUM_READS)\n",
    "    d_wave_solution=result.first.sample\n",
    "else:\n",
    "    result = sampler.sample(embedded_bqm, num_reads=NUM_READS)\n",
    "    unembedded_result = unembed_sampleset(result, emb, bqm, chain_break_method=majority_vote)\n",
    "    d_wave_solution = unembedded_result.first.sample\n"
   ]
  },
  {
   "cell_type": "code",
   "execution_count": 43,
   "metadata": {},
   "outputs": [],
   "source": [
    "result_df = result.to_pandas_dataframe()\n",
    "result_df.to_csv(log_dir\n",
    "                 +'/annealing_run'+result.info['problem_id']+'.csv')"
   ]
  },
  {
   "cell_type": "code",
   "execution_count": 44,
   "metadata": {},
   "outputs": [],
   "source": [
    "params_qa = QA_AnnealingParameters()\n",
    "params_qa.num_reads = NUM_READS\n",
    "params_qa.bqm = bqm.to_serializable()\n",
    "params_qa.embdding = embedding\n",
    "params_qa.sampler_properties = sampler.properties\n",
    "params_qa.result = result.to_serializable()\n",
    "sorted_params_dict_qa = {k: params_qa.__dict__[k] for k \n",
    "                      in sorted(params_qa.__dict__.keys())}\n",
    "\n",
    "params_filepath_qa = os.path.join(log_dir,'params_qa'+str(NUM_READS)+\"_\"+result.info['problem_id']+'.json')\n",
    "json.dump(sorted_params_dict_qa, open(params_filepath_qa, 'w'), indent=4)"
   ]
  },
  {
   "cell_type": "code",
   "execution_count": 45,
   "metadata": {},
   "outputs": [
    {
     "name": "stdout",
     "output_type": "stream",
     "text": [
      " 2  3 | 1  4 \n",
      " 1  4 | 2  3 \n",
      "------|------\n",
      " 4  2 | 3  1 \n",
      " 3  1 | 4  2 \n",
      "\n",
      "Error Count: 0\n"
     ]
    }
   ],
   "source": [
    "binary_solution_board= np.zeros((4, 4, 4))\n",
    "for index, value in d_wave_solution.items():\n",
    "    if type(index) is int and index>0:\n",
    "        board_index = decode_var_labels(index)\n",
    "        binary_solution_board[board_index[2]-1][board_index[0]-1][board_index[1]-1] = value\n",
    "print_board(solution_board)\n",
    "error_count = check_sudoku(solution_board)\n",
    "print(\"Error Count:\", error_count)"
   ]
  },
  {
   "cell_type": "code",
   "execution_count": 46,
   "metadata": {},
   "outputs": [
    {
     "name": "stdout",
     "output_type": "stream",
     "text": [
      "The quantum annealer found a    valid solution in 20 miliseconds !\n"
     ]
    }
   ],
   "source": [
    "sample_anneal_time = result.info['timing']['qpu_anneal_time_per_sample']\n",
    "if error_count==0:\n",
    "    print('The quantum annealer found a\\\n",
    "    valid solution in {} miliseconds !'.format(sample_anneal_time))\n",
    "else:\n",
    "    print('The quantum annealer DID NOT find a\\\n",
    "valid solution and needed {} miliseconds ! Error Count: {}'.format(sample_anneal_time, error_count))"
   ]
  },
  {
   "cell_type": "markdown",
   "metadata": {},
   "source": [
    "### It is possible to solve a 4x4 Sudoku with the Quantum Annealer in constant time!"
   ]
  }
 ],
 "metadata": {
  "kernelspec": {
   "display_name": "Python 3",
   "language": "python",
   "name": "python3"
  },
  "language_info": {
   "codemirror_mode": {
    "name": "ipython",
    "version": 3
   },
   "file_extension": ".py",
   "mimetype": "text/x-python",
   "name": "python",
   "nbconvert_exporter": "python",
   "pygments_lexer": "ipython3",
   "version": "3.9.1"
  }
 },
 "nbformat": 4,
 "nbformat_minor": 4
}

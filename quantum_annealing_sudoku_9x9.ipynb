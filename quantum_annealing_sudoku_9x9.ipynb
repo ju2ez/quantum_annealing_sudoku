{
 "cells": [
  {
   "cell_type": "markdown",
   "metadata": {},
   "source": [
    "# Solving a 9x9 grid cell Sudoku with the latest D-Wave Quantum Annealer via Cloud (D-Wave leap)"
   ]
  },
  {
   "cell_type": "code",
   "execution_count": 10,
   "metadata": {},
   "outputs": [],
   "source": [
    "# for classical solver (simulated annealing)\n",
    "import dimod\n",
    "import operator\n",
    "import dwavebinarycsp\n",
    "import numpy as np\n",
    "import math"
   ]
  },
  {
   "cell_type": "code",
   "execution_count": 11,
   "metadata": {},
   "outputs": [],
   "source": [
    "from quantum_annealing_sudoku import quantum_annealing_sudoku\n",
    "from quantum_annealing_sudoku.label_encoder import encode_var_labels, decode_var_labels"
   ]
  },
  {
   "cell_type": "code",
   "execution_count": 12,
   "metadata": {},
   "outputs": [],
   "source": [
    "sudoku_9x9 = quantum_annealing_sudoku.QuantumAnnealingSudoku(grid_9x9 = True)\n",
    "\n",
    "\n",
    "#get some function shortcuts for better readability \n",
    "check_sudoku = sudoku_9x9.check_sudoku\n",
    "encode_board_to_binary = sudoku_9x9.encode_board_to_binary\n",
    "decode_board_from_binary = sudoku_9x9.decode_board_from_binary\n",
    "print_board = sudoku_9x9.print_board"
   ]
  },
  {
   "cell_type": "code",
   "execution_count": 13,
   "metadata": {},
   "outputs": [
    {
     "name": "stdout",
     "output_type": "stream",
     "text": [
      " -  -  3 | -  2  - | 6  -  - \n",
      " 9  -  - | 3  -  5 | -  -  1 \n",
      " -  -  1 | 8  -  6 | 4  -  - \n",
      "---------|---------|---------\n",
      " -  -  8 | 1  -  2 | 9  -  - \n",
      " 7  -  - | -  -  - | -  -  8 \n",
      " -  -  6 | 7  -  8 | 2  -  - \n",
      "---------|---------|---------\n",
      " -  -  2 | 6  -  9 | 5  -  - \n",
      " 8  -  - | 2  -  3 | -  -  9 \n",
      " -  -  5 | -  1  - | 3  -  - \n",
      "\n"
     ]
    }
   ],
   "source": [
    "board = ((0, 0, 3, 0, 2, 0, 6, 0, 0),\n",
    "         (9, 0, 0, 3, 0, 5, 0, 0, 1),\n",
    "         (0, 0, 1, 8, 0, 6, 4, 0, 0),\n",
    "         (0, 0, 8, 1, 0, 2, 9, 0, 0),\n",
    "         (7, 0, 0, 0, 0, 0, 0, 0, 8),\n",
    "         (0, 0, 6, 7, 0, 8, 2, 0, 0),\n",
    "         (0, 0, 2, 6, 0, 9, 5, 0, 0),\n",
    "         (8, 0, 0, 2, 0, 3, 0, 0, 9),\n",
    "         (0, 0, 5, 0, 1, 0, 3, 0, 0))\n",
    "print_board(board)"
   ]
  },
  {
   "cell_type": "code",
   "execution_count": 14,
   "metadata": {},
   "outputs": [
    {
     "name": "stdout",
     "output_type": "stream",
     "text": [
      " -  -  - | 8  9  - | -  -  - \n",
      " 2  6  - | -  -  4 | -  -  - \n",
      " -  -  4 | -  -  - | -  -  - \n",
      "---------|---------|---------\n",
      " -  -  5 | 3  -  - | 4  -  9 \n",
      " -  8  - | -  -  - | 7  5  - \n",
      " 6  -  - | -  -  - | -  -  3 \n",
      "---------|---------|---------\n",
      " -  7  - | -  2  6 | -  -  4 \n",
      " 1  2  - | 5  -  3 | -  -  - \n",
      " -  -  6 | -  -  - | 2  -  - \n",
      "\n"
     ]
    }
   ],
   "source": [
    "board = ((0, 0, 0, 8, 9, 0, 0, 0, 0),\n",
    "         (2, 6, 0, 0, 0, 4, 0, 0, 0),\n",
    "         (0, 0, 4, 0, 0, 0, 0, 0, 0),\n",
    "         (0, 0, 5, 3, 0, 0, 4, 0, 9),\n",
    "         (0, 8, 0, 0, 0, 0, 7, 5, 0),\n",
    "         (6, 0, 0, 0, 0, 0, 0, 0, 3),\n",
    "         (0, 7, 0, 0, 2, 6, 0, 0, 4),\n",
    "         (1, 2, 0, 5, 0, 3, 0, 0, 0),\n",
    "         (0, 0, 6, 0, 0, 0, 2, 0, 0))\n",
    "print_board(board)"
   ]
  },
  {
   "cell_type": "code",
   "execution_count": 15,
   "metadata": {},
   "outputs": [
    {
     "name": "stdout",
     "output_type": "stream",
     "text": [
      " 5  3  7 | 8  9  1 | 6  4  2 \n",
      " 2  6  1 | 7  5  4 | 3  9  8 \n",
      " 8  9  4 | 6  3  2 | 1  7  5 \n",
      "---------|---------|---------\n",
      " 7  1  5 | 3  6  8 | 4  2  9 \n",
      " 3  8  2 | 4  1  9 | 7  5  6 \n",
      " 6  4  9 | 2  7  5 | 8  1  3 \n",
      "---------|---------|---------\n",
      " 9  7  3 | 1  2  6 | 5  8  4 \n",
      " 1  2  8 | 5  4  3 | 9  6  7 \n",
      " 4  5  6 | 9  8  7 | 2  3  1 \n",
      "\n"
     ]
    }
   ],
   "source": [
    "correct_board = ((5, 3, 7, 8, 9, 1, 6, 4, 2),\n",
    "         (2, 6, 1, 7, 5, 4, 3, 9, 8),\n",
    "         (8, 9, 4, 6, 3, 2, 1, 7, 5),\n",
    "         (7, 1, 5, 3, 6, 8, 4, 2, 9),\n",
    "         (3, 8, 2, 4, 1, 9, 7, 5, 6),\n",
    "         (6, 4, 9, 2, 7, 5, 8, 1, 3),\n",
    "         (9, 7, 3, 1, 2, 6, 5, 8, 4),\n",
    "         (1, 2, 8, 5, 4, 3, 9, 6, 7),\n",
    "         (4, 5, 6, 9, 8, 7, 2, 3, 1))\n",
    "print_board(correct_board)"
   ]
  },
  {
   "cell_type": "code",
   "execution_count": 16,
   "metadata": {},
   "outputs": [
    {
     "data": {
      "text/plain": [
       "11"
      ]
     },
     "execution_count": 16,
     "metadata": {},
     "output_type": "execute_result"
    }
   ],
   "source": [
    "check_sudoku(board)"
   ]
  },
  {
   "cell_type": "code",
   "execution_count": 17,
   "metadata": {},
   "outputs": [
    {
     "data": {
      "text/plain": [
       "0"
      ]
     },
     "execution_count": 17,
     "metadata": {},
     "output_type": "execute_result"
    }
   ],
   "source": [
    "check_sudoku(correct_board)"
   ]
  },
  {
   "cell_type": "code",
   "execution_count": 18,
   "metadata": {},
   "outputs": [],
   "source": [
    "constant = 0\n",
    "N = 9\n",
    "cell_qubo = {}\n",
    "linear = {}\n",
    "quad = {}\n",
    "penalty_weight = 1\n",
    "for i in range(1,N+1):\n",
    "        for j in range(1,N+1):\n",
    "            for k1 in range(1,N+1):  \n",
    "                    var_1 = encode_var_labels(i,j,k1)\n",
    "                    for k2 in range(1,N+1):\n",
    "                            var_2 = encode_var_labels(i,j,k2)\n",
    "                            if var_1 == var_2:\n",
    "                                linear[var_1] = -1*penalty_weight\n",
    "                            else:\n",
    "                                quad[var_1,var_2]= 2*penalty_weight\n",
    "                        #linear[var_1] = 2\n",
    "                    \n",
    "            constant+=1\n",
    "            \n",
    "\n",
    "cell_qubo[()] = constant*penalty_weight\n",
    "cell_qubo[\"linear\"] = linear\n",
    "cell_qubo[\"quadratic\"] = quad\n",
    "\n",
    "#bqm = dimod.BinaryQuadraticModel(cell_qubo,constant,dimod.Vartype.BINARY)"
   ]
  },
  {
   "cell_type": "code",
   "execution_count": 19,
   "metadata": {},
   "outputs": [],
   "source": [
    "penalty_weight=1\n",
    "constant = 0\n",
    "N = 9\n",
    "column_qubo = {}\n",
    "lin_column={}\n",
    "quad_column={}\n",
    "binary_board = encode_board_to_binary(board)\n",
    "for k in range(1,N):\n",
    "        for j in range(1,N):\n",
    "            for i1 in range(1,N):\n",
    "                var_1 = encode_var_labels(i1,j,k)\n",
    "                for i2 in range(1,N):               \n",
    "                    var_2 = encode_var_labels(i2,j,k)\n",
    "                    if var_1 == var_2:\n",
    "                        lin_column[var_1] = -1*penalty_weight\n",
    "                    else:\n",
    "                        quad_column[var_1,var_2] = 2*penalty_weight\n",
    "        constant+=1\n",
    "        \n",
    "column_qubo[()] = constant*penalty_weight\n",
    "column_qubo['linear'] = lin_column\n",
    "column_qubo['quadratic'] = quad_column"
   ]
  },
  {
   "cell_type": "code",
   "execution_count": 20,
   "metadata": {},
   "outputs": [],
   "source": [
    "constant = 0\n",
    "N = 9\n",
    "row_qubo = {}\n",
    "linear_row ={}\n",
    "quadratic_row={}\n",
    "penalty_weight=2\n",
    "binary_board = encode_board_to_binary(board)\n",
    "for k in range(1,N):\n",
    "        for i in range(1,N):\n",
    "            for j1 in range(1,N):\n",
    "                var_1 = encode_var_labels(i,j1,k)\n",
    "                for j2 in range(1,N):      \n",
    "                    var_2 = encode_var_labels(i,j2,k)\n",
    "                    if var_1 == var_2:\n",
    "                        linear_row[var_1] = -1*penalty_weight\n",
    "                    else:\n",
    "                        quadratic_row[var_1, var_2] = 2*penalty_weight\n",
    "        constant+=1\n",
    "        \n",
    "row_qubo[()] = constant*penalty_weight\n",
    "row_qubo['linear'] = linear_row\n",
    "row_qubo['quadratic'] = quadratic_row"
   ]
  },
  {
   "cell_type": "code",
   "execution_count": 21,
   "metadata": {},
   "outputs": [],
   "source": [
    "binary_board = encode_board_to_binary(board)\n",
    "hint = []\n",
    "penalty_weight = 4\n",
    "\n",
    "for k, color in enumerate(binary_board):\n",
    "    for i, row in enumerate(color):\n",
    "        for j, cell in enumerate(row):\n",
    "            if cell>0:\n",
    "                hint.append([i+1,j+1,k+1])\n",
    "                \n",
    "hint_qubo = {}\n",
    "constant=0\n",
    "for (i, j, k) in hint:\n",
    "    re_label = encode_var_labels(i,j,k) \n",
    "    hint_qubo[re_label] = -1*penalty_weight\n",
    "    constant += 1\n",
    "\n",
    "hint_qubo[()] = constant*penalty_weight\n"
   ]
  },
  {
   "cell_type": "code",
   "execution_count": 22,
   "metadata": {},
   "outputs": [],
   "source": [
    "from math import sqrt\n",
    "constant = 0\n",
    "N = 9\n",
    "duplicate_qubo = {}\n",
    "dupli_linear = {}\n",
    "dupli_quadr = {}\n",
    "sqrtN = int(sqrt(N))\n",
    "for grid_i in range(sqrtN):\n",
    "    for grid_j in range(sqrtN):\n",
    "        for k in range(N):\n",
    "            # there can be only one k in the same subgrid.\n",
    "            for i1 in range(grid_i * 3, grid_i * 3 + 3):\n",
    "                for j1 in range(grid_j * 3, grid_j * 3 + 3):\n",
    "                    for i2 in range(grid_i * 3, grid_i * 3 + 3):\n",
    "                        var_1 = encode_var_labels(i1+1,j1+1,k+1)\n",
    "                        for j2 in range(grid_j * 3, grid_j * 3 + 3):\n",
    "                            var_2 = encode_var_labels(i2+1,j2+1,k+1)\n",
    "                            if var_1 == var_2:\n",
    "                                dupli_linear[var_1] = -1\n",
    "                            else:\n",
    "                                dupli_quadr[var_1,var_2] = 1\n",
    "            constant+=1\n",
    "\n",
    "            \n",
    "duplicate_qubo[()] = constant\n",
    "duplicate_qubo['linear'] = dupli_linear\n",
    "duplicate_qubo['quadratic'] = dupli_quadr"
   ]
  },
  {
   "cell_type": "code",
   "execution_count": 23,
   "metadata": {},
   "outputs": [],
   "source": [
    "def append_linear(result_qubo_linear, qubo):    \n",
    "    if not qubo.get('linear'):\n",
    "        return result_qubo_linear\n",
    "    for index, value in qubo['linear'].items():\n",
    "        if result_qubo_linear.get(index):\n",
    "            result_qubo_linear[index] += value     \n",
    "        else:\n",
    "            result_qubo_linear[index] = value\n",
    "            \n",
    "    return result_qubo_linear\n",
    "            \n",
    "def append_quadratic(result_qubo_quadratic, qubo):    \n",
    "    if not qubo.get('quadratic'):\n",
    "        return result_qubo_quadratic\n",
    "    for index, value in qubo['quadratic'].items():\n",
    "        if result_qubo_quadratic.get(index):\n",
    "            result_qubo_quadratic[index] += value \n",
    "        else:\n",
    "            result_qubo_quadratic[index] = value\n",
    "            \n",
    "    return result_qubo_quadratic\n",
    "            "
   ]
  },
  {
   "cell_type": "code",
   "execution_count": 24,
   "metadata": {},
   "outputs": [],
   "source": [
    "# qubos that are needed to achieve the constraints\n",
    "qubos=[cell_qubo, column_qubo, row_qubo, hint_qubo, duplicate_qubo]"
   ]
  },
  {
   "cell_type": "code",
   "execution_count": 26,
   "metadata": {},
   "outputs": [],
   "source": [
    "result_qubo_linear = {}\n",
    "result_qubo_quadratic = {}\n",
    "for qubo in qubos:    \n",
    "    if qubo is not None:\n",
    "        result_qubo_linear = append_linear(result_qubo_linear, qubo)\n",
    "        result_qubo_quadratic = append_quadratic(result_qubo_quadratic, qubo)"
   ]
  },
  {
   "cell_type": "code",
   "execution_count": 27,
   "metadata": {},
   "outputs": [
    {
     "data": {
      "text/plain": [
       "40.5"
      ]
     },
     "execution_count": 27,
     "metadata": {},
     "output_type": "execute_result"
    }
   ],
   "source": [
    "constant/2"
   ]
  },
  {
   "cell_type": "code",
   "execution_count": 28,
   "metadata": {},
   "outputs": [],
   "source": [
    "constant= cell_qubo.get((),0) + hint_qubo.get((),0) + row_qubo.get((),0) + column_qubo.get((),0) + duplicate_qubo.get((),0)\n",
    "bqm = dimod.BinaryQuadraticModel(result_qubo_linear,result_qubo_quadratic, constant,dimod.Vartype.BINARY)"
   ]
  },
  {
   "cell_type": "code",
   "execution_count": 29,
   "metadata": {},
   "outputs": [],
   "source": [
    "# test run\n",
    "import neal\n",
    "sampler = neal.SimulatedAnnealingSampler()\n",
    "sample_set=sampler.sample(bqm, num_reads=30,num_sweeps=2222)\n"
   ]
  },
  {
   "cell_type": "code",
   "execution_count": 30,
   "metadata": {},
   "outputs": [],
   "source": [
    "from random import randrange\n",
    "import time\n",
    "\n",
    "def find_optimal_solution(best_solution_global, current_solution, current_energy):\n",
    "    best_solution = {}\n",
    "    error_count=20\n",
    "    iteration = 0\n",
    "    sampler = neal.SimulatedAnnealingSampler()\n",
    "    start_time = time.perf_counter()\n",
    "    while error_count>0:\n",
    "        \"\"\"\n",
    "        sample_set = sampler.sample(bqm, seed=1234, beta_range=[0.1, 4.2],\n",
    "                                        num_reads=10, num_sweeps=20000,\n",
    "                                       beta_schedule_type='geometric')\n",
    "        \"\"\"\n",
    "        random_seed = randrange(9000)\n",
    "        #random_seed = 5832\n",
    "        num_reads = randrange(12000)\n",
    "        num_sweeps = randrange(60000)\n",
    "        num_reads = 5\n",
    "        num_sweeps=50\n",
    "        #num_sweeps*=iteration\n",
    "        pre_anneal = time.perf_counter()\n",
    "        sample_set=sampler.sample(bqm,seed=random_seed ,num_reads=num_reads,num_sweeps=num_sweeps)\n",
    "        iteration+=1\n",
    "        post_anneal = time.perf_counter()\n",
    "        \n",
    "        annealing_time = post_anneal-pre_anneal\n",
    "        for solution, energy in sample_set.data(['sample', 'energy']):\n",
    "            binary_solution_board= np.zeros((9, 9, 9))\n",
    "            for index, value in solution.items():\n",
    "                if type(index) is int and index>0:\n",
    "                    board_index = decode_var_labels(index)\n",
    "                    binary_solution_board[board_index[2]-1][board_index[0]-1][board_index[1]-1] = value\n",
    "            solution_board=decode_board_from_binary(binary_solution_board)\n",
    "            error_count_temp = check_sudoku(solution_board)\n",
    "            \n",
    "            \n",
    "            \n",
    "            current_solution.append(1)\n",
    "            current_energy.append(energy)\n",
    "            current_solution[:] = []\n",
    "            current_energy[:] = []\n",
    "            current_solution.append(solution)\n",
    "            current_energy.append(energy)\n",
    "            \n",
    "            \n",
    "        overall_time = time.perf_counter()-start_time\n",
    "        if error_count_temp<error_count:\n",
    "            best_solution = solution_board\n",
    "            best_solution_global.append(solution)\n",
    "            error_count=error_count_temp\n",
    "            print(\"\\nError Count:\",error_count, \"iteration:\", iteration, \"Energy:\", energy,\n",
    "                  \"Seed:\", random_seed, \"num_reads:\", num_reads, \"sweeps:\", num_sweeps, \n",
    "                 \"Annealing Time:\", annealing_time, \"Overall Time:\", overall_time)\n",
    "            \n",
    "        if iteration%10 == 0:\n",
    "            print(\"\\nCurrent State:\",\n",
    "                  \"Error Count:\",error_count_temp, \"iteration:\", iteration, \"Energy:\", energy,\n",
    "                 \"Seed:\", random_seed, \"num_reads:\", num_reads, \"sweeps:\", num_sweeps,\n",
    "                 \"Annealing Time:\", annealing_time, \"Overall Time:\", overall_time)\n",
    "            \n",
    "\n",
    "        "
   ]
  },
  {
   "cell_type": "code",
   "execution_count": 31,
   "metadata": {},
   "outputs": [
    {
     "name": "stdout",
     "output_type": "stream",
     "text": [
      "\n",
      "Error Count: 6 iteration: 1 Energy: -23.0 Seed: 2310 num_reads: 5 sweeps: 50 Annealing Time: 0.1149751000048127 Overall Time: 0.28603471600217745\n",
      "\n",
      "Error Count: 5 iteration: 2 Energy: -38.0 Seed: 8593 num_reads: 5 sweeps: 50 Annealing Time: 0.1113939690112602 Overall Time: 0.6215770370035898\n",
      "\n",
      "Error Count: 4 iteration: 3 Energy: -35.0 Seed: 4781 num_reads: 5 sweeps: 50 Annealing Time: 0.12242604797938839 Overall Time: 0.9851448560075369\n",
      "\n",
      "Current State: Error Count: 7 iteration: 10 Energy: -30.0 Seed: 3291 num_reads: 5 sweeps: 50 Annealing Time: 0.159658265998587 Overall Time: 3.1861984099959955\n",
      "\n",
      "Error Count: 3 iteration: 14 Energy: -36.0 Seed: 5466 num_reads: 5 sweeps: 50 Annealing Time: 0.10217202198691666 Overall Time: 4.388904931984143\n",
      "\n",
      "Current State: Error Count: 6 iteration: 20 Energy: -25.0 Seed: 3157 num_reads: 5 sweeps: 50 Annealing Time: 0.10379416300565936 Overall Time: 6.177373496000655\n",
      "\n",
      "Current State: Error Count: 4 iteration: 30 Energy: -37.0 Seed: 1297 num_reads: 5 sweeps: 50 Annealing Time: 0.11174478099565022 Overall Time: 9.184081557003083\n",
      "\n",
      "Current State: Error Count: 5 iteration: 40 Energy: -35.0 Seed: 4867 num_reads: 5 sweeps: 50 Annealing Time: 0.11379247999866493 Overall Time: 12.36217458700412\n",
      "\n",
      "Current State: Error Count: 6 iteration: 50 Energy: -34.0 Seed: 4107 num_reads: 5 sweeps: 50 Annealing Time: 0.1079579489887692 Overall Time: 15.512776669987943\n",
      "\n",
      "Current State: Error Count: 6 iteration: 60 Energy: -31.0 Seed: 294 num_reads: 5 sweeps: 50 Annealing Time: 0.10264153699972667 Overall Time: 18.39772092399653\n"
     ]
    }
   ],
   "source": [
    "import multiprocessing\n",
    "manager = multiprocessing.Manager()\n",
    "best_solution = manager.list()\n",
    "current_solution = manager.list()\n",
    "current_energy = manager.list()\n",
    "\n",
    "\n",
    "process = multiprocessing.Process(target=find_optimal_solution, \n",
    "            \n",
    "                                  args= (best_solution, current_solution, current_energy))\n",
    "process.start()\n",
    "\n"
   ]
  },
  {
   "cell_type": "code",
   "execution_count": 32,
   "metadata": {},
   "outputs": [
    {
     "data": {
      "text/plain": [
       "<Process name='Process-2' pid=1705860 parent=1633413 started>"
      ]
     },
     "execution_count": 32,
     "metadata": {},
     "output_type": "execute_result"
    }
   ],
   "source": [
    "import time\n",
    "time.sleep(10)\n",
    "#wait for terminating in order to have  \n",
    "#results when doing a (quick) autorun\n",
    "\n",
    "process.terminate()\n",
    "process"
   ]
  },
  {
   "cell_type": "code",
   "execution_count": 33,
   "metadata": {},
   "outputs": [],
   "source": [
    "#sample_set = list(current_solution)\n",
    "sample_set = list(best_solution)"
   ]
  },
  {
   "cell_type": "code",
   "execution_count": 34,
   "metadata": {},
   "outputs": [],
   "source": [
    "solution={}\n",
    "solution_2={}\n",
    "solution_3={}\n",
    "for number, solution in enumerate(sample_set):\n",
    "    if number==0:\n",
    "        solution = solution\n",
    "    elif number==1:\n",
    "        solution_2 = solution\n",
    "    elif number==2:\n",
    "        solution_3 = solution\n",
    "        \n",
    "    \n",
    "last_solution = solution"
   ]
  },
  {
   "cell_type": "code",
   "execution_count": 35,
   "metadata": {},
   "outputs": [],
   "source": [
    "binary_solution_board= np.zeros((9, 9, 9))\n",
    "for index, value in solution.items():\n",
    "    if type(index) is int and index>0:\n",
    "        board_index = decode_var_labels(index)\n",
    "        binary_solution_board[board_index[2]-1][board_index[0]-1][board_index[1]-1] = value\n"
   ]
  },
  {
   "cell_type": "code",
   "execution_count": 36,
   "metadata": {},
   "outputs": [
    {
     "data": {
      "text/plain": [
       "array([[8., 3., 6., 5., 1., 9., 9., 6., 7.],\n",
       "       [5., 1., 9., 3., 6., 7., 4., 2., 8.],\n",
       "       [7., 5., 6., 4., 8., 2., 1., 3., 5.],\n",
       "       [3., 7., 9., 2., 5., 1., 6., 8., 1.],\n",
       "       [2., 8., 1., 7., 4., 6., 3., 5., 4.],\n",
       "       [6., 4., 5., 9., 3., 8., 2., 9., 7.],\n",
       "       [9., 6., 7., 4., 2., 3., 5., 1., 8.],\n",
       "       [4., 2., 8., 6., 9., 5., 9., 7., 6.],\n",
       "       [3., 5., 1., 8., 1., 7., 4., 3., 2.]])"
      ]
     },
     "execution_count": 36,
     "metadata": {},
     "output_type": "execute_result"
    }
   ],
   "source": [
    "solution_board=decode_board_from_binary(binary_solution_board)\n",
    "solution_board"
   ]
  },
  {
   "cell_type": "code",
   "execution_count": 37,
   "metadata": {},
   "outputs": [
    {
     "name": "stdout",
     "output_type": "stream",
     "text": [
      " -  -  - | 8  9  - | -  -  - \n",
      " 2  6  - | -  -  4 | -  -  - \n",
      " -  -  4 | -  -  - | -  -  - \n",
      "---------|---------|---------\n",
      " -  -  5 | 3  -  - | 4  -  9 \n",
      " -  8  - | -  -  - | 7  5  - \n",
      " 6  -  - | -  -  - | -  -  3 \n",
      "---------|---------|---------\n",
      " -  7  - | -  2  6 | -  -  4 \n",
      " 1  2  - | 5  -  3 | -  -  - \n",
      " -  -  6 | -  -  - | 2  -  - \n",
      "\n"
     ]
    }
   ],
   "source": [
    "print_board(board)"
   ]
  },
  {
   "cell_type": "code",
   "execution_count": 38,
   "metadata": {},
   "outputs": [
    {
     "name": "stdout",
     "output_type": "stream",
     "text": [
      " 8  3  6 | 5  1  9 | 9  6  7 \n",
      " 5  1  9 | 3  6  7 | 4  2  8 \n",
      " 7  5  6 | 4  8  2 | 1  3  5 \n",
      "---------|---------|---------\n",
      " 3  7  9 | 2  5  1 | 6  8  1 \n",
      " 2  8  1 | 7  4  6 | 3  5  4 \n",
      " 6  4  5 | 9  3  8 | 2  9  7 \n",
      "---------|---------|---------\n",
      " 9  6  7 | 4  2  3 | 5  1  8 \n",
      " 4  2  8 | 6  9  5 | 9  7  6 \n",
      " 3  5  1 | 8  1  7 | 4  3  2 \n",
      "\n",
      "Error Count: 3\n",
      "BQM Energy: -36.0\n"
     ]
    }
   ],
   "source": [
    "print_board(solution_board)\n",
    "print(\"Error Count:\",check_sudoku(solution_board))\n",
    "print(\"BQM Energy:\", bqm.energy(solution))"
   ]
  },
  {
   "cell_type": "code",
   "execution_count": 39,
   "metadata": {},
   "outputs": [
    {
     "name": "stdout",
     "output_type": "stream",
     "text": [
      " 8  3  6 | 5  1  9 | 9  6  7 \n",
      " 5  1  9 | 3  6  7 | 4  2  8 \n",
      " 7  5  6 | 4  8  2 | 1  3  5 \n",
      "---------|---------|---------\n",
      " 3  7  9 | 2  5  1 | 6  8  1 \n",
      " 2  8  1 | 7  4  6 | 3  5  4 \n",
      " 6  4  5 | 9  3  8 | 2  9  7 \n",
      "---------|---------|---------\n",
      " 9  6  7 | 4  2  3 | 5  1  8 \n",
      " 4  2  8 | 6  9  5 | 9  7  6 \n",
      " 3  5  1 | 8  1  7 | 4  3  2 \n",
      "\n",
      "Error Count: 3\n"
     ]
    }
   ],
   "source": [
    "binary_solution_board= np.zeros((9, 9, 9))\n",
    "for index, value in solution_2.items():\n",
    "    if type(index) is int and index>0:\n",
    "        board_index = decode_var_labels(index)\n",
    "        binary_solution_board[board_index[2]-1][board_index[0]-1][board_index[1]-1] = value\n",
    "print_board(solution_board)\n",
    "print(\"Error Count:\",check_sudoku(solution_board))"
   ]
  },
  {
   "cell_type": "code",
   "execution_count": 40,
   "metadata": {},
   "outputs": [
    {
     "name": "stdout",
     "output_type": "stream",
     "text": [
      " 8  3  6 | 5  1  9 | 9  6  7 \n",
      " 5  1  9 | 3  6  7 | 4  2  8 \n",
      " 7  5  6 | 4  8  2 | 1  3  5 \n",
      "---------|---------|---------\n",
      " 3  7  9 | 2  5  1 | 6  8  1 \n",
      " 2  8  1 | 7  4  6 | 3  5  4 \n",
      " 6  4  5 | 9  3  8 | 2  9  7 \n",
      "---------|---------|---------\n",
      " 9  6  7 | 4  2  3 | 5  1  8 \n",
      " 4  2  8 | 6  9  5 | 9  7  6 \n",
      " 3  5  1 | 8  1  7 | 4  3  2 \n",
      "\n",
      "Error Count: 3\n"
     ]
    }
   ],
   "source": [
    "binary_solution_board= np.zeros((9, 9, 9))\n",
    "for index, value in solution_3.items():\n",
    "    if type(index) is int and index>0:\n",
    "        board_index = decode_var_labels(index)\n",
    "        binary_solution_board[board_index[2]-1][board_index[0]-1][board_index[1]-1] = value\n",
    "print_board(solution_board)\n",
    "print(\"Error Count:\",check_sudoku(solution_board))"
   ]
  },
  {
   "cell_type": "code",
   "execution_count": 41,
   "metadata": {},
   "outputs": [
    {
     "name": "stdout",
     "output_type": "stream",
     "text": [
      " 8  3  6 | 5  1  9 | 9  6  7 \n",
      " 5  1  9 | 3  6  7 | 4  2  8 \n",
      " 7  5  6 | 4  8  2 | 1  3  5 \n",
      "---------|---------|---------\n",
      " 3  7  9 | 2  5  1 | 6  8  1 \n",
      " 2  8  1 | 7  4  6 | 3  5  4 \n",
      " 6  4  5 | 9  3  8 | 2  9  7 \n",
      "---------|---------|---------\n",
      " 9  6  7 | 4  2  3 | 5  1  8 \n",
      " 4  2  8 | 6  9  5 | 9  7  6 \n",
      " 3  5  1 | 8  1  7 | 4  3  2 \n",
      "\n",
      "Error Count: 3\n"
     ]
    }
   ],
   "source": [
    "binary_solution_board= np.zeros((9, 9, 9))\n",
    "for index, value in last_solution.items():\n",
    "    if type(index) is int and index>0:\n",
    "        board_index = decode_var_labels(index)\n",
    "        binary_solution_board[board_index[2]-1][board_index[0]-1][board_index[1]-1] = value\n",
    "print_board(solution_board)\n",
    "print(\"Error Count:\",check_sudoku(solution_board))"
   ]
  },
  {
   "cell_type": "code",
   "execution_count": 42,
   "metadata": {},
   "outputs": [
    {
     "data": {
      "text/plain": [
       "-36.0"
      ]
     },
     "execution_count": 42,
     "metadata": {},
     "output_type": "execute_result"
    }
   ],
   "source": [
    "bqm.energy(solution)"
   ]
  },
  {
   "cell_type": "code",
   "execution_count": 44,
   "metadata": {},
   "outputs": [
    {
     "name": "stdout",
     "output_type": "stream",
     "text": [
      "QPU Advantage_system1.1 was selected.\n"
     ]
    }
   ],
   "source": [
    "from dwave.system import DWaveSampler, EmbeddingComposite\n",
    "# Use a D-Wave system as the sampler\n",
    "sampler = DWaveSampler() \n",
    "\n",
    "print(\"QPU {} was selected.\".format(sampler.solver.name))"
   ]
  },
  {
   "cell_type": "code",
   "execution_count": 45,
   "metadata": {},
   "outputs": [],
   "source": [
    "# Set up a D-Wave system as the sampler\n",
    "sampler = EmbeddingComposite(sampler)\n"
   ]
  },
  {
   "cell_type": "code",
   "execution_count": 46,
   "metadata": {},
   "outputs": [],
   "source": [
    "bqm_graph = bqm.to_networkx_graph()"
   ]
  },
  {
   "cell_type": "code",
   "execution_count": 49,
   "metadata": {},
   "outputs": [
    {
     "name": "stdout",
     "output_type": "stream",
     "text": [
      "Number of problem nodes (variables): 729\n",
      "Number of problem edges (couplings): 8520\n"
     ]
    }
   ],
   "source": [
    "print('Number of problem nodes (variables):',len(bqm_graph.nodes))\n",
    "print('Number of problem edges (couplings):',len(bqm_graph.edges))"
   ]
  },
  {
   "cell_type": "markdown",
   "metadata": {},
   "source": [
    "### Unfortunately, as of this point in time (2021) the current D-Wave system (D-Wave QA one) with pegasus architecture is probably too small to be able to find an embedding for a full 9x9 Sudoku problem.\n",
    "\n",
    "At least minorminor.find_embedding, which works probabilisticly, does not find a valid assignment (in a feasible time-frame)."
   ]
  },
  {
   "cell_type": "code",
   "execution_count": 64,
   "metadata": {
    "scrolled": true
   },
   "outputs": [
    {
     "ename": "KeyboardInterrupt",
     "evalue": "embedding cancelled by keyboard interrupt",
     "output_type": "error",
     "traceback": [
      "\u001b[0;31m---------------------------------------------------------------------------\u001b[0m",
      "\u001b[0;31mKeyboardInterrupt\u001b[0m                         Traceback (most recent call last)",
      "\u001b[0;32m<ipython-input-64-5ed9138176e1>\u001b[0m in \u001b[0;36m<module>\u001b[0;34m\u001b[0m\n\u001b[1;32m     11\u001b[0m \u001b[0;31m#bqm = BinaryQuadraticModel.from_qubo(Q)\u001b[0m\u001b[0;34m\u001b[0m\u001b[0;34m\u001b[0m\u001b[0;34m\u001b[0m\u001b[0m\n\u001b[1;32m     12\u001b[0m \u001b[0;34m\u001b[0m\u001b[0m\n\u001b[0;32m---> 13\u001b[0;31m \u001b[0memb\u001b[0m \u001b[0;34m=\u001b[0m \u001b[0mfind_embedding\u001b[0m\u001b[0;34m(\u001b[0m\u001b[0mbqm\u001b[0m\u001b[0;34m.\u001b[0m\u001b[0mto_qubo\u001b[0m\u001b[0;34m(\u001b[0m\u001b[0;34m)\u001b[0m\u001b[0;34m[\u001b[0m\u001b[0;36m0\u001b[0m\u001b[0;34m]\u001b[0m\u001b[0;34m,\u001b[0m \u001b[0mtarget_edgelist\u001b[0m\u001b[0;34m)\u001b[0m\u001b[0;34m\u001b[0m\u001b[0;34m\u001b[0m\u001b[0m\n\u001b[0m\u001b[1;32m     14\u001b[0m \u001b[0;34m\u001b[0m\u001b[0m\n\u001b[1;32m     15\u001b[0m \u001b[0;31m#embedded_bqm = embed_bqm(bqm, emb, target_adjacency)\u001b[0m\u001b[0;34m\u001b[0m\u001b[0;34m\u001b[0m\u001b[0;34m\u001b[0m\u001b[0m\n",
      "\u001b[0;32m~/.local/lib/python3.9/site-packages/minorminer/minorminer.py\u001b[0m in \u001b[0;36mfind_embedding\u001b[0;34m(S, T, max_no_improvement, random_seed, timeout, max_beta, tries, inner_rounds, chainlength_patience, max_fill, threads, return_overlap, skip_initialization, verbose, interactive, initial_chains, fixed_chains, restrict_chains, suspend_chains)\u001b[0m\n\u001b[1;32m     39\u001b[0m                    \u001b[0msuspend_chains\u001b[0m\u001b[0;34m=\u001b[0m\u001b[0;34m(\u001b[0m\u001b[0;34m)\u001b[0m\u001b[0;34m,\u001b[0m\u001b[0;34m\u001b[0m\u001b[0;34m\u001b[0m\u001b[0m\n\u001b[1;32m     40\u001b[0m                    ):\n\u001b[0;32m---> 41\u001b[0;31m     return __find_embedding(S, T,\n\u001b[0m\u001b[1;32m     42\u001b[0m                             \u001b[0mmax_no_improvement\u001b[0m\u001b[0;34m=\u001b[0m\u001b[0mmax_no_improvement\u001b[0m\u001b[0;34m,\u001b[0m\u001b[0;34m\u001b[0m\u001b[0;34m\u001b[0m\u001b[0m\n\u001b[1;32m     43\u001b[0m                             \u001b[0mrandom_seed\u001b[0m\u001b[0;34m=\u001b[0m\u001b[0mrandom_seed\u001b[0m\u001b[0;34m,\u001b[0m\u001b[0;34m\u001b[0m\u001b[0;34m\u001b[0m\u001b[0m\n",
      "\u001b[0;32mminorminer/_minorminer.pyx\u001b[0m in \u001b[0;36mminorminer._minorminer.find_embedding\u001b[0;34m()\u001b[0m\n",
      "\u001b[0;31mKeyboardInterrupt\u001b[0m: embedding cancelled by keyboard interrupt"
     ]
    }
   ],
   "source": [
    "from dimod import BinaryQuadraticModel\n",
    "from dwave.embedding import embed_bqm, unembed_sampleset\n",
    "from dwave.system.samplers import DWaveSampler\n",
    "from minorminer import find_embedding\n",
    "from dwave.embedding.chain_breaks import majority_vote\n",
    "\n",
    "solver = DWaveSampler()\n",
    "\n",
    "__, target_edgelist, target_adjacency = solver.structure\n",
    "\n",
    "#bqm = BinaryQuadraticModel.from_qubo(Q)\n",
    "\n",
    "emb = find_embedding(bqm.to_qubo()[0], target_edgelist)\n",
    "\n",
    "#embedded_bqm = embed_bqm(bqm, emb, target_adjacency)\n",
    "\n",
    "#result = solver.sample(embedded_bqm, num_reads=1)\n",
    "\n",
    "#unembedded = unembed_sampleset(result, emb, bqm, chain_break_method=majority_vote(bqm, emb))"
   ]
  },
  {
   "cell_type": "code",
   "execution_count": 50,
   "metadata": {},
   "outputs": [
    {
     "ename": "KeyboardInterrupt",
     "evalue": "",
     "output_type": "error",
     "traceback": [
      "\u001b[0;31m---------------------------------------------------------------------------\u001b[0m",
      "\u001b[0;31mKeyboardInterrupt\u001b[0m                         Traceback (most recent call last)",
      "\u001b[0;32m<ipython-input-50-27a8350872ca>\u001b[0m in \u001b[0;36m<module>\u001b[0;34m\u001b[0m\n\u001b[1;32m      3\u001b[0m \u001b[0;32mfrom\u001b[0m \u001b[0mdwave\u001b[0m\u001b[0;34m.\u001b[0m\u001b[0membedding\u001b[0m\u001b[0;34m.\u001b[0m\u001b[0mpegasus\u001b[0m \u001b[0;32mimport\u001b[0m \u001b[0mfind_clique_embedding\u001b[0m\u001b[0;34m\u001b[0m\u001b[0;34m\u001b[0m\u001b[0m\n\u001b[1;32m      4\u001b[0m \u001b[0;34m\u001b[0m\u001b[0m\n\u001b[0;32m----> 5\u001b[0;31m \u001b[0mfind_clique_embedding\u001b[0m\u001b[0;34m(\u001b[0m\u001b[0mk\u001b[0m\u001b[0;34m=\u001b[0m\u001b[0mbqm\u001b[0m\u001b[0;34m.\u001b[0m\u001b[0mto_networkx_graph\u001b[0m\u001b[0;34m(\u001b[0m\u001b[0;34m)\u001b[0m\u001b[0;34m,\u001b[0m \u001b[0mm\u001b[0m\u001b[0;34m=\u001b[0m\u001b[0;36m100\u001b[0m\u001b[0;34m)\u001b[0m\u001b[0;34m\u001b[0m\u001b[0;34m\u001b[0m\u001b[0m\n\u001b[0m\u001b[1;32m      6\u001b[0m \u001b[0;34m\u001b[0m\u001b[0m\n",
      "\u001b[0;32m<decorator-gen-904>\u001b[0m in \u001b[0;36mfind_clique_embedding\u001b[0;34m(k, m, target_graph)\u001b[0m\n",
      "\u001b[0;32m~/.local/lib/python3.9/site-packages/networkx/utils/decorators.py\u001b[0m in \u001b[0;36m_nodes_or_number\u001b[0;34m(func_to_be_decorated, *args, **kw)\u001b[0m\n\u001b[1;32m    301\u001b[0m                     \u001b[0;32mraise\u001b[0m \u001b[0mnx\u001b[0m\u001b[0;34m.\u001b[0m\u001b[0mNetworkXError\u001b[0m\u001b[0;34m(\u001b[0m\u001b[0mmsg\u001b[0m\u001b[0;34m)\u001b[0m\u001b[0;34m\u001b[0m\u001b[0;34m\u001b[0m\u001b[0m\n\u001b[1;32m    302\u001b[0m             \u001b[0mnew_args\u001b[0m\u001b[0;34m[\u001b[0m\u001b[0mi\u001b[0m\u001b[0;34m]\u001b[0m \u001b[0;34m=\u001b[0m \u001b[0;34m(\u001b[0m\u001b[0mn\u001b[0m\u001b[0;34m,\u001b[0m \u001b[0mnodes\u001b[0m\u001b[0;34m)\u001b[0m\u001b[0;34m\u001b[0m\u001b[0;34m\u001b[0m\u001b[0m\n\u001b[0;32m--> 303\u001b[0;31m         \u001b[0;32mreturn\u001b[0m \u001b[0mfunc_to_be_decorated\u001b[0m\u001b[0;34m(\u001b[0m\u001b[0;34m*\u001b[0m\u001b[0mnew_args\u001b[0m\u001b[0;34m,\u001b[0m \u001b[0;34m**\u001b[0m\u001b[0mkw\u001b[0m\u001b[0;34m)\u001b[0m\u001b[0;34m\u001b[0m\u001b[0;34m\u001b[0m\u001b[0m\n\u001b[0m\u001b[1;32m    304\u001b[0m \u001b[0;34m\u001b[0m\u001b[0m\n\u001b[1;32m    305\u001b[0m     \u001b[0;32mreturn\u001b[0m \u001b[0m_nodes_or_number\u001b[0m\u001b[0;34m\u001b[0m\u001b[0;34m\u001b[0m\u001b[0m\n",
      "\u001b[0;32m~/.local/lib/python3.9/site-packages/minorminer/utils/pegasus.py\u001b[0m in \u001b[0;36mfind_clique_embedding\u001b[0;34m(k, m, target_graph)\u001b[0m\n\u001b[1;32m    103\u001b[0m     \u001b[0m_\u001b[0m\u001b[0;34m,\u001b[0m \u001b[0mnodes\u001b[0m \u001b[0;34m=\u001b[0m \u001b[0mk\u001b[0m\u001b[0;34m\u001b[0m\u001b[0;34m\u001b[0m\u001b[0m\n\u001b[1;32m    104\u001b[0m \u001b[0;34m\u001b[0m\u001b[0m\n\u001b[0;32m--> 105\u001b[0;31m     \u001b[0membedding_processor\u001b[0m\u001b[0;34m,\u001b[0m \u001b[0membedding_to_pegasus\u001b[0m \u001b[0;34m=\u001b[0m \u001b[0m_pegasus_fragment_helper\u001b[0m\u001b[0;34m(\u001b[0m\u001b[0mm\u001b[0m\u001b[0;34m,\u001b[0m \u001b[0mtarget_graph\u001b[0m\u001b[0;34m)\u001b[0m\u001b[0;34m\u001b[0m\u001b[0;34m\u001b[0m\u001b[0m\n\u001b[0m\u001b[1;32m    106\u001b[0m     \u001b[0mchimera_clique_embedding\u001b[0m \u001b[0;34m=\u001b[0m \u001b[0membedding_processor\u001b[0m\u001b[0;34m.\u001b[0m\u001b[0mtightestNativeClique\u001b[0m\u001b[0;34m(\u001b[0m\u001b[0mlen\u001b[0m\u001b[0;34m(\u001b[0m\u001b[0mnodes\u001b[0m\u001b[0;34m)\u001b[0m\u001b[0;34m)\u001b[0m\u001b[0;34m\u001b[0m\u001b[0;34m\u001b[0m\u001b[0m\n\u001b[1;32m    107\u001b[0m     \u001b[0mpegasus_clique_embedding\u001b[0m \u001b[0;34m=\u001b[0m \u001b[0membedding_to_pegasus\u001b[0m\u001b[0;34m(\u001b[0m\u001b[0mnodes\u001b[0m\u001b[0;34m,\u001b[0m \u001b[0mchimera_clique_embedding\u001b[0m\u001b[0;34m)\u001b[0m\u001b[0;34m\u001b[0m\u001b[0;34m\u001b[0m\u001b[0m\n",
      "\u001b[0;32m~/.local/lib/python3.9/site-packages/minorminer/utils/pegasus.py\u001b[0m in \u001b[0;36m_pegasus_fragment_helper\u001b[0;34m(m, target_graph)\u001b[0m\n\u001b[1;32m     58\u001b[0m \u001b[0;34m\u001b[0m\u001b[0m\n\u001b[1;32m     59\u001b[0m     \u001b[0;31m# Find clique embedding in K2,2 Chimera graph\u001b[0m\u001b[0;34m\u001b[0m\u001b[0;34m\u001b[0m\u001b[0;34m\u001b[0m\u001b[0m\n\u001b[0;32m---> 60\u001b[0;31m     \u001b[0membedding_processor\u001b[0m \u001b[0;34m=\u001b[0m \u001b[0mprocessor\u001b[0m\u001b[0;34m(\u001b[0m\u001b[0mfragment_edges\u001b[0m\u001b[0;34m,\u001b[0m \u001b[0mM\u001b[0m\u001b[0;34m=\u001b[0m\u001b[0mm\u001b[0m\u001b[0;34m*\u001b[0m\u001b[0;36m6\u001b[0m\u001b[0;34m,\u001b[0m \u001b[0mN\u001b[0m\u001b[0;34m=\u001b[0m\u001b[0mm\u001b[0m\u001b[0;34m*\u001b[0m\u001b[0;36m6\u001b[0m\u001b[0;34m,\u001b[0m \u001b[0mL\u001b[0m\u001b[0;34m=\u001b[0m\u001b[0;36m2\u001b[0m\u001b[0;34m,\u001b[0m \u001b[0mlinear\u001b[0m\u001b[0;34m=\u001b[0m\u001b[0;32mFalse\u001b[0m\u001b[0;34m)\u001b[0m\u001b[0;34m\u001b[0m\u001b[0;34m\u001b[0m\u001b[0m\n\u001b[0m\u001b[1;32m     61\u001b[0m \u001b[0;34m\u001b[0m\u001b[0m\n\u001b[1;32m     62\u001b[0m     \u001b[0;31m# Convert chimera fragment embedding in terms of Pegasus coordinates\u001b[0m\u001b[0;34m\u001b[0m\u001b[0;34m\u001b[0m\u001b[0;34m\u001b[0m\u001b[0m\n",
      "\u001b[0;32m~/.local/lib/python3.9/site-packages/minorminer/utils/polynomialembedder.py\u001b[0m in \u001b[0;36m__init__\u001b[0;34m(self, edgelist, M, N, L, proc_limit, linear, random_bundles)\u001b[0m\n\u001b[1;32m    806\u001b[0m         \u001b[0mself\u001b[0m\u001b[0;34m.\u001b[0m\u001b[0m_edgelist\u001b[0m \u001b[0;34m=\u001b[0m \u001b[0medgelist\u001b[0m\u001b[0;34m\u001b[0m\u001b[0;34m\u001b[0m\u001b[0m\n\u001b[1;32m    807\u001b[0m         \u001b[0mself\u001b[0m\u001b[0;34m.\u001b[0m\u001b[0m_random_bundles\u001b[0m \u001b[0;34m=\u001b[0m \u001b[0mrandom_bundles\u001b[0m\u001b[0;34m\u001b[0m\u001b[0;34m\u001b[0m\u001b[0m\n\u001b[0;32m--> 808\u001b[0;31m         \u001b[0mself\u001b[0m\u001b[0;34m.\u001b[0m\u001b[0m_proc0\u001b[0m \u001b[0;34m=\u001b[0m \u001b[0meden_processor\u001b[0m\u001b[0;34m(\u001b[0m\u001b[0medgelist\u001b[0m\u001b[0;34m,\u001b[0m \u001b[0mM\u001b[0m\u001b[0;34m,\u001b[0m \u001b[0mN\u001b[0m\u001b[0;34m,\u001b[0m \u001b[0mL\u001b[0m\u001b[0;34m,\u001b[0m \u001b[0mrandom_bundles\u001b[0m\u001b[0;34m=\u001b[0m\u001b[0mrandom_bundles\u001b[0m\u001b[0;34m)\u001b[0m\u001b[0;34m\u001b[0m\u001b[0;34m\u001b[0m\u001b[0m\n\u001b[0m\u001b[1;32m    809\u001b[0m         \u001b[0mself\u001b[0m\u001b[0;34m.\u001b[0m\u001b[0m_find_evil\u001b[0m\u001b[0;34m(\u001b[0m\u001b[0;34m)\u001b[0m\u001b[0;34m\u001b[0m\u001b[0;34m\u001b[0m\u001b[0m\n\u001b[1;32m    810\u001b[0m         \u001b[0mself\u001b[0m\u001b[0;34m.\u001b[0m\u001b[0m_compute_deletions\u001b[0m\u001b[0;34m(\u001b[0m\u001b[0;34m)\u001b[0m\u001b[0;34m\u001b[0m\u001b[0;34m\u001b[0m\u001b[0m\n",
      "\u001b[0;32m~/.local/lib/python3.9/site-packages/minorminer/utils/polynomialembedder.py\u001b[0m in \u001b[0;36m__init__\u001b[0;34m(self, edgelist, M, N, L, random_bundles)\u001b[0m\n\u001b[1;32m    148\u001b[0m         \u001b[0mself\u001b[0m\u001b[0;34m.\u001b[0m\u001b[0mN\u001b[0m \u001b[0;34m=\u001b[0m \u001b[0mN\u001b[0m\u001b[0;34m\u001b[0m\u001b[0;34m\u001b[0m\u001b[0m\n\u001b[1;32m    149\u001b[0m         \u001b[0mself\u001b[0m\u001b[0;34m.\u001b[0m\u001b[0mL\u001b[0m \u001b[0;34m=\u001b[0m \u001b[0mL\u001b[0m\u001b[0;34m\u001b[0m\u001b[0;34m\u001b[0m\u001b[0m\n\u001b[0;32m--> 150\u001b[0;31m         \u001b[0mself\u001b[0m\u001b[0;34m.\u001b[0m\u001b[0m_compute_vline_scores\u001b[0m\u001b[0;34m(\u001b[0m\u001b[0;34m)\u001b[0m\u001b[0;34m\u001b[0m\u001b[0;34m\u001b[0m\u001b[0m\n\u001b[0m\u001b[1;32m    151\u001b[0m         \u001b[0mself\u001b[0m\u001b[0;34m.\u001b[0m\u001b[0m_compute_hline_scores\u001b[0m\u001b[0;34m(\u001b[0m\u001b[0;34m)\u001b[0m\u001b[0;34m\u001b[0m\u001b[0;34m\u001b[0m\u001b[0m\n\u001b[1;32m    152\u001b[0m         \u001b[0mself\u001b[0m\u001b[0;34m.\u001b[0m\u001b[0mrandom_bundles\u001b[0m \u001b[0;34m=\u001b[0m \u001b[0mrandom_bundles\u001b[0m\u001b[0;34m\u001b[0m\u001b[0;34m\u001b[0m\u001b[0m\n",
      "\u001b[0;32m~/.local/lib/python3.9/site-packages/minorminer/utils/polynomialembedder.py\u001b[0m in \u001b[0;36m_compute_vline_scores\u001b[0;34m(self)\u001b[0m\n\u001b[1;32m    209\u001b[0m                             \u001b[0mblock\u001b[0m\u001b[0;34m[\u001b[0m\u001b[0my1\u001b[0m\u001b[0;34m]\u001b[0m \u001b[0;34m+=\u001b[0m \u001b[0;36m1\u001b[0m\u001b[0;34m\u001b[0m\u001b[0;34m\u001b[0m\u001b[0m\n\u001b[1;32m    210\u001b[0m                 \u001b[0;32mfor\u001b[0m \u001b[0my1\u001b[0m \u001b[0;32min\u001b[0m \u001b[0mrange\u001b[0m\u001b[0;34m(\u001b[0m\u001b[0my\u001b[0m \u001b[0;34m+\u001b[0m \u001b[0;36m1\u001b[0m\u001b[0;34m)\u001b[0m\u001b[0;34m:\u001b[0m\u001b[0;34m\u001b[0m\u001b[0;34m\u001b[0m\u001b[0m\n\u001b[0;32m--> 211\u001b[0;31m                     \u001b[0mvline_score\u001b[0m\u001b[0;34m[\u001b[0m\u001b[0mx\u001b[0m\u001b[0;34m,\u001b[0m \u001b[0my1\u001b[0m\u001b[0;34m,\u001b[0m \u001b[0my\u001b[0m\u001b[0;34m]\u001b[0m \u001b[0;34m=\u001b[0m \u001b[0mblock\u001b[0m\u001b[0;34m[\u001b[0m\u001b[0my1\u001b[0m\u001b[0;34m]\u001b[0m\u001b[0;34m\u001b[0m\u001b[0;34m\u001b[0m\u001b[0m\n\u001b[0m\u001b[1;32m    212\u001b[0m         \u001b[0mself\u001b[0m\u001b[0;34m.\u001b[0m\u001b[0m_vline_score\u001b[0m \u001b[0;34m=\u001b[0m \u001b[0mvline_score\u001b[0m\u001b[0;34m\u001b[0m\u001b[0;34m\u001b[0m\u001b[0m\n\u001b[1;32m    213\u001b[0m \u001b[0;34m\u001b[0m\u001b[0m\n",
      "\u001b[0;31mKeyboardInterrupt\u001b[0m: "
     ]
    }
   ],
   "source": [
    "# another way to maybe find an embedding for the pegasus architecture  @some point\n",
    "\n",
    "# don't know how to choose a proper value for m yet..\n",
    "\n",
    "from dwave.embedding.pegasus import find_clique_embedding\n",
    "\n",
    "find_clique_embedding(k=bqm.to_networkx_graph(), m=100)\n",
    "\n"
   ]
  },
  {
   "cell_type": "code",
   "execution_count": 103,
   "metadata": {},
   "outputs": [
    {
     "data": {
      "text/plain": [
       "5436"
      ]
     },
     "execution_count": 103,
     "metadata": {},
     "output_type": "execute_result"
    }
   ],
   "source": [
    "len(target_adjacency)"
   ]
  },
  {
   "cell_type": "code",
   "execution_count": 72,
   "metadata": {},
   "outputs": [
    {
     "ename": "AttributeError",
     "evalue": "'NoneType' object has no attribute 'items'",
     "output_type": "error",
     "traceback": [
      "\u001b[0;31m---------------------------------------------------------------------------\u001b[0m",
      "\u001b[0;31mAttributeError\u001b[0m                            Traceback (most recent call last)",
      "\u001b[0;32m<ipython-input-72-33201f024c30>\u001b[0m in \u001b[0;36m<module>\u001b[0;34m\u001b[0m\n\u001b[0;32m----> 1\u001b[0;31m \u001b[0membedded_bqm\u001b[0m \u001b[0;34m=\u001b[0m \u001b[0membed_bqm\u001b[0m\u001b[0;34m(\u001b[0m\u001b[0msource_bqm\u001b[0m\u001b[0;34m=\u001b[0m\u001b[0mbqm\u001b[0m\u001b[0;34m,\u001b[0m \u001b[0mtarget_adjacency\u001b[0m\u001b[0;34m=\u001b[0m\u001b[0mtarget_adjacency\u001b[0m\u001b[0;34m)\u001b[0m\u001b[0;34m\u001b[0m\u001b[0;34m\u001b[0m\u001b[0m\n\u001b[0m",
      "\u001b[0;32m~/.local/lib/python3.9/site-packages/dwave/embedding/transforms.py\u001b[0m in \u001b[0;36membed_bqm\u001b[0;34m(source_bqm, embedding, target_adjacency, chain_strength, smear_vartype)\u001b[0m\n\u001b[1;32m    390\u001b[0m     \u001b[0;32melse\u001b[0m\u001b[0;34m:\u001b[0m\u001b[0;34m\u001b[0m\u001b[0;34m\u001b[0m\u001b[0m\n\u001b[1;32m    391\u001b[0m         \u001b[0mtarget_edges\u001b[0m \u001b[0;34m=\u001b[0m \u001b[0madjacency_to_edges\u001b[0m\u001b[0;34m(\u001b[0m\u001b[0mtarget_adjacency\u001b[0m\u001b[0;34m)\u001b[0m\u001b[0;34m\u001b[0m\u001b[0;34m\u001b[0m\u001b[0m\n\u001b[0;32m--> 392\u001b[0;31m         \u001b[0membedding\u001b[0m \u001b[0;34m=\u001b[0m \u001b[0mEmbeddedStructure\u001b[0m\u001b[0;34m(\u001b[0m\u001b[0mtarget_edges\u001b[0m\u001b[0;34m,\u001b[0m \u001b[0membedding\u001b[0m\u001b[0;34m)\u001b[0m\u001b[0;34m\u001b[0m\u001b[0;34m\u001b[0m\u001b[0m\n\u001b[0m\u001b[1;32m    393\u001b[0m \u001b[0;34m\u001b[0m\u001b[0m\n\u001b[1;32m    394\u001b[0m     return embedding.embed_bqm(source_bqm, smear_vartype=smear_vartype,\n",
      "\u001b[0;32m~/.local/lib/python3.9/site-packages/dwave/embedding/transforms.py\u001b[0m in \u001b[0;36m__init__\u001b[0;34m(self, target_edges, embedding)\u001b[0m\n\u001b[1;32m     67\u001b[0m                 \u001b[0;32mreturn\u001b[0m\u001b[0;34m\u001b[0m\u001b[0;34m\u001b[0m\u001b[0m\n\u001b[1;32m     68\u001b[0m         \u001b[0;32melse\u001b[0m\u001b[0;34m:\u001b[0m\u001b[0;34m\u001b[0m\u001b[0;34m\u001b[0m\u001b[0m\n\u001b[0;32m---> 69\u001b[0;31m             \u001b[0msuper\u001b[0m\u001b[0;34m(\u001b[0m\u001b[0;34m)\u001b[0m\u001b[0;34m.\u001b[0m\u001b[0m__init__\u001b[0m\u001b[0;34m(\u001b[0m\u001b[0;34m(\u001b[0m\u001b[0mu\u001b[0m\u001b[0;34m,\u001b[0m \u001b[0mtuple\u001b[0m\u001b[0;34m(\u001b[0m\u001b[0mc\u001b[0m\u001b[0;34m)\u001b[0m\u001b[0;34m)\u001b[0m \u001b[0;32mfor\u001b[0m \u001b[0mu\u001b[0m\u001b[0;34m,\u001b[0m \u001b[0mc\u001b[0m \u001b[0;32min\u001b[0m \u001b[0membedding\u001b[0m\u001b[0;34m.\u001b[0m\u001b[0mitems\u001b[0m\u001b[0;34m(\u001b[0m\u001b[0;34m)\u001b[0m\u001b[0;34m)\u001b[0m\u001b[0;34m\u001b[0m\u001b[0;34m\u001b[0m\u001b[0m\n\u001b[0m\u001b[1;32m     70\u001b[0m \u001b[0;34m\u001b[0m\u001b[0m\n\u001b[1;32m     71\u001b[0m         \u001b[0mtarget_label\u001b[0m \u001b[0;34m=\u001b[0m \u001b[0;34m{\u001b[0m\u001b[0;34m}\u001b[0m\u001b[0;34m\u001b[0m\u001b[0;34m\u001b[0m\u001b[0m\n",
      "\u001b[0;31mAttributeError\u001b[0m: 'NoneType' object has no attribute 'items'"
     ]
    }
   ],
   "source": [
    "embedded_bqm = embed_bqm(source_bqm=bqm, target_adjacency=target_adjacency)"
   ]
  },
  {
   "cell_type": "code",
   "execution_count": 66,
   "metadata": {},
   "outputs": [
    {
     "ename": "NameError",
     "evalue": "name 'emb' is not defined",
     "output_type": "error",
     "traceback": [
      "\u001b[0;31m---------------------------------------------------------------------------\u001b[0m",
      "\u001b[0;31mNameError\u001b[0m                                 Traceback (most recent call last)",
      "\u001b[0;32m<ipython-input-66-2b2bb89e6483>\u001b[0m in \u001b[0;36m<module>\u001b[0;34m\u001b[0m\n\u001b[0;32m----> 1\u001b[0;31m \u001b[0membedded_bqm\u001b[0m \u001b[0;34m=\u001b[0m \u001b[0membed_bqm\u001b[0m\u001b[0;34m(\u001b[0m\u001b[0mbqm\u001b[0m\u001b[0;34m,\u001b[0m \u001b[0memb\u001b[0m\u001b[0;34m,\u001b[0m \u001b[0mtarget_adjacency\u001b[0m\u001b[0;34m)\u001b[0m\u001b[0;34m\u001b[0m\u001b[0;34m\u001b[0m\u001b[0m\n\u001b[0m",
      "\u001b[0;31mNameError\u001b[0m: name 'emb' is not defined"
     ]
    }
   ],
   "source": [
    "embedded_bqm = embed_bqm(bqm, emb, target_adjacency)"
   ]
  },
  {
   "cell_type": "code",
   "execution_count": null,
   "metadata": {},
   "outputs": [],
   "source": [
    "result = solver.sample(embedded_bqm, num_reads=1)"
   ]
  },
  {
   "cell_type": "code",
   "execution_count": null,
   "metadata": {},
   "outputs": [],
   "source": [
    "unembedded = unembed_sampleset(result, emb, bqm, chain_break_method=majority_vote(bqm, emb))"
   ]
  },
  {
   "cell_type": "code",
   "execution_count": null,
   "metadata": {},
   "outputs": [],
   "source": [
    "import dwave.inspector\n",
    "dwave.inspector.show(sampleset)   "
   ]
  }
 ],
 "metadata": {
  "kernelspec": {
   "display_name": "Python 3",
   "language": "python",
   "name": "python3"
  },
  "language_info": {
   "codemirror_mode": {
    "name": "ipython",
    "version": 3
   },
   "file_extension": ".py",
   "mimetype": "text/x-python",
   "name": "python",
   "nbconvert_exporter": "python",
   "pygments_lexer": "ipython3",
   "version": "3.9.1"
  }
 },
 "nbformat": 4,
 "nbformat_minor": 4
}

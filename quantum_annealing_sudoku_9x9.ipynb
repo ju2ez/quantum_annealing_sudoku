{
 "cells": [
  {
   "cell_type": "code",
   "execution_count": 1,
   "metadata": {},
   "outputs": [],
   "source": [
    "# for classical solver (simulated annealing)\n",
    "import dimod\n",
    "import operator\n",
    "import dwavebinarycsp\n",
    "import numpy as np\n",
    "import math"
   ]
  },
  {
   "cell_type": "code",
   "execution_count": 3,
   "metadata": {},
   "outputs": [],
   "source": [
    "rows = 'ABCDEFGHI'\n",
    "cols = '123456789'\n",
    "boxes = [[(\"{}{}\".format(r, c)) for c in cols] for r in rows]  # declare variables for each box in the puzzle\n",
    "square_units = [ [ x+y for x in A for y in B ] for A in ('ABC','DEF','GHI') for B in ('123','456','789') ]"
   ]
  },
  {
   "cell_type": "code",
   "execution_count": 4,
   "metadata": {},
   "outputs": [],
   "source": [
    "def print_board(board):\n",
    "    if isinstance(board, str):     \n",
    "        board = string_to_tuple(board)\n",
    "    for row, _boxes in enumerate(boxes):\n",
    "        if row and row % 3 == 0:\n",
    "            print('-'*9+\"|\"+'-'*9+\"|\"+'-'*9)\n",
    "        for col, box in enumerate(_boxes):\n",
    "            if col and col % 3 == 0:\n",
    "                print('|', end='')\n",
    "            print(' {} '.format((int(board[row][col]) or '-')), end='')\n",
    "        print()\n",
    "    print()"
   ]
  },
  {
   "cell_type": "code",
   "execution_count": 5,
   "metadata": {},
   "outputs": [
    {
     "name": "stdout",
     "output_type": "stream",
     "text": [
      " -  -  3 | -  2  - | 6  -  - \n",
      " 9  -  - | 3  -  5 | -  -  1 \n",
      " -  -  1 | 8  -  6 | 4  -  - \n",
      "---------|---------|---------\n",
      " -  -  8 | 1  -  2 | 9  -  - \n",
      " 7  -  - | -  -  - | -  -  8 \n",
      " -  -  6 | 7  -  8 | 2  -  - \n",
      "---------|---------|---------\n",
      " -  -  2 | 6  -  9 | 5  -  - \n",
      " 8  -  - | 2  -  3 | -  -  9 \n",
      " -  -  5 | -  1  - | 3  -  - \n",
      "\n"
     ]
    }
   ],
   "source": [
    "board = ((0, 0, 3, 0, 2, 0, 6, 0, 0),\n",
    "         (9, 0, 0, 3, 0, 5, 0, 0, 1),\n",
    "         (0, 0, 1, 8, 0, 6, 4, 0, 0),\n",
    "         (0, 0, 8, 1, 0, 2, 9, 0, 0),\n",
    "         (7, 0, 0, 0, 0, 0, 0, 0, 8),\n",
    "         (0, 0, 6, 7, 0, 8, 2, 0, 0),\n",
    "         (0, 0, 2, 6, 0, 9, 5, 0, 0),\n",
    "         (8, 0, 0, 2, 0, 3, 0, 0, 9),\n",
    "         (0, 0, 5, 0, 1, 0, 3, 0, 0))\n",
    "print_board(board)"
   ]
  },
  {
   "cell_type": "code",
   "execution_count": 6,
   "metadata": {},
   "outputs": [
    {
     "name": "stdout",
     "output_type": "stream",
     "text": [
      " -  -  - | 8  9  - | -  -  - \n",
      " 2  6  - | -  -  4 | -  -  - \n",
      " -  -  4 | -  -  - | -  -  - \n",
      "---------|---------|---------\n",
      " -  -  5 | 3  -  - | 4  -  9 \n",
      " -  8  - | -  -  - | 7  5  - \n",
      " 6  -  - | -  -  - | -  -  3 \n",
      "---------|---------|---------\n",
      " -  7  - | -  2  6 | -  -  4 \n",
      " 1  2  - | 5  -  3 | -  -  - \n",
      " -  -  6 | -  -  - | 2  -  - \n",
      "\n"
     ]
    }
   ],
   "source": [
    "board = ((0, 0, 0, 8, 9, 0, 0, 0, 0),\n",
    "         (2, 6, 0, 0, 0, 4, 0, 0, 0),\n",
    "         (0, 0, 4, 0, 0, 0, 0, 0, 0),\n",
    "         (0, 0, 5, 3, 0, 0, 4, 0, 9),\n",
    "         (0, 8, 0, 0, 0, 0, 7, 5, 0),\n",
    "         (6, 0, 0, 0, 0, 0, 0, 0, 3),\n",
    "         (0, 7, 0, 0, 2, 6, 0, 0, 4),\n",
    "         (1, 2, 0, 5, 0, 3, 0, 0, 0),\n",
    "         (0, 0, 6, 0, 0, 0, 2, 0, 0))\n",
    "print_board(board)"
   ]
  },
  {
   "cell_type": "code",
   "execution_count": 6,
   "metadata": {},
   "outputs": [
    {
     "name": "stdout",
     "output_type": "stream",
     "text": [
      " 5  3  7 | 8  9  1 | 6  4  2 \n",
      " 2  6  1 | 7  5  4 | 3  9  8 \n",
      " 8  9  4 | 6  3  2 | 1  7  5 \n",
      "---------|---------|---------\n",
      " 7  1  5 | 3  6  8 | 4  2  9 \n",
      " 3  8  2 | 4  1  9 | 7  5  6 \n",
      " 6  4  9 | 2  7  5 | 8  1  3 \n",
      "---------|---------|---------\n",
      " 9  7  3 | 1  2  6 | 5  8  4 \n",
      " 1  2  8 | 5  4  3 | 9  6  7 \n",
      " -  5  6 | 9  8  7 | 2  3  1 \n",
      "\n"
     ]
    }
   ],
   "source": [
    "correct_board = ((5, 3, 7, 8, 9, 1, 6, 4, 2),\n",
    "         (2, 6, 1, 7, 5, 4, 3, 9, 8),\n",
    "         (8, 9, 4, 6, 3, 2, 1, 7, 5),\n",
    "         (7, 1, 5, 3, 6, 8, 4, 2, 9),\n",
    "         (3, 8, 2, 4, 1, 9, 7, 5, 6),\n",
    "         (6, 4, 9, 2, 7, 5, 8, 1, 3),\n",
    "         (9, 7, 3, 1, 2, 6, 5, 8, 4),\n",
    "         (1, 2, 8, 5, 4, 3, 9, 6, 7),\n",
    "         (0, 5, 6, 9, 8, 7, 2, 3, 1))\n",
    "print_board(correct_board)"
   ]
  },
  {
   "cell_type": "code",
   "execution_count": 7,
   "metadata": {},
   "outputs": [],
   "source": [
    "from itertools import product\n",
    "\n",
    "def check_sudoku(grid):\n",
    "    \"\"\"Validate a sudoku solution.\n",
    "\n",
    "    Given a grid as a list of lists, return None if it is ill-formed,\n",
    "    False if it is invalid, or True if it is a valid solution.\n",
    "    \"\"\"\n",
    "    error_count=0\n",
    "    # Check that the grid is 9x9.\n",
    "    if len(grid) != 9 or not all(len(row) == 9 for row in grid):\n",
    "        error_count+=1\n",
    "    DIGITS = set(range(1, 10))\n",
    "\n",
    "    # Check that each number appears exactly once per row\n",
    "    if not all(set(row) == DIGITS for row in grid):\n",
    "        error_count+=1\n",
    "\n",
    "    # Check that each number appears exactly once per column\n",
    "    columns = [[row[c] for row in grid] for c in range(9)]\n",
    "    if not all(set(col) == DIGITS for col in columns):\n",
    "        error_count+=1\n",
    "\n",
    "    # Check that each number appears exactly once per 3x3 grid\n",
    "    THREES = [(0, 1, 2), (3, 4, 5), (6, 7, 8)]\n",
    "    for row_block, col_block in product(THREES, THREES):\n",
    "        block = [grid[r][c] for r, c in product(row_block, col_block)]\n",
    "        if set(block) != DIGITS:\n",
    "            error_count+=1\n",
    "\n",
    "\n",
    "    return error_count\n"
   ]
  },
  {
   "cell_type": "code",
   "execution_count": 8,
   "metadata": {},
   "outputs": [
    {
     "data": {
      "text/plain": [
       "11"
      ]
     },
     "execution_count": 8,
     "metadata": {},
     "output_type": "execute_result"
    }
   ],
   "source": [
    "check_sudoku(board)"
   ]
  },
  {
   "cell_type": "code",
   "execution_count": 9,
   "metadata": {},
   "outputs": [
    {
     "data": {
      "text/plain": [
       "3"
      ]
     },
     "execution_count": 9,
     "metadata": {},
     "output_type": "execute_result"
    }
   ],
   "source": [
    "check_sudoku(correct_board)"
   ]
  },
  {
   "cell_type": "code",
   "execution_count": 10,
   "metadata": {},
   "outputs": [],
   "source": [
    "def encode_board_to_binary(board):\n",
    "    binary_board= np.zeros((9, 9, 9)).tolist()\n",
    "    for row_index, row in enumerate(board):\n",
    "        for column_index, cell in enumerate(row):\n",
    "            if cell>0:\n",
    "                binary_board[cell-1][row_index][column_index]=1    \n",
    "    return binary_board \n",
    "\n",
    "def decode_board_from_binary(binary_board):\n",
    "    board= np.zeros((9, 9))\n",
    "    for k, color in enumerate(binary_board):\n",
    "        for i, row in enumerate(color):\n",
    "            for j, cell_value in enumerate(row):\n",
    "                if cell_value>0:\n",
    "                    board[i][j]+=int(k+1)\n",
    "                else:\n",
    "                    board[i][j]+=int(0)\n",
    "    return board "
   ]
  },
  {
   "cell_type": "code",
   "execution_count": 11,
   "metadata": {},
   "outputs": [],
   "source": [
    "# for exmaple: relabel binary \n",
    "# variable x_i_j_k-> x_1_1_1 should equal x_1 x_1_1_2 = x_2 and so forth..\n",
    "def encode_var_labels(i,j,k,N=9):\n",
    "    #return (i-1)*N*N+(j-1)*N+k\n",
    "    counter=0\n",
    "    for a in range(i):\n",
    "        for b in range(j):\n",
    "            for c in range(k):\n",
    "                pass\n",
    "    return (a*N*N)+(b*N)+c+1 \n",
    "    \n",
    "def decode_var_labels(index, N=9):\n",
    "    for i in range (N):\n",
    "        for j in range(N):\n",
    "            for k in range(N):\n",
    "                if (i*N*N)+(j*N)+k+1 == index:\n",
    "                    return[i+1,j+1,k+1]"
   ]
  },
  {
   "cell_type": "code",
   "execution_count": 12,
   "metadata": {},
   "outputs": [],
   "source": [
    "constant = 0\n",
    "N = 9\n",
    "cell_qubo = {}\n",
    "linear = {}\n",
    "quad = {}\n",
    "penalty_weight = 1\n",
    "for i in range(1,N+1):\n",
    "        for j in range(1,N+1):\n",
    "            for k1 in range(1,N+1):  \n",
    "                    var_1 = encode_var_labels(i,j,k1)\n",
    "                    for k2 in range(1,N+1):\n",
    "                            var_2 = encode_var_labels(i,j,k2)\n",
    "                            if var_1 == var_2:\n",
    "                                linear[var_1] = -1*penalty_weight\n",
    "                            else:\n",
    "                                quad[var_1,var_2]= 2*penalty_weight\n",
    "                        #linear[var_1] = 2\n",
    "                    \n",
    "            constant+=1\n",
    "            \n",
    "\n",
    "cell_qubo[()] = constant*penalty_weight\n",
    "cell_qubo[\"linear\"] = linear\n",
    "cell_qubo[\"quadratic\"] = quad\n",
    "\n",
    "#bqm = dimod.BinaryQuadraticModel(cell_qubo,constant,dimod.Vartype.BINARY)"
   ]
  },
  {
   "cell_type": "code",
   "execution_count": 13,
   "metadata": {},
   "outputs": [],
   "source": [
    "penalty_weight=1\n",
    "constant = 0\n",
    "N = 9\n",
    "column_qubo = {}\n",
    "lin_column={}\n",
    "quad_column={}\n",
    "binary_board = encode_board_to_binary(board)\n",
    "for k in range(1,N):\n",
    "        for j in range(1,N):\n",
    "            for i1 in range(1,N):\n",
    "                var_1 = encode_var_labels(i1,j,k)\n",
    "                for i2 in range(1,N):               \n",
    "                    var_2 = encode_var_labels(i2,j,k)\n",
    "                    if var_1 == var_2:\n",
    "                        lin_column[var_1] = -1*penalty_weight\n",
    "                    else:\n",
    "                        quad_column[var_1,var_2] = 2*penalty_weight\n",
    "        constant+=1\n",
    "        \n",
    "column_qubo[()] = constant*penalty_weight\n",
    "column_qubo['linear'] = lin_column\n",
    "column_qubo['quadratic'] = quad_column"
   ]
  },
  {
   "cell_type": "code",
   "execution_count": 14,
   "metadata": {},
   "outputs": [],
   "source": [
    "constant = 0\n",
    "N = 9\n",
    "row_qubo = {}\n",
    "linear_row ={}\n",
    "quadratic_row={}\n",
    "penalty_weight=2\n",
    "binary_board = encode_board_to_binary(board)\n",
    "for k in range(1,N):\n",
    "        for i in range(1,N):\n",
    "            for j1 in range(1,N):\n",
    "                var_1 = encode_var_labels(i,j1,k)\n",
    "                for j2 in range(1,N):      \n",
    "                    var_2 = encode_var_labels(i,j2,k)\n",
    "                    if var_1 == var_2:\n",
    "                        linear_row[var_1] = -1*penalty_weight\n",
    "                    else:\n",
    "                        quadratic_row[var_1, var_2] = 2*penalty_weight\n",
    "        constant+=1\n",
    "        \n",
    "row_qubo[()] = constant*penalty_weight\n",
    "row_qubo['linear'] = linear_row\n",
    "row_qubo['quadratic'] = quadratic_row"
   ]
  },
  {
   "cell_type": "code",
   "execution_count": 15,
   "metadata": {},
   "outputs": [],
   "source": [
    "binary_board = encode_board_to_binary(board)\n",
    "hint = []\n",
    "penalty_weight = 4\n",
    "\n",
    "for k, color in enumerate(binary_board):\n",
    "    for i, row in enumerate(color):\n",
    "        for j, cell in enumerate(row):\n",
    "            if cell>0:\n",
    "                hint.append([i+1,j+1,k+1])\n",
    "                \n",
    "hint_qubo = {}\n",
    "constant=0\n",
    "for (i, j, k) in hint:\n",
    "    re_label = encode_var_labels(i,j,k) \n",
    "    hint_qubo[re_label] = -1*penalty_weight\n",
    "    constant += 1\n",
    "\n",
    "hint_qubo[()] = constant*penalty_weight\n"
   ]
  },
  {
   "cell_type": "code",
   "execution_count": 16,
   "metadata": {},
   "outputs": [],
   "source": [
    "from math import sqrt\n",
    "constant = 0\n",
    "N = 9\n",
    "duplicate_qubo = {}\n",
    "dupli_linear = {}\n",
    "dupli_quadr = {}\n",
    "sqrtN = int(sqrt(N))\n",
    "for grid_i in range(sqrtN):\n",
    "    for grid_j in range(sqrtN):\n",
    "        for k in range(N):\n",
    "            # there can be only one k in the same subgrid.\n",
    "            for i1 in range(grid_i * 3, grid_i * 3 + 3):\n",
    "                for j1 in range(grid_j * 3, grid_j * 3 + 3):\n",
    "                    for i2 in range(grid_i * 3, grid_i * 3 + 3):\n",
    "                        var_1 = encode_var_labels(i1+1,j1+1,k+1)\n",
    "                        for j2 in range(grid_j * 3, grid_j * 3 + 3):\n",
    "                            var_2 = encode_var_labels(i2+1,j2+1,k+1)\n",
    "                            if var_1 == var_2:\n",
    "                                dupli_linear[var_1] = -1\n",
    "                            else:\n",
    "                                dupli_quadr[var_1,var_2] = 1\n",
    "            constant+=1\n",
    "\n",
    "            \n",
    "duplicate_qubo[()] = constant\n",
    "duplicate_qubo['linear'] = dupli_linear\n",
    "duplicate_qubo['quadratic'] = dupli_quadr"
   ]
  },
  {
   "cell_type": "code",
   "execution_count": null,
   "metadata": {},
   "outputs": [],
   "source": []
  },
  {
   "cell_type": "code",
   "execution_count": 17,
   "metadata": {},
   "outputs": [],
   "source": [
    "result_qubo_linear = {}\n",
    "result_qubo_quadratic = {}"
   ]
  },
  {
   "cell_type": "code",
   "execution_count": 18,
   "metadata": {},
   "outputs": [],
   "source": [
    "for index, value in hint_qubo.items():\n",
    "    if result_qubo_linear.get(index):\n",
    "        result_qubo_linear[index] += value\n",
    "        \n",
    "    else:\n",
    "        result_qubo_linear[index] = value"
   ]
  },
  {
   "cell_type": "code",
   "execution_count": 19,
   "metadata": {},
   "outputs": [],
   "source": [
    "for index, value in cell_qubo['linear'].items():\n",
    "    if result_qubo_linear.get(index):\n",
    "        result_qubo_linear[index] += value\n",
    "        \n",
    "    else:\n",
    "        result_qubo_linear[index] = value"
   ]
  },
  {
   "cell_type": "code",
   "execution_count": 20,
   "metadata": {},
   "outputs": [],
   "source": [
    "for index, value in cell_qubo['quadratic'].items():\n",
    "    if result_qubo_quadratic.get(index):\n",
    "        result_qubo_quadratic[index] += value\n",
    "        \n",
    "    else:\n",
    "        result_qubo_quadratic[index] = value"
   ]
  },
  {
   "cell_type": "code",
   "execution_count": 21,
   "metadata": {},
   "outputs": [],
   "source": [
    "for index, value in column_qubo['linear'].items():\n",
    "    if result_qubo_linear.get(index):\n",
    "        result_qubo_linear[index] += value\n",
    "    else:\n",
    "        result_qubo_linear[index] = value"
   ]
  },
  {
   "cell_type": "code",
   "execution_count": 22,
   "metadata": {},
   "outputs": [],
   "source": [
    "for index, value in column_qubo['quadratic'].items():\n",
    "    if result_qubo_quadratic.get(index):\n",
    "        result_qubo_quadratic[index] += value\n",
    "    else:\n",
    "        result_qubo_quadratic[index] = value"
   ]
  },
  {
   "cell_type": "code",
   "execution_count": 23,
   "metadata": {},
   "outputs": [],
   "source": [
    "for index, value in row_qubo['linear'].items():\n",
    "    if result_qubo_linear.get(index):\n",
    "        result_qubo_linear[index] += value\n",
    "        \n",
    "    else:\n",
    "        result_qubo_linear[index] = value"
   ]
  },
  {
   "cell_type": "code",
   "execution_count": 24,
   "metadata": {},
   "outputs": [],
   "source": [
    "for index, value in row_qubo['quadratic'].items():\n",
    "    if result_qubo_quadratic.get(index):\n",
    "        result_qubo_quadratic[index] += value\n",
    "        \n",
    "    else:\n",
    "        result_qubo_quadratic[index] = value"
   ]
  },
  {
   "cell_type": "code",
   "execution_count": 25,
   "metadata": {},
   "outputs": [],
   "source": [
    "for index, value in duplicate_qubo['linear'].items():\n",
    "    if result_qubo_linear.get(index):\n",
    "        result_qubo_linear[index] += value\n",
    "        \n",
    "    else:\n",
    "        result_qubo_linear[index] = value"
   ]
  },
  {
   "cell_type": "code",
   "execution_count": 26,
   "metadata": {},
   "outputs": [],
   "source": [
    "for index, value in duplicate_qubo['quadratic'].items():\n",
    "    if result_qubo_quadratic.get(index):\n",
    "        result_qubo_quadratic[index] += value\n",
    "        \n",
    "    else:\n",
    "        result_qubo_quadratic[index] = value"
   ]
  },
  {
   "cell_type": "code",
   "execution_count": 27,
   "metadata": {},
   "outputs": [
    {
     "data": {
      "text/plain": [
       "40.5"
      ]
     },
     "execution_count": 27,
     "metadata": {},
     "output_type": "execute_result"
    }
   ],
   "source": [
    "constant/2"
   ]
  },
  {
   "cell_type": "code",
   "execution_count": 28,
   "metadata": {},
   "outputs": [],
   "source": [
    "constant= cell_qubo.get((),0) + hint_qubo.get((),0) + row_qubo.get((),0) + column_qubo.get((),0) + duplicate_qubo.get((),0)\n",
    "bqm = dimod.BinaryQuadraticModel(result_qubo_linear,result_qubo_quadratic, constant,dimod.Vartype.BINARY)"
   ]
  },
  {
   "cell_type": "code",
   "execution_count": 29,
   "metadata": {},
   "outputs": [],
   "source": [
    "# test run\n",
    "import neal\n",
    "sampler = neal.SimulatedAnnealingSampler()\n",
    "sample_set=sampler.sample(bqm, num_reads=30,num_sweeps=2222)\n"
   ]
  },
  {
   "cell_type": "code",
   "execution_count": 30,
   "metadata": {},
   "outputs": [],
   "source": [
    "from random import randrange\n",
    "import time\n",
    "\n",
    "def find_optimal_solution(best_solution_global, current_solution, current_energy):\n",
    "    best_solution = {}\n",
    "    error_count=20\n",
    "    iteration = 0\n",
    "    sampler = neal.SimulatedAnnealingSampler()\n",
    "    start_time = time.perf_counter()\n",
    "    while error_count>0:\n",
    "        \"\"\"\n",
    "        sample_set = sampler.sample(bqm, seed=1234, beta_range=[0.1, 4.2],\n",
    "                                        num_reads=10, num_sweeps=20000,\n",
    "                                       beta_schedule_type='geometric')\n",
    "        \"\"\"\n",
    "        random_seed = randrange(9000)\n",
    "        #random_seed = 5832\n",
    "        num_reads = randrange(12000)\n",
    "        num_sweeps = randrange(60000)\n",
    "        num_reads = 5\n",
    "        num_sweeps=50\n",
    "        #num_sweeps*=iteration\n",
    "        pre_anneal = time.perf_counter()\n",
    "        sample_set=sampler.sample(bqm,seed=random_seed ,num_reads=num_reads,num_sweeps=num_sweeps)\n",
    "        iteration+=1\n",
    "        post_anneal = time.perf_counter()\n",
    "        \n",
    "        annealing_time = post_anneal-pre_anneal\n",
    "        for solution, energy in sample_set.data(['sample', 'energy']):\n",
    "            binary_solution_board= np.zeros((9, 9, 9))\n",
    "            for index, value in solution.items():\n",
    "                if type(index) is int and index>0:\n",
    "                    board_index = decode_var_labels(index)\n",
    "                    binary_solution_board[board_index[2]-1][board_index[0]-1][board_index[1]-1] = value\n",
    "            solution_board=decode_board_from_binary(binary_solution_board)\n",
    "            error_count_temp = check_sudoku(solution_board)\n",
    "            \n",
    "            \n",
    "            \n",
    "            current_solution.append(1)\n",
    "            current_energy.append(energy)\n",
    "            current_solution[:] = []\n",
    "            current_energy[:] = []\n",
    "            current_solution.append(solution)\n",
    "            current_energy.append(energy)\n",
    "            \n",
    "            \n",
    "        overall_time = time.perf_counter()-start_time\n",
    "        if error_count_temp<error_count:\n",
    "            best_solution = solution_board\n",
    "            best_solution_global.append(solution)\n",
    "            error_count=error_count_temp\n",
    "            print(\"\\nError Count:\",error_count, \"iteration:\", iteration, \"Energy:\", energy,\n",
    "                  \"Seed:\", random_seed, \"num_reads:\", num_reads, \"sweeps:\", num_sweeps, \n",
    "                 \"Annealing Time:\", annealing_time, \"Overall Time:\", overall_time)\n",
    "            \n",
    "        if iteration%10 == 0:\n",
    "            print(\"\\nCurrent State:\",\n",
    "                  \"Error Count:\",error_count_temp, \"iteration:\", iteration, \"Energy:\", energy,\n",
    "                 \"Seed:\", random_seed, \"num_reads:\", num_reads, \"sweeps:\", num_sweeps,\n",
    "                 \"Annealing Time:\", annealing_time, \"Overall Time:\", overall_time)\n",
    "            \n",
    "\n",
    "        "
   ]
  },
  {
   "cell_type": "code",
   "execution_count": 45,
   "metadata": {},
   "outputs": [
    {
     "name": "stdout",
     "output_type": "stream",
     "text": [
      "\n",
      "Error Count: 6 iteration: 1 Energy: -105.0 Seed: 6610 num_reads: 5 sweeps: 50 Annealing Time: 0.12621119400137104 Overall Time: 0.3090316919842735\n",
      "\n",
      "Current State: Error Count: 6 iteration: 10 Energy: -101.0 Seed: 7591 num_reads: 5 sweeps: 50 Annealing Time: 0.12421651097247377 Overall Time: 3.237474827998085\n",
      "\n",
      "Error Count: 5 iteration: 18 Energy: -94.0 Seed: 1933 num_reads: 5 sweeps: 50 Annealing Time: 0.1260571299935691 Overall Time: 5.816639102995396\n",
      "\n",
      "Current State: Error Count: 9 iteration: 20 Energy: -107.0 Seed: 133 num_reads: 5 sweeps: 50 Annealing Time: 0.1443088899832219 Overall Time: 6.618094535981072\n",
      "\n",
      "Current State: Error Count: 9 iteration: 30 Energy: -97.0 Seed: 6339 num_reads: 5 sweeps: 50 Annealing Time: 0.11300338001456112 Overall Time: 9.864797967980849\n",
      "\n",
      "Current State: Error Count: 8 iteration: 40 Energy: -82.0 Seed: 4093 num_reads: 5 sweeps: 50 Annealing Time: 0.12409657999523915 Overall Time: 13.147613757988438\n",
      "\n",
      "Error Count: 4 iteration: 43 Energy: -97.0 Seed: 4531 num_reads: 5 sweeps: 50 Annealing Time: 0.11718128199572675 Overall Time: 14.137875365006039\n",
      "\n",
      "Current State: Error Count: 10 iteration:  50Energy: -88.0 Seed: 4580 num_reads: 5 sweeps: 50 Annealing Time: 0.11618083098437637 Overall Time: 16.339021913998295\n",
      "\n",
      "Current State: Error Count: 8 iteration: 60 Energy: -103.0 Seed: 5109 num_reads: 5 sweeps: 50 Annealing Time: 0.13245129899587482 Overall Time: 19.460714521992486\n",
      "\n",
      "Current State: Error Count: 7 iteration: 70 Energy: -101.0 Seed: 2663 num_reads: 5 sweeps: 50 Annealing Time: 0.12010222801472992 Overall Time: 22.569522979989415\n",
      "\n",
      "Current State: Error Count: 7 iteration: 80 Energy: -95.0 Seed: 3056 num_reads: 5 sweeps: 50 Annealing Time: 0.124357738008257 Overall Time: 25.75754434298142\n",
      "\n",
      "Current State: Error Count: 8 iteration: 90 Energy: -102.0 Seed: 2503 num_reads: 5 sweeps: 50 Annealing Time: 0.1177375240076799 Overall Time: 28.95565753299161\n",
      "\n",
      "Current State: Error Count: 9 iteration: 100 Energy: -101.0 Seed: 8170 num_reads: 5 sweeps: 50 Annealing Time: 0.1240738769993186\n",
      " Overall Time: 32.004150722990744\n",
      "Current State: Error Count: 6 iteration: 110 Energy: -97.0 Seed: 2181 num_reads: 5 sweeps: 50 Annealing Time: 0.11067576101049781 Overall Time: 35.21334490398294\n",
      "\n",
      "Current State: Error Count: 6 iteration: 120 Energy: -99.0 Seed: 1842 num_reads: 5 sweeps: 50 Annealing Time: 0.11720695599797182 Overall Time: 38.37555661299848\n",
      "\n",
      "Current State: Error Count: 6 iteration: 130 Energy: -93.0 Seed: 4450 num_reads: 5 sweeps: 50 Annealing Time: 0.10869662999175489 Overall Time: 41.56383213298977\n",
      "\n",
      "Current State: Error Count: 6 iteration: 140 Energy: -94.0Seed:  6344 num_reads: 5 sweeps: 50 Annealing Time: 0.14004027299233712 Overall Time: 44.9327578030061\n",
      "\n",
      "Current State: Error Count: 8 iteration: 150 Energy: -94.0 Seed: 2304 num_reads: 5 sweeps: 50 Annealing Time: 0.10994196298997849 Overall Time: 48.09345247998135\n",
      "\n",
      "Current State: Error Count: 7 iteration: 160 Energy: -103.0 Seed: 4393 num_reads: 5 sweeps: 50 Annealing Time: 0.12109067101846449 Overall Time: 51.36464476198307\n",
      "\n",
      "Current State: Error Count: 7 iteration: 170 Energy: -106.0 Seed: 8566 num_reads: 5 sweeps: 50 Annealing Time: 0.11123246100032702 Overall Time: 54.538176431989996\n",
      "\n",
      "Current State: Error Count: 6 iteration: 180 Energy: -82.0 Seed: 3327 num_reads: 5 sweeps: 50 Annealing Time: 0.10955199800082482 Overall Time: 58.01757708200603\n",
      "\n",
      "Current State: Error Count: 7 iteration: 190 Energy: -107.0 Seed: 6071 num_reads: 5 sweeps: 50 Annealing Time: 0.12441568900248967Overall Time:  61.34814192299382\n",
      "\n",
      "Current State: Error Count: 7 iteration: 200 Energy: -102.0 Seed: 7195 num_reads: 5 sweeps: 50 Annealing Time: 0.10955240001203492 Overall Time: 64.58155382200493\n",
      "\n",
      "Current State: Error Count: 6 iteration: 210 Energy: -92.0 Seed: 8222 num_reads: 5 sweeps: 50 Annealing Time: 0.11245139001403004 Overall Time: 67.91446520699537\n",
      "\n",
      "Current State: Error Count: 7 iteration: 220 Energy: -106.0 Seed: 3539 num_reads: 5 sweeps: 50 Annealing Time: 0.11077293098787777 Overall Time: 70.98871554899961\n",
      "\n",
      "Current State: Error Count: 11 iteration: 230 Energy: -82.0 Seed: 1715 num_reads: 5 sweeps: 50 Annealing Time: 0.2161799159948714 Overall Time: 74.33823072200175\n"
     ]
    }
   ],
   "source": [
    "import multiprocessing\n",
    "manager = multiprocessing.Manager()\n",
    "best_solution = manager.list()\n",
    "current_solution = manager.list()\n",
    "current_energy = manager.list()\n",
    "\n",
    "\n",
    "process = multiprocessing.Process(target=find_optimal_solution, \n",
    "            \n",
    "                                  args= (best_solution, current_solution, current_energy))\n",
    "process.start()\n",
    "\n"
   ]
  },
  {
   "cell_type": "code",
   "execution_count": 46,
   "metadata": {},
   "outputs": [
    {
     "data": {
      "text/plain": [
       "<Process name='Process-4' pid=1534384 parent=1533466 started>"
      ]
     },
     "execution_count": 46,
     "metadata": {},
     "output_type": "execute_result"
    }
   ],
   "source": [
    "import time\n",
    "time.sleep(10)\n",
    "#wait for terminating in order to have  \n",
    "#results when doing a (quick) autorun\n",
    "\n",
    "process.terminate()\n",
    "process"
   ]
  },
  {
   "cell_type": "code",
   "execution_count": null,
   "metadata": {},
   "outputs": [],
   "source": []
  },
  {
   "cell_type": "code",
   "execution_count": 33,
   "metadata": {},
   "outputs": [
    {
     "data": {
      "text/plain": [
       "'\\nfrom tabu import TabuSampler\\nsolver = TabuSampler()\\nsample_set = solver.sample(bqm,num_reads=100)\\n'"
      ]
     },
     "execution_count": 33,
     "metadata": {},
     "output_type": "execute_result"
    }
   ],
   "source": [
    "\"\"\"\n",
    "from tabu import TabuSampler\n",
    "solver = TabuSampler()\n",
    "sample_set = solver.sample(bqm,num_reads=100)\n",
    "\"\"\""
   ]
  },
  {
   "cell_type": "code",
   "execution_count": 47,
   "metadata": {},
   "outputs": [],
   "source": [
    "#sample_set = list(current_solution)\n",
    "sample_set = list(best_solution)"
   ]
  },
  {
   "cell_type": "code",
   "execution_count": 48,
   "metadata": {},
   "outputs": [],
   "source": [
    "solution={}\n",
    "solution_2={}\n",
    "solution_3={}\n",
    "for number, solution in enumerate(sample_set):\n",
    "    if number==0:\n",
    "        solution = solution\n",
    "    elif number==1:\n",
    "        solution_2 = solution\n",
    "    elif number==2:\n",
    "        solution_3 = solution\n",
    "        \n",
    "    \n",
    "last_solution = solution"
   ]
  },
  {
   "cell_type": "code",
   "execution_count": 49,
   "metadata": {},
   "outputs": [],
   "source": [
    "binary_solution_board= np.zeros((9, 9, 9))\n",
    "for index, value in solution.items():\n",
    "    if type(index) is int and index>0:\n",
    "        board_index = decode_var_labels(index)\n",
    "        binary_solution_board[board_index[2]-1][board_index[0]-1][board_index[1]-1] = value\n"
   ]
  },
  {
   "cell_type": "code",
   "execution_count": null,
   "metadata": {},
   "outputs": [],
   "source": []
  },
  {
   "cell_type": "code",
   "execution_count": 50,
   "metadata": {},
   "outputs": [
    {
     "data": {
      "text/plain": [
       "array([[5., 6., 3., 8., 2., 9., 1., 4., 3.],\n",
       "       [2., 1., 7., 4., 3., 5., 6., 8., 7.],\n",
       "       [4., 3., 8., 6., 1., 7., 5., 2., 9.],\n",
       "       [7., 8., 1., 3., 5., 2., 4., 6., 9.],\n",
       "       [3., 4., 9., 1., 6., 8., 7., 5., 2.],\n",
       "       [2., 5., 6., 9., 7., 4., 8., 1., 3.],\n",
       "       [8., 7., 4., 5., 9., 3., 2., 6., 4.],\n",
       "       [1., 2., 5., 7., 4., 6., 9., 3., 7.],\n",
       "       [9., 3., 6., 1., 8., 2., 2., 8., 1.]])"
      ]
     },
     "execution_count": 50,
     "metadata": {},
     "output_type": "execute_result"
    }
   ],
   "source": [
    "solution_board=decode_board_from_binary(binary_solution_board)\n",
    "solution_board"
   ]
  },
  {
   "cell_type": "code",
   "execution_count": 51,
   "metadata": {},
   "outputs": [
    {
     "name": "stdout",
     "output_type": "stream",
     "text": [
      " -  -  - | 8  9  - | -  -  - \n",
      " 2  6  - | -  -  4 | -  -  - \n",
      " -  -  4 | -  -  - | -  -  - \n",
      "---------|---------|---------\n",
      " -  -  5 | 3  -  - | 4  -  9 \n",
      " -  8  - | -  -  - | 7  5  - \n",
      " 6  -  - | -  -  - | -  -  3 \n",
      "---------|---------|---------\n",
      " -  7  - | -  2  6 | -  -  4 \n",
      " 1  2  - | 5  -  3 | -  -  - \n",
      " -  -  6 | -  -  - | 2  -  - \n",
      "\n"
     ]
    }
   ],
   "source": [
    "print_board(board)"
   ]
  },
  {
   "cell_type": "code",
   "execution_count": 52,
   "metadata": {},
   "outputs": [
    {
     "name": "stdout",
     "output_type": "stream",
     "text": [
      " 5  6  3 | 8  2  9 | 1  4  3 \n",
      " 2  1  7 | 4  3  5 | 6  8  7 \n",
      " 4  3  8 | 6  1  7 | 5  2  9 \n",
      "---------|---------|---------\n",
      " 7  8  1 | 3  5  2 | 4  6  9 \n",
      " 3  4  9 | 1  6  8 | 7  5  2 \n",
      " 2  5  6 | 9  7  4 | 8  1  3 \n",
      "---------|---------|---------\n",
      " 8  7  4 | 5  9  3 | 2  6  4 \n",
      " 1  2  5 | 7  4  6 | 9  3  7 \n",
      " 9  3  6 | 1  8  2 | 2  8  1 \n",
      "\n",
      "Error Count: 4\n",
      "BQM Energy: -97.0\n"
     ]
    }
   ],
   "source": [
    "print_board(solution_board)\n",
    "print(\"Error Count:\",check_sudoku(solution_board))\n",
    "print(\"BQM Energy:\", bqm.energy(solution))"
   ]
  },
  {
   "cell_type": "code",
   "execution_count": 53,
   "metadata": {},
   "outputs": [
    {
     "name": "stdout",
     "output_type": "stream",
     "text": [
      " 5  6  3 | 8  2  9 | 1  4  3 \n",
      " 2  1  7 | 4  3  5 | 6  8  7 \n",
      " 4  3  8 | 6  1  7 | 5  2  9 \n",
      "---------|---------|---------\n",
      " 7  8  1 | 3  5  2 | 4  6  9 \n",
      " 3  4  9 | 1  6  8 | 7  5  2 \n",
      " 2  5  6 | 9  7  4 | 8  1  3 \n",
      "---------|---------|---------\n",
      " 8  7  4 | 5  9  3 | 2  6  4 \n",
      " 1  2  5 | 7  4  6 | 9  3  7 \n",
      " 9  3  6 | 1  8  2 | 2  8  1 \n",
      "\n",
      "Error Count: 4\n"
     ]
    }
   ],
   "source": [
    "binary_solution_board= np.zeros((9, 9, 9))\n",
    "for index, value in solution_2.items():\n",
    "    if type(index) is int and index>0:\n",
    "        board_index = decode_var_labels(index)\n",
    "        binary_solution_board[board_index[2]-1][board_index[0]-1][board_index[1]-1] = value\n",
    "print_board(solution_board)\n",
    "print(\"Error Count:\",check_sudoku(solution_board))"
   ]
  },
  {
   "cell_type": "code",
   "execution_count": 54,
   "metadata": {},
   "outputs": [
    {
     "name": "stdout",
     "output_type": "stream",
     "text": [
      " 5  6  3 | 8  2  9 | 1  4  3 \n",
      " 2  1  7 | 4  3  5 | 6  8  7 \n",
      " 4  3  8 | 6  1  7 | 5  2  9 \n",
      "---------|---------|---------\n",
      " 7  8  1 | 3  5  2 | 4  6  9 \n",
      " 3  4  9 | 1  6  8 | 7  5  2 \n",
      " 2  5  6 | 9  7  4 | 8  1  3 \n",
      "---------|---------|---------\n",
      " 8  7  4 | 5  9  3 | 2  6  4 \n",
      " 1  2  5 | 7  4  6 | 9  3  7 \n",
      " 9  3  6 | 1  8  2 | 2  8  1 \n",
      "\n",
      "Error Count: 4\n"
     ]
    }
   ],
   "source": [
    "binary_solution_board= np.zeros((9, 9, 9))\n",
    "for index, value in solution_3.items():\n",
    "    if type(index) is int and index>0:\n",
    "        board_index = decode_var_labels(index)\n",
    "        binary_solution_board[board_index[2]-1][board_index[0]-1][board_index[1]-1] = value\n",
    "print_board(solution_board)\n",
    "print(\"Error Count:\",check_sudoku(solution_board))"
   ]
  },
  {
   "cell_type": "code",
   "execution_count": 56,
   "metadata": {},
   "outputs": [
    {
     "name": "stdout",
     "output_type": "stream",
     "text": [
      " 5  6  3 | 8  2  9 | 1  4  3 \n",
      " 2  1  7 | 4  3  5 | 6  8  7 \n",
      " 4  3  8 | 6  1  7 | 5  2  9 \n",
      "---------|---------|---------\n",
      " 7  8  1 | 3  5  2 | 4  6  9 \n",
      " 3  4  9 | 1  6  8 | 7  5  2 \n",
      " 2  5  6 | 9  7  4 | 8  1  3 \n",
      "---------|---------|---------\n",
      " 8  7  4 | 5  9  3 | 2  6  4 \n",
      " 1  2  5 | 7  4  6 | 9  3  7 \n",
      " 9  3  6 | 1  8  2 | 2  8  1 \n",
      "\n",
      "Error Count: 4\n"
     ]
    }
   ],
   "source": [
    "binary_solution_board= np.zeros((9, 9, 9))\n",
    "for index, value in last_solution.items():\n",
    "    if type(index) is int and index>0:\n",
    "        board_index = decode_var_labels(index)\n",
    "        binary_solution_board[board_index[2]-1][board_index[0]-1][board_index[1]-1] = value\n",
    "print_board(solution_board)\n",
    "print(\"Error Count:\",check_sudoku(solution_board))"
   ]
  },
  {
   "cell_type": "code",
   "execution_count": 57,
   "metadata": {},
   "outputs": [
    {
     "data": {
      "text/plain": [
       "-97.0"
      ]
     },
     "execution_count": 57,
     "metadata": {},
     "output_type": "execute_result"
    }
   ],
   "source": [
    "bqm.energy(solution)"
   ]
  },
  {
   "cell_type": "code",
   "execution_count": 58,
   "metadata": {},
   "outputs": [
    {
     "data": {
      "text/plain": [
       "-145.0"
      ]
     },
     "execution_count": 58,
     "metadata": {},
     "output_type": "execute_result"
    }
   ],
   "source": [
    "binary_correct_board =  encode_board_to_binary(correct_board)\n",
    "temp = []\n",
    "for k, color in enumerate(binary_correct_board):\n",
    "    for i, row in enumerate(color):\n",
    "        for j, cell in enumerate(row):\n",
    "            if cell>0:\n",
    "                hint.append([i+1,j+1,k+1])\n",
    "                \n",
    "correct_solution_qubo = {}\n",
    "constant=0\n",
    "for (i, j, k) in hint:\n",
    "    var = encode_var_labels(i,j,k) \n",
    "    correct_solution_qubo[var] = 1\n",
    "\n",
    "for index in range(1,730):\n",
    "    if correct_solution_qubo.get(index,0) == 0:\n",
    "        correct_solution_qubo[index] = 0\n",
    "\n",
    "correct_solution_qubo[()]=0\n",
    "\n",
    "#correct_solution_qubo[30]=1\n",
    "\n",
    "bqm.energy(correct_solution_qubo)\n"
   ]
  },
  {
   "cell_type": "code",
   "execution_count": 59,
   "metadata": {},
   "outputs": [
    {
     "name": "stdout",
     "output_type": "stream",
     "text": [
      "QPU Advantage_system1.1 was selected.\n"
     ]
    }
   ],
   "source": [
    "from dwave.system import DWaveSampler, EmbeddingComposite\n",
    "# Use a D-Wave system as the sampler\n",
    "sampler = DWaveSampler() \n",
    "\n",
    "print(\"QPU {} was selected.\".format(sampler.solver.name))"
   ]
  },
  {
   "cell_type": "code",
   "execution_count": 60,
   "metadata": {},
   "outputs": [],
   "source": [
    "# Set up a D-Wave system as the sampler\n",
    "sampler = EmbeddingComposite(sampler)\n"
   ]
  },
  {
   "cell_type": "code",
   "execution_count": 97,
   "metadata": {},
   "outputs": [],
   "source": [
    "bqm_graph = bqm.to_networkx_graph()"
   ]
  },
  {
   "cell_type": "code",
   "execution_count": 100,
   "metadata": {},
   "outputs": [
    {
     "name": "stdout",
     "output_type": "stream",
     "text": [
      "Number of problem nodes (variables): 730\n"
     ]
    }
   ],
   "source": [
    "print('Number of problem nodes (variables):',len(bqm_graph.nodes))"
   ]
  },
  {
   "cell_type": "code",
   "execution_count": 101,
   "metadata": {},
   "outputs": [
    {
     "name": "stdout",
     "output_type": "stream",
     "text": [
      "Number of problem edges (couplings): 8520\n"
     ]
    }
   ],
   "source": [
    "print('Number of problem edges (couplings):',len(bqm_graph.edges))"
   ]
  },
  {
   "cell_type": "code",
   "execution_count": 64,
   "metadata": {
    "scrolled": true
   },
   "outputs": [
    {
     "ename": "KeyboardInterrupt",
     "evalue": "embedding cancelled by keyboard interrupt",
     "output_type": "error",
     "traceback": [
      "\u001b[0;31m---------------------------------------------------------------------------\u001b[0m",
      "\u001b[0;31mKeyboardInterrupt\u001b[0m                         Traceback (most recent call last)",
      "\u001b[0;32m<ipython-input-64-5ed9138176e1>\u001b[0m in \u001b[0;36m<module>\u001b[0;34m\u001b[0m\n\u001b[1;32m     11\u001b[0m \u001b[0;31m#bqm = BinaryQuadraticModel.from_qubo(Q)\u001b[0m\u001b[0;34m\u001b[0m\u001b[0;34m\u001b[0m\u001b[0;34m\u001b[0m\u001b[0m\n\u001b[1;32m     12\u001b[0m \u001b[0;34m\u001b[0m\u001b[0m\n\u001b[0;32m---> 13\u001b[0;31m \u001b[0memb\u001b[0m \u001b[0;34m=\u001b[0m \u001b[0mfind_embedding\u001b[0m\u001b[0;34m(\u001b[0m\u001b[0mbqm\u001b[0m\u001b[0;34m.\u001b[0m\u001b[0mto_qubo\u001b[0m\u001b[0;34m(\u001b[0m\u001b[0;34m)\u001b[0m\u001b[0;34m[\u001b[0m\u001b[0;36m0\u001b[0m\u001b[0;34m]\u001b[0m\u001b[0;34m,\u001b[0m \u001b[0mtarget_edgelist\u001b[0m\u001b[0;34m)\u001b[0m\u001b[0;34m\u001b[0m\u001b[0;34m\u001b[0m\u001b[0m\n\u001b[0m\u001b[1;32m     14\u001b[0m \u001b[0;34m\u001b[0m\u001b[0m\n\u001b[1;32m     15\u001b[0m \u001b[0;31m#embedded_bqm = embed_bqm(bqm, emb, target_adjacency)\u001b[0m\u001b[0;34m\u001b[0m\u001b[0;34m\u001b[0m\u001b[0;34m\u001b[0m\u001b[0m\n",
      "\u001b[0;32m~/.local/lib/python3.9/site-packages/minorminer/minorminer.py\u001b[0m in \u001b[0;36mfind_embedding\u001b[0;34m(S, T, max_no_improvement, random_seed, timeout, max_beta, tries, inner_rounds, chainlength_patience, max_fill, threads, return_overlap, skip_initialization, verbose, interactive, initial_chains, fixed_chains, restrict_chains, suspend_chains)\u001b[0m\n\u001b[1;32m     39\u001b[0m                    \u001b[0msuspend_chains\u001b[0m\u001b[0;34m=\u001b[0m\u001b[0;34m(\u001b[0m\u001b[0;34m)\u001b[0m\u001b[0;34m,\u001b[0m\u001b[0;34m\u001b[0m\u001b[0;34m\u001b[0m\u001b[0m\n\u001b[1;32m     40\u001b[0m                    ):\n\u001b[0;32m---> 41\u001b[0;31m     return __find_embedding(S, T,\n\u001b[0m\u001b[1;32m     42\u001b[0m                             \u001b[0mmax_no_improvement\u001b[0m\u001b[0;34m=\u001b[0m\u001b[0mmax_no_improvement\u001b[0m\u001b[0;34m,\u001b[0m\u001b[0;34m\u001b[0m\u001b[0;34m\u001b[0m\u001b[0m\n\u001b[1;32m     43\u001b[0m                             \u001b[0mrandom_seed\u001b[0m\u001b[0;34m=\u001b[0m\u001b[0mrandom_seed\u001b[0m\u001b[0;34m,\u001b[0m\u001b[0;34m\u001b[0m\u001b[0;34m\u001b[0m\u001b[0m\n",
      "\u001b[0;32mminorminer/_minorminer.pyx\u001b[0m in \u001b[0;36mminorminer._minorminer.find_embedding\u001b[0;34m()\u001b[0m\n",
      "\u001b[0;31mKeyboardInterrupt\u001b[0m: embedding cancelled by keyboard interrupt"
     ]
    }
   ],
   "source": [
    "from dimod import BinaryQuadraticModel\n",
    "from dwave.embedding import embed_bqm, unembed_sampleset\n",
    "from dwave.system.samplers import DWaveSampler\n",
    "from minorminer import find_embedding\n",
    "from dwave.embedding.chain_breaks import majority_vote\n",
    "\n",
    "solver = DWaveSampler()\n",
    "\n",
    "__, target_edgelist, target_adjacency = solver.structure\n",
    "\n",
    "#bqm = BinaryQuadraticModel.from_qubo(Q)\n",
    "\n",
    "emb = find_embedding(bqm.to_qubo()[0], target_edgelist)\n",
    "\n",
    "#embedded_bqm = embed_bqm(bqm, emb, target_adjacency)\n",
    "\n",
    "#result = solver.sample(embedded_bqm, num_reads=1)\n",
    "\n",
    "#unembedded = unembed_sampleset(result, emb, bqm, chain_break_method=majority_vote(bqm, emb))"
   ]
  },
  {
   "cell_type": "code",
   "execution_count": 93,
   "metadata": {},
   "outputs": [
    {
     "name": "stderr",
     "output_type": "stream",
     "text": [
      "ERROR:root:Internal Python error in the inspect module.\n",
      "Below is the traceback from this internal error.\n",
      "\n"
     ]
    },
    {
     "name": "stdout",
     "output_type": "stream",
     "text": [
      "Traceback (most recent call last):\n",
      "  File \"/usr/lib/python3.9/site-packages/IPython/core/interactiveshell.py\", line 3418, in run_code\n",
      "    exec(code_obj, self.user_global_ns, self.user_ns)\n",
      "  File \"<ipython-input-93-df2ee60d90d1>\", line 3, in <module>\n",
      "    find_clique_embedding(k=bqm.to_networkx_graph(), m=100)\n",
      "  File \"<decorator-gen-904>\", line 2, in find_clique_embedding\n",
      "  File \"/home/julian/.local/lib/python3.9/site-packages/networkx/utils/decorators.py\", line 303, in _nodes_or_number\n",
      "    return func_to_be_decorated(*new_args, **kw)\n",
      "  File \"/home/julian/.local/lib/python3.9/site-packages/minorminer/utils/pegasus.py\", line 105, in find_clique_embedding\n",
      "    embedding_processor, embedding_to_pegasus = _pegasus_fragment_helper(m, target_graph)\n",
      "  File \"/home/julian/.local/lib/python3.9/site-packages/minorminer/utils/pegasus.py\", line 60, in _pegasus_fragment_helper\n",
      "    embedding_processor = processor(fragment_edges, M=m*6, N=m*6, L=2, linear=False)\n",
      "  File \"/home/julian/.local/lib/python3.9/site-packages/minorminer/utils/polynomialembedder.py\", line 808, in __init__\n",
      "    self._proc0 = eden_processor(edgelist, M, N, L, random_bundles=random_bundles)\n",
      "  File \"/home/julian/.local/lib/python3.9/site-packages/minorminer/utils/polynomialembedder.py\", line 150, in __init__\n",
      "    self._compute_vline_scores()\n",
      "  File \"/home/julian/.local/lib/python3.9/site-packages/minorminer/utils/polynomialembedder.py\", line 211, in _compute_vline_scores\n",
      "    vline_score[x, y1, y] = block[y1]\n",
      "KeyboardInterrupt\n",
      "\n",
      "During handling of the above exception, another exception occurred:\n",
      "\n",
      "Traceback (most recent call last):\n",
      "  File \"/usr/lib/python3.9/site-packages/IPython/core/interactiveshell.py\", line 2045, in showtraceback\n",
      "    stb = value._render_traceback_()\n",
      "AttributeError: 'KeyboardInterrupt' object has no attribute '_render_traceback_'\n",
      "\n",
      "During handling of the above exception, another exception occurred:\n",
      "\n",
      "Traceback (most recent call last):\n",
      "  File \"/usr/lib/python3.9/site-packages/IPython/core/ultratb.py\", line 1170, in get_records\n",
      "    return _fixed_getinnerframes(etb, number_of_lines_of_context, tb_offset)\n",
      "  File \"/usr/lib/python3.9/site-packages/IPython/core/ultratb.py\", line 316, in wrapped\n",
      "    return f(*args, **kwargs)\n",
      "  File \"/usr/lib/python3.9/site-packages/IPython/core/ultratb.py\", line 350, in _fixed_getinnerframes\n",
      "    records = fix_frame_records_filenames(inspect.getinnerframes(etb, context))\n",
      "  File \"/usr/lib/python3.9/inspect.py\", line 1541, in getinnerframes\n",
      "    frameinfo = (tb.tb_frame,) + getframeinfo(tb, context)\n",
      "  File \"/usr/lib/python3.9/inspect.py\", line 1499, in getframeinfo\n",
      "    filename = getsourcefile(frame) or getfile(frame)\n",
      "  File \"/usr/lib/python3.9/inspect.py\", line 706, in getsourcefile\n",
      "    if os.path.exists(filename):\n",
      "  File \"/usr/lib/python3.9/genericpath.py\", line 19, in exists\n",
      "    os.stat(path)\n",
      "KeyboardInterrupt\n"
     ]
    },
    {
     "ename": "TypeError",
     "evalue": "object of type 'NoneType' has no len()",
     "output_type": "error",
     "traceback": [
      "\u001b[0;31m---------------------------------------------------------------------------\u001b[0m",
      "\u001b[0;31mKeyboardInterrupt\u001b[0m                         Traceback (most recent call last)",
      "    \u001b[0;31m[... skipping hidden 1 frame]\u001b[0m\n",
      "\u001b[0;32m<ipython-input-93-df2ee60d90d1>\u001b[0m in \u001b[0;36m<module>\u001b[0;34m\u001b[0m\n\u001b[1;32m      2\u001b[0m \u001b[0;34m\u001b[0m\u001b[0m\n\u001b[0;32m----> 3\u001b[0;31m \u001b[0mfind_clique_embedding\u001b[0m\u001b[0;34m(\u001b[0m\u001b[0mk\u001b[0m\u001b[0;34m=\u001b[0m\u001b[0mbqm\u001b[0m\u001b[0;34m.\u001b[0m\u001b[0mto_networkx_graph\u001b[0m\u001b[0;34m(\u001b[0m\u001b[0;34m)\u001b[0m\u001b[0;34m,\u001b[0m \u001b[0mm\u001b[0m\u001b[0;34m=\u001b[0m\u001b[0;36m100\u001b[0m\u001b[0;34m)\u001b[0m\u001b[0;34m\u001b[0m\u001b[0;34m\u001b[0m\u001b[0m\n\u001b[0m\u001b[1;32m      4\u001b[0m \u001b[0;34m\u001b[0m\u001b[0m\n",
      "\u001b[0;32m<decorator-gen-904>\u001b[0m in \u001b[0;36mfind_clique_embedding\u001b[0;34m(k, m, target_graph)\u001b[0m\n",
      "\u001b[0;32m~/.local/lib/python3.9/site-packages/networkx/utils/decorators.py\u001b[0m in \u001b[0;36m_nodes_or_number\u001b[0;34m(func_to_be_decorated, *args, **kw)\u001b[0m\n\u001b[1;32m    302\u001b[0m             \u001b[0mnew_args\u001b[0m\u001b[0;34m[\u001b[0m\u001b[0mi\u001b[0m\u001b[0;34m]\u001b[0m \u001b[0;34m=\u001b[0m \u001b[0;34m(\u001b[0m\u001b[0mn\u001b[0m\u001b[0;34m,\u001b[0m \u001b[0mnodes\u001b[0m\u001b[0;34m)\u001b[0m\u001b[0;34m\u001b[0m\u001b[0;34m\u001b[0m\u001b[0m\n\u001b[0;32m--> 303\u001b[0;31m         \u001b[0;32mreturn\u001b[0m \u001b[0mfunc_to_be_decorated\u001b[0m\u001b[0;34m(\u001b[0m\u001b[0;34m*\u001b[0m\u001b[0mnew_args\u001b[0m\u001b[0;34m,\u001b[0m \u001b[0;34m**\u001b[0m\u001b[0mkw\u001b[0m\u001b[0;34m)\u001b[0m\u001b[0;34m\u001b[0m\u001b[0;34m\u001b[0m\u001b[0m\n\u001b[0m\u001b[1;32m    304\u001b[0m \u001b[0;34m\u001b[0m\u001b[0m\n",
      "\u001b[0;32m~/.local/lib/python3.9/site-packages/minorminer/utils/pegasus.py\u001b[0m in \u001b[0;36mfind_clique_embedding\u001b[0;34m(k, m, target_graph)\u001b[0m\n\u001b[1;32m    104\u001b[0m \u001b[0;34m\u001b[0m\u001b[0m\n\u001b[0;32m--> 105\u001b[0;31m     \u001b[0membedding_processor\u001b[0m\u001b[0;34m,\u001b[0m \u001b[0membedding_to_pegasus\u001b[0m \u001b[0;34m=\u001b[0m \u001b[0m_pegasus_fragment_helper\u001b[0m\u001b[0;34m(\u001b[0m\u001b[0mm\u001b[0m\u001b[0;34m,\u001b[0m \u001b[0mtarget_graph\u001b[0m\u001b[0;34m)\u001b[0m\u001b[0;34m\u001b[0m\u001b[0;34m\u001b[0m\u001b[0m\n\u001b[0m\u001b[1;32m    106\u001b[0m     \u001b[0mchimera_clique_embedding\u001b[0m \u001b[0;34m=\u001b[0m \u001b[0membedding_processor\u001b[0m\u001b[0;34m.\u001b[0m\u001b[0mtightestNativeClique\u001b[0m\u001b[0;34m(\u001b[0m\u001b[0mlen\u001b[0m\u001b[0;34m(\u001b[0m\u001b[0mnodes\u001b[0m\u001b[0;34m)\u001b[0m\u001b[0;34m)\u001b[0m\u001b[0;34m\u001b[0m\u001b[0;34m\u001b[0m\u001b[0m\n",
      "\u001b[0;32m~/.local/lib/python3.9/site-packages/minorminer/utils/pegasus.py\u001b[0m in \u001b[0;36m_pegasus_fragment_helper\u001b[0;34m(m, target_graph)\u001b[0m\n\u001b[1;32m     59\u001b[0m     \u001b[0;31m# Find clique embedding in K2,2 Chimera graph\u001b[0m\u001b[0;34m\u001b[0m\u001b[0;34m\u001b[0m\u001b[0;34m\u001b[0m\u001b[0m\n\u001b[0;32m---> 60\u001b[0;31m     \u001b[0membedding_processor\u001b[0m \u001b[0;34m=\u001b[0m \u001b[0mprocessor\u001b[0m\u001b[0;34m(\u001b[0m\u001b[0mfragment_edges\u001b[0m\u001b[0;34m,\u001b[0m \u001b[0mM\u001b[0m\u001b[0;34m=\u001b[0m\u001b[0mm\u001b[0m\u001b[0;34m*\u001b[0m\u001b[0;36m6\u001b[0m\u001b[0;34m,\u001b[0m \u001b[0mN\u001b[0m\u001b[0;34m=\u001b[0m\u001b[0mm\u001b[0m\u001b[0;34m*\u001b[0m\u001b[0;36m6\u001b[0m\u001b[0;34m,\u001b[0m \u001b[0mL\u001b[0m\u001b[0;34m=\u001b[0m\u001b[0;36m2\u001b[0m\u001b[0;34m,\u001b[0m \u001b[0mlinear\u001b[0m\u001b[0;34m=\u001b[0m\u001b[0;32mFalse\u001b[0m\u001b[0;34m)\u001b[0m\u001b[0;34m\u001b[0m\u001b[0;34m\u001b[0m\u001b[0m\n\u001b[0m\u001b[1;32m     61\u001b[0m \u001b[0;34m\u001b[0m\u001b[0m\n",
      "\u001b[0;32m~/.local/lib/python3.9/site-packages/minorminer/utils/polynomialembedder.py\u001b[0m in \u001b[0;36m__init__\u001b[0;34m(self, edgelist, M, N, L, proc_limit, linear, random_bundles)\u001b[0m\n\u001b[1;32m    807\u001b[0m         \u001b[0mself\u001b[0m\u001b[0;34m.\u001b[0m\u001b[0m_random_bundles\u001b[0m \u001b[0;34m=\u001b[0m \u001b[0mrandom_bundles\u001b[0m\u001b[0;34m\u001b[0m\u001b[0;34m\u001b[0m\u001b[0m\n\u001b[0;32m--> 808\u001b[0;31m         \u001b[0mself\u001b[0m\u001b[0;34m.\u001b[0m\u001b[0m_proc0\u001b[0m \u001b[0;34m=\u001b[0m \u001b[0meden_processor\u001b[0m\u001b[0;34m(\u001b[0m\u001b[0medgelist\u001b[0m\u001b[0;34m,\u001b[0m \u001b[0mM\u001b[0m\u001b[0;34m,\u001b[0m \u001b[0mN\u001b[0m\u001b[0;34m,\u001b[0m \u001b[0mL\u001b[0m\u001b[0;34m,\u001b[0m \u001b[0mrandom_bundles\u001b[0m\u001b[0;34m=\u001b[0m\u001b[0mrandom_bundles\u001b[0m\u001b[0;34m)\u001b[0m\u001b[0;34m\u001b[0m\u001b[0;34m\u001b[0m\u001b[0m\n\u001b[0m\u001b[1;32m    809\u001b[0m         \u001b[0mself\u001b[0m\u001b[0;34m.\u001b[0m\u001b[0m_find_evil\u001b[0m\u001b[0;34m(\u001b[0m\u001b[0;34m)\u001b[0m\u001b[0;34m\u001b[0m\u001b[0;34m\u001b[0m\u001b[0m\n",
      "\u001b[0;32m~/.local/lib/python3.9/site-packages/minorminer/utils/polynomialembedder.py\u001b[0m in \u001b[0;36m__init__\u001b[0;34m(self, edgelist, M, N, L, random_bundles)\u001b[0m\n\u001b[1;32m    149\u001b[0m         \u001b[0mself\u001b[0m\u001b[0;34m.\u001b[0m\u001b[0mL\u001b[0m \u001b[0;34m=\u001b[0m \u001b[0mL\u001b[0m\u001b[0;34m\u001b[0m\u001b[0;34m\u001b[0m\u001b[0m\n\u001b[0;32m--> 150\u001b[0;31m         \u001b[0mself\u001b[0m\u001b[0;34m.\u001b[0m\u001b[0m_compute_vline_scores\u001b[0m\u001b[0;34m(\u001b[0m\u001b[0;34m)\u001b[0m\u001b[0;34m\u001b[0m\u001b[0;34m\u001b[0m\u001b[0m\n\u001b[0m\u001b[1;32m    151\u001b[0m         \u001b[0mself\u001b[0m\u001b[0;34m.\u001b[0m\u001b[0m_compute_hline_scores\u001b[0m\u001b[0;34m(\u001b[0m\u001b[0;34m)\u001b[0m\u001b[0;34m\u001b[0m\u001b[0;34m\u001b[0m\u001b[0m\n",
      "\u001b[0;32m~/.local/lib/python3.9/site-packages/minorminer/utils/polynomialembedder.py\u001b[0m in \u001b[0;36m_compute_vline_scores\u001b[0;34m(self)\u001b[0m\n\u001b[1;32m    210\u001b[0m                 \u001b[0;32mfor\u001b[0m \u001b[0my1\u001b[0m \u001b[0;32min\u001b[0m \u001b[0mrange\u001b[0m\u001b[0;34m(\u001b[0m\u001b[0my\u001b[0m \u001b[0;34m+\u001b[0m \u001b[0;36m1\u001b[0m\u001b[0;34m)\u001b[0m\u001b[0;34m:\u001b[0m\u001b[0;34m\u001b[0m\u001b[0;34m\u001b[0m\u001b[0m\n\u001b[0;32m--> 211\u001b[0;31m                     \u001b[0mvline_score\u001b[0m\u001b[0;34m[\u001b[0m\u001b[0mx\u001b[0m\u001b[0;34m,\u001b[0m \u001b[0my1\u001b[0m\u001b[0;34m,\u001b[0m \u001b[0my\u001b[0m\u001b[0;34m]\u001b[0m \u001b[0;34m=\u001b[0m \u001b[0mblock\u001b[0m\u001b[0;34m[\u001b[0m\u001b[0my1\u001b[0m\u001b[0;34m]\u001b[0m\u001b[0;34m\u001b[0m\u001b[0;34m\u001b[0m\u001b[0m\n\u001b[0m\u001b[1;32m    212\u001b[0m         \u001b[0mself\u001b[0m\u001b[0;34m.\u001b[0m\u001b[0m_vline_score\u001b[0m \u001b[0;34m=\u001b[0m \u001b[0mvline_score\u001b[0m\u001b[0;34m\u001b[0m\u001b[0;34m\u001b[0m\u001b[0m\n",
      "\u001b[0;31mKeyboardInterrupt\u001b[0m: ",
      "\nDuring handling of the above exception, another exception occurred:\n",
      "\u001b[0;31mAttributeError\u001b[0m                            Traceback (most recent call last)",
      "\u001b[0;32m/usr/lib/python3.9/site-packages/IPython/core/interactiveshell.py\u001b[0m in \u001b[0;36mshowtraceback\u001b[0;34m(self, exc_tuple, filename, tb_offset, exception_only, running_compiled_code)\u001b[0m\n\u001b[1;32m   2044\u001b[0m                         \u001b[0;31m# in the engines. This should return a list of strings.\u001b[0m\u001b[0;34m\u001b[0m\u001b[0;34m\u001b[0m\u001b[0;34m\u001b[0m\u001b[0m\n\u001b[0;32m-> 2045\u001b[0;31m                         \u001b[0mstb\u001b[0m \u001b[0;34m=\u001b[0m \u001b[0mvalue\u001b[0m\u001b[0;34m.\u001b[0m\u001b[0m_render_traceback_\u001b[0m\u001b[0;34m(\u001b[0m\u001b[0;34m)\u001b[0m\u001b[0;34m\u001b[0m\u001b[0;34m\u001b[0m\u001b[0m\n\u001b[0m\u001b[1;32m   2046\u001b[0m                     \u001b[0;32mexcept\u001b[0m \u001b[0mException\u001b[0m\u001b[0;34m:\u001b[0m\u001b[0;34m\u001b[0m\u001b[0;34m\u001b[0m\u001b[0m\n",
      "\u001b[0;31mAttributeError\u001b[0m: 'KeyboardInterrupt' object has no attribute '_render_traceback_'",
      "\nDuring handling of the above exception, another exception occurred:\n",
      "\u001b[0;31mTypeError\u001b[0m                                 Traceback (most recent call last)",
      "    \u001b[0;31m[... skipping hidden 1 frame]\u001b[0m\n",
      "\u001b[0;32m/usr/lib/python3.9/site-packages/IPython/core/interactiveshell.py\u001b[0m in \u001b[0;36mshowtraceback\u001b[0;34m(self, exc_tuple, filename, tb_offset, exception_only, running_compiled_code)\u001b[0m\n\u001b[1;32m   2045\u001b[0m                         \u001b[0mstb\u001b[0m \u001b[0;34m=\u001b[0m \u001b[0mvalue\u001b[0m\u001b[0;34m.\u001b[0m\u001b[0m_render_traceback_\u001b[0m\u001b[0;34m(\u001b[0m\u001b[0;34m)\u001b[0m\u001b[0;34m\u001b[0m\u001b[0;34m\u001b[0m\u001b[0m\n\u001b[1;32m   2046\u001b[0m                     \u001b[0;32mexcept\u001b[0m \u001b[0mException\u001b[0m\u001b[0;34m:\u001b[0m\u001b[0;34m\u001b[0m\u001b[0;34m\u001b[0m\u001b[0m\n\u001b[0;32m-> 2047\u001b[0;31m                         stb = self.InteractiveTB.structured_traceback(etype,\n\u001b[0m\u001b[1;32m   2048\u001b[0m                                             value, tb, tb_offset=tb_offset)\n\u001b[1;32m   2049\u001b[0m \u001b[0;34m\u001b[0m\u001b[0m\n",
      "\u001b[0;32m/usr/lib/python3.9/site-packages/IPython/core/ultratb.py\u001b[0m in \u001b[0;36mstructured_traceback\u001b[0;34m(self, etype, value, tb, tb_offset, number_of_lines_of_context)\u001b[0m\n\u001b[1;32m   1434\u001b[0m         \u001b[0;32melse\u001b[0m\u001b[0;34m:\u001b[0m\u001b[0;34m\u001b[0m\u001b[0;34m\u001b[0m\u001b[0m\n\u001b[1;32m   1435\u001b[0m             \u001b[0mself\u001b[0m\u001b[0;34m.\u001b[0m\u001b[0mtb\u001b[0m \u001b[0;34m=\u001b[0m \u001b[0mtb\u001b[0m\u001b[0;34m\u001b[0m\u001b[0;34m\u001b[0m\u001b[0m\n\u001b[0;32m-> 1436\u001b[0;31m         return FormattedTB.structured_traceback(\n\u001b[0m\u001b[1;32m   1437\u001b[0m             self, etype, value, tb, tb_offset, number_of_lines_of_context)\n\u001b[1;32m   1438\u001b[0m \u001b[0;34m\u001b[0m\u001b[0m\n",
      "\u001b[0;32m/usr/lib/python3.9/site-packages/IPython/core/ultratb.py\u001b[0m in \u001b[0;36mstructured_traceback\u001b[0;34m(self, etype, value, tb, tb_offset, number_of_lines_of_context)\u001b[0m\n\u001b[1;32m   1334\u001b[0m         \u001b[0;32mif\u001b[0m \u001b[0mmode\u001b[0m \u001b[0;32min\u001b[0m \u001b[0mself\u001b[0m\u001b[0;34m.\u001b[0m\u001b[0mverbose_modes\u001b[0m\u001b[0;34m:\u001b[0m\u001b[0;34m\u001b[0m\u001b[0;34m\u001b[0m\u001b[0m\n\u001b[1;32m   1335\u001b[0m             \u001b[0;31m# Verbose modes need a full traceback\u001b[0m\u001b[0;34m\u001b[0m\u001b[0;34m\u001b[0m\u001b[0;34m\u001b[0m\u001b[0m\n\u001b[0;32m-> 1336\u001b[0;31m             return VerboseTB.structured_traceback(\n\u001b[0m\u001b[1;32m   1337\u001b[0m                 \u001b[0mself\u001b[0m\u001b[0;34m,\u001b[0m \u001b[0metype\u001b[0m\u001b[0;34m,\u001b[0m \u001b[0mvalue\u001b[0m\u001b[0;34m,\u001b[0m \u001b[0mtb\u001b[0m\u001b[0;34m,\u001b[0m \u001b[0mtb_offset\u001b[0m\u001b[0;34m,\u001b[0m \u001b[0mnumber_of_lines_of_context\u001b[0m\u001b[0;34m\u001b[0m\u001b[0;34m\u001b[0m\u001b[0m\n\u001b[1;32m   1338\u001b[0m             )\n",
      "\u001b[0;32m/usr/lib/python3.9/site-packages/IPython/core/ultratb.py\u001b[0m in \u001b[0;36mstructured_traceback\u001b[0;34m(self, etype, evalue, etb, tb_offset, number_of_lines_of_context)\u001b[0m\n\u001b[1;32m   1191\u001b[0m         \u001b[0;34m\"\"\"Return a nice text document describing the traceback.\"\"\"\u001b[0m\u001b[0;34m\u001b[0m\u001b[0;34m\u001b[0m\u001b[0m\n\u001b[1;32m   1192\u001b[0m \u001b[0;34m\u001b[0m\u001b[0m\n\u001b[0;32m-> 1193\u001b[0;31m         formatted_exception = self.format_exception_as_a_whole(etype, evalue, etb, number_of_lines_of_context,\n\u001b[0m\u001b[1;32m   1194\u001b[0m                                                                tb_offset)\n\u001b[1;32m   1195\u001b[0m \u001b[0;34m\u001b[0m\u001b[0m\n",
      "\u001b[0;32m/usr/lib/python3.9/site-packages/IPython/core/ultratb.py\u001b[0m in \u001b[0;36mformat_exception_as_a_whole\u001b[0;34m(self, etype, evalue, etb, number_of_lines_of_context, tb_offset)\u001b[0m\n\u001b[1;32m   1149\u001b[0m \u001b[0;34m\u001b[0m\u001b[0m\n\u001b[1;32m   1150\u001b[0m \u001b[0;34m\u001b[0m\u001b[0m\n\u001b[0;32m-> 1151\u001b[0;31m         \u001b[0mlast_unique\u001b[0m\u001b[0;34m,\u001b[0m \u001b[0mrecursion_repeat\u001b[0m \u001b[0;34m=\u001b[0m \u001b[0mfind_recursion\u001b[0m\u001b[0;34m(\u001b[0m\u001b[0morig_etype\u001b[0m\u001b[0;34m,\u001b[0m \u001b[0mevalue\u001b[0m\u001b[0;34m,\u001b[0m \u001b[0mrecords\u001b[0m\u001b[0;34m)\u001b[0m\u001b[0;34m\u001b[0m\u001b[0;34m\u001b[0m\u001b[0m\n\u001b[0m\u001b[1;32m   1152\u001b[0m \u001b[0;34m\u001b[0m\u001b[0m\n\u001b[1;32m   1153\u001b[0m         \u001b[0mframes\u001b[0m \u001b[0;34m=\u001b[0m \u001b[0mself\u001b[0m\u001b[0;34m.\u001b[0m\u001b[0mformat_records\u001b[0m\u001b[0;34m(\u001b[0m\u001b[0mrecords\u001b[0m\u001b[0;34m,\u001b[0m \u001b[0mlast_unique\u001b[0m\u001b[0;34m,\u001b[0m \u001b[0mrecursion_repeat\u001b[0m\u001b[0;34m)\u001b[0m\u001b[0;34m\u001b[0m\u001b[0;34m\u001b[0m\u001b[0m\n",
      "\u001b[0;32m/usr/lib/python3.9/site-packages/IPython/core/ultratb.py\u001b[0m in \u001b[0;36mfind_recursion\u001b[0;34m(etype, value, records)\u001b[0m\n\u001b[1;32m    449\u001b[0m     \u001b[0;31m# first frame (from in to out) that looks different.\u001b[0m\u001b[0;34m\u001b[0m\u001b[0;34m\u001b[0m\u001b[0;34m\u001b[0m\u001b[0m\n\u001b[1;32m    450\u001b[0m     \u001b[0;32mif\u001b[0m \u001b[0;32mnot\u001b[0m \u001b[0mis_recursion_error\u001b[0m\u001b[0;34m(\u001b[0m\u001b[0metype\u001b[0m\u001b[0;34m,\u001b[0m \u001b[0mvalue\u001b[0m\u001b[0;34m,\u001b[0m \u001b[0mrecords\u001b[0m\u001b[0;34m)\u001b[0m\u001b[0;34m:\u001b[0m\u001b[0;34m\u001b[0m\u001b[0;34m\u001b[0m\u001b[0m\n\u001b[0;32m--> 451\u001b[0;31m         \u001b[0;32mreturn\u001b[0m \u001b[0mlen\u001b[0m\u001b[0;34m(\u001b[0m\u001b[0mrecords\u001b[0m\u001b[0;34m)\u001b[0m\u001b[0;34m,\u001b[0m \u001b[0;36m0\u001b[0m\u001b[0;34m\u001b[0m\u001b[0;34m\u001b[0m\u001b[0m\n\u001b[0m\u001b[1;32m    452\u001b[0m \u001b[0;34m\u001b[0m\u001b[0m\n\u001b[1;32m    453\u001b[0m     \u001b[0;31m# Select filename, lineno, func_name to track frames with\u001b[0m\u001b[0;34m\u001b[0m\u001b[0;34m\u001b[0m\u001b[0;34m\u001b[0m\u001b[0m\n",
      "\u001b[0;31mTypeError\u001b[0m: object of type 'NoneType' has no len()"
     ]
    }
   ],
   "source": [
    "from dwave.embedding.pegasus import find_clique_embedding\n",
    "\n",
    "find_clique_embedding(k=bqm.to_networkx_graph(), m=100)\n",
    "\n"
   ]
  },
  {
   "cell_type": "code",
   "execution_count": 103,
   "metadata": {},
   "outputs": [
    {
     "data": {
      "text/plain": [
       "5436"
      ]
     },
     "execution_count": 103,
     "metadata": {},
     "output_type": "execute_result"
    }
   ],
   "source": [
    "len(target_adjacency)"
   ]
  },
  {
   "cell_type": "code",
   "execution_count": 72,
   "metadata": {},
   "outputs": [
    {
     "ename": "AttributeError",
     "evalue": "'NoneType' object has no attribute 'items'",
     "output_type": "error",
     "traceback": [
      "\u001b[0;31m---------------------------------------------------------------------------\u001b[0m",
      "\u001b[0;31mAttributeError\u001b[0m                            Traceback (most recent call last)",
      "\u001b[0;32m<ipython-input-72-33201f024c30>\u001b[0m in \u001b[0;36m<module>\u001b[0;34m\u001b[0m\n\u001b[0;32m----> 1\u001b[0;31m \u001b[0membedded_bqm\u001b[0m \u001b[0;34m=\u001b[0m \u001b[0membed_bqm\u001b[0m\u001b[0;34m(\u001b[0m\u001b[0msource_bqm\u001b[0m\u001b[0;34m=\u001b[0m\u001b[0mbqm\u001b[0m\u001b[0;34m,\u001b[0m \u001b[0mtarget_adjacency\u001b[0m\u001b[0;34m=\u001b[0m\u001b[0mtarget_adjacency\u001b[0m\u001b[0;34m)\u001b[0m\u001b[0;34m\u001b[0m\u001b[0;34m\u001b[0m\u001b[0m\n\u001b[0m",
      "\u001b[0;32m~/.local/lib/python3.9/site-packages/dwave/embedding/transforms.py\u001b[0m in \u001b[0;36membed_bqm\u001b[0;34m(source_bqm, embedding, target_adjacency, chain_strength, smear_vartype)\u001b[0m\n\u001b[1;32m    390\u001b[0m     \u001b[0;32melse\u001b[0m\u001b[0;34m:\u001b[0m\u001b[0;34m\u001b[0m\u001b[0;34m\u001b[0m\u001b[0m\n\u001b[1;32m    391\u001b[0m         \u001b[0mtarget_edges\u001b[0m \u001b[0;34m=\u001b[0m \u001b[0madjacency_to_edges\u001b[0m\u001b[0;34m(\u001b[0m\u001b[0mtarget_adjacency\u001b[0m\u001b[0;34m)\u001b[0m\u001b[0;34m\u001b[0m\u001b[0;34m\u001b[0m\u001b[0m\n\u001b[0;32m--> 392\u001b[0;31m         \u001b[0membedding\u001b[0m \u001b[0;34m=\u001b[0m \u001b[0mEmbeddedStructure\u001b[0m\u001b[0;34m(\u001b[0m\u001b[0mtarget_edges\u001b[0m\u001b[0;34m,\u001b[0m \u001b[0membedding\u001b[0m\u001b[0;34m)\u001b[0m\u001b[0;34m\u001b[0m\u001b[0;34m\u001b[0m\u001b[0m\n\u001b[0m\u001b[1;32m    393\u001b[0m \u001b[0;34m\u001b[0m\u001b[0m\n\u001b[1;32m    394\u001b[0m     return embedding.embed_bqm(source_bqm, smear_vartype=smear_vartype,\n",
      "\u001b[0;32m~/.local/lib/python3.9/site-packages/dwave/embedding/transforms.py\u001b[0m in \u001b[0;36m__init__\u001b[0;34m(self, target_edges, embedding)\u001b[0m\n\u001b[1;32m     67\u001b[0m                 \u001b[0;32mreturn\u001b[0m\u001b[0;34m\u001b[0m\u001b[0;34m\u001b[0m\u001b[0m\n\u001b[1;32m     68\u001b[0m         \u001b[0;32melse\u001b[0m\u001b[0;34m:\u001b[0m\u001b[0;34m\u001b[0m\u001b[0;34m\u001b[0m\u001b[0m\n\u001b[0;32m---> 69\u001b[0;31m             \u001b[0msuper\u001b[0m\u001b[0;34m(\u001b[0m\u001b[0;34m)\u001b[0m\u001b[0;34m.\u001b[0m\u001b[0m__init__\u001b[0m\u001b[0;34m(\u001b[0m\u001b[0;34m(\u001b[0m\u001b[0mu\u001b[0m\u001b[0;34m,\u001b[0m \u001b[0mtuple\u001b[0m\u001b[0;34m(\u001b[0m\u001b[0mc\u001b[0m\u001b[0;34m)\u001b[0m\u001b[0;34m)\u001b[0m \u001b[0;32mfor\u001b[0m \u001b[0mu\u001b[0m\u001b[0;34m,\u001b[0m \u001b[0mc\u001b[0m \u001b[0;32min\u001b[0m \u001b[0membedding\u001b[0m\u001b[0;34m.\u001b[0m\u001b[0mitems\u001b[0m\u001b[0;34m(\u001b[0m\u001b[0;34m)\u001b[0m\u001b[0;34m)\u001b[0m\u001b[0;34m\u001b[0m\u001b[0;34m\u001b[0m\u001b[0m\n\u001b[0m\u001b[1;32m     70\u001b[0m \u001b[0;34m\u001b[0m\u001b[0m\n\u001b[1;32m     71\u001b[0m         \u001b[0mtarget_label\u001b[0m \u001b[0;34m=\u001b[0m \u001b[0;34m{\u001b[0m\u001b[0;34m}\u001b[0m\u001b[0;34m\u001b[0m\u001b[0;34m\u001b[0m\u001b[0m\n",
      "\u001b[0;31mAttributeError\u001b[0m: 'NoneType' object has no attribute 'items'"
     ]
    }
   ],
   "source": [
    "embedded_bqm = embed_bqm(source_bqm=bqm, target_adjacency=target_adjacency)"
   ]
  },
  {
   "cell_type": "code",
   "execution_count": 66,
   "metadata": {},
   "outputs": [
    {
     "ename": "NameError",
     "evalue": "name 'emb' is not defined",
     "output_type": "error",
     "traceback": [
      "\u001b[0;31m---------------------------------------------------------------------------\u001b[0m",
      "\u001b[0;31mNameError\u001b[0m                                 Traceback (most recent call last)",
      "\u001b[0;32m<ipython-input-66-2b2bb89e6483>\u001b[0m in \u001b[0;36m<module>\u001b[0;34m\u001b[0m\n\u001b[0;32m----> 1\u001b[0;31m \u001b[0membedded_bqm\u001b[0m \u001b[0;34m=\u001b[0m \u001b[0membed_bqm\u001b[0m\u001b[0;34m(\u001b[0m\u001b[0mbqm\u001b[0m\u001b[0;34m,\u001b[0m \u001b[0memb\u001b[0m\u001b[0;34m,\u001b[0m \u001b[0mtarget_adjacency\u001b[0m\u001b[0;34m)\u001b[0m\u001b[0;34m\u001b[0m\u001b[0;34m\u001b[0m\u001b[0m\n\u001b[0m",
      "\u001b[0;31mNameError\u001b[0m: name 'emb' is not defined"
     ]
    }
   ],
   "source": [
    "embedded_bqm = embed_bqm(bqm, emb, target_adjacency)"
   ]
  },
  {
   "cell_type": "code",
   "execution_count": null,
   "metadata": {},
   "outputs": [],
   "source": [
    "result = solver.sample(embedded_bqm, num_reads=1)"
   ]
  },
  {
   "cell_type": "code",
   "execution_count": null,
   "metadata": {},
   "outputs": [],
   "source": [
    "unembedded = unembed_sampleset(result, emb, bqm, chain_break_method=majority_vote(bqm, emb))"
   ]
  },
  {
   "cell_type": "code",
   "execution_count": null,
   "metadata": {},
   "outputs": [],
   "source": [
    "import dwave.inspector\n",
    "dwave.inspector.show(sampleset)   "
   ]
  },
  {
   "cell_type": "code",
   "execution_count": null,
   "metadata": {},
   "outputs": [],
   "source": []
  },
  {
   "cell_type": "code",
   "execution_count": null,
   "metadata": {},
   "outputs": [],
   "source": []
  },
  {
   "cell_type": "code",
   "execution_count": null,
   "metadata": {},
   "outputs": [],
   "source": []
  },
  {
   "cell_type": "code",
   "execution_count": null,
   "metadata": {},
   "outputs": [],
   "source": []
  }
 ],
 "metadata": {
  "kernelspec": {
   "display_name": "Python 3",
   "language": "python",
   "name": "python3"
  }
 },
 "nbformat": 4,
 "nbformat_minor": 4
}

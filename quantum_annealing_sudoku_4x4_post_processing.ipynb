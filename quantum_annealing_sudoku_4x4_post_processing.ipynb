{
 "cells": [
  {
   "cell_type": "code",
   "execution_count": 16,
   "metadata": {},
   "outputs": [],
   "source": [
    "import pandas as pd\n",
    "import matplotlib.pyplot as plt\n",
    "import seaborn as sns\n",
    "import json\n",
    "import numpy as np"
   ]
  },
  {
   "cell_type": "code",
   "execution_count": 100,
   "metadata": {},
   "outputs": [],
   "source": [
    "def truncate(number, decimals=0):\n",
    "    \"\"\"\n",
    "    Returns a value truncated to a specific number of decimal places.\n",
    "    \"\"\"\n",
    "    if not isinstance(decimals, int):\n",
    "        raise TypeError(\"decimal places must be an integer.\")\n",
    "    elif decimals < 0:\n",
    "        raise ValueError(\"decimal places has to be 0 or more.\")\n",
    "    elif decimals == 0:\n",
    "        return math.trunc(number)\n",
    "\n",
    "    factor = 10.0 ** decimals\n",
    "    return math.trunc(number * factor) / factor"
   ]
  },
  {
   "cell_type": "code",
   "execution_count": 6,
   "metadata": {},
   "outputs": [],
   "source": [
    "qa_1 = \"data/log_02_03_2021__13_21_11/params_qa1000_186fa12e-b4ce-4959-a24d-14ced226447c.json\"\n",
    "qa_2 = \"data/log_02_03_2021__13_23_17/params_qa1000_bb679a90-5a36-4859-b796-c356de253ad5.json\"\n",
    "qa_3 = \"data/log_02_03_2021__13_24_29/params_qa1000_d3c8dd7e-91ce-4d14-8bd7-565dfc617050.json\""
   ]
  },
  {
   "cell_type": "code",
   "execution_count": 10,
   "metadata": {},
   "outputs": [],
   "source": [
    "sa_1 = \"data/log_02_03_2021__13_21_11/params_sa_1_-22.0_1000.json\"\n",
    "sa_2 = \"data/log_02_03_2021__13_23_17/params_sa_1_-22.0_1000.json\"\n",
    "sa_3 = \"data/log_02_03_2021__13_24_29/params_sa_1_-22.0_1000.json\""
   ]
  },
  {
   "cell_type": "code",
   "execution_count": 7,
   "metadata": {},
   "outputs": [],
   "source": [
    "# reads it back\n",
    "with open(qa_1,\"r\") as f:\n",
    "  data = f.read()\n",
    "\n",
    "# decoding the JSON to dictionay\n",
    "d = json.loads(data)\n"
   ]
  },
  {
   "cell_type": "code",
   "execution_count": 9,
   "metadata": {},
   "outputs": [
    {
     "data": {
      "text/plain": [
       "dict_keys(['bqm', 'embdding', 'num_reads', 'result', 'sampler_properties'])"
      ]
     },
     "execution_count": 9,
     "metadata": {},
     "output_type": "execute_result"
    }
   ],
   "source": [
    "d.keys()"
   ]
  },
  {
   "cell_type": "code",
   "execution_count": 13,
   "metadata": {},
   "outputs": [],
   "source": [
    "with open(sa_1,\"r\") as f:\n",
    "  data = f.read()\n",
    "sa_1_json = json.loads(data)\n",
    "with open(sa_2,\"r\") as f:\n",
    "  data = f.read()\n",
    "sa_2_json = json.loads(data)\n",
    "with open(sa_3,\"r\") as f:\n",
    "  data = f.read()\n",
    "sa_3_json = json.loads(data)"
   ]
  },
  {
   "cell_type": "code",
   "execution_count": 127,
   "metadata": {},
   "outputs": [
    {
     "data": {
      "text/plain": [
       "<Figure size 432x288 with 0 Axes>"
      ]
     },
     "metadata": {},
     "output_type": "display_data"
    },
    {
     "data": {
      "image/png": "[encoded data removed]",
      "text/plain": [
       "<Figure size 1080x720 with 1 Axes>"
      ]
     },
     "metadata": {
      "needs_background": "light"
     },
     "output_type": "display_data"
    }
   ],
   "source": [
    "t1 = np.array([1000, 3000, 5000])\n",
    "t2 = np.array([truncate(sa_1_json['annealing_time'],4), truncate(sa_2_json['annealing_time'],4), truncate(sa_3_json['annealing_time'],4)])\n",
    "t3 = np.array([0.02,0.02,0.02])\n",
    "\n",
    "plt.figure(1)\n",
    "fig, ax = plt.subplots()\n",
    "rects1 = ax.bar(t1-250, t2, width=500, label='Simualted Annealing')\n",
    "rects2 = ax.bar(t1+250, t3, width=500, label='Quantum Annealing')\n",
    "plt.xticks(t1, ('1000 sample runs', '1000 sample runs', '1000 sample runs'))\n",
    "\n",
    "# Add some text for labels, title and custom x-axis tick labels, etc.\n",
    "ax.set_ylabel('Time in Seconds')\n",
    "ax.set_title('Simulated and Quantum Annealing sampling time comparison')\n",
    "\n",
    "\n",
    "def autolabel(rects):\n",
    "    \"\"\"Attach a text label above each bar in *rects*, displaying its height.\"\"\"\n",
    "    for rect in rects:\n",
    "        height = rect.get_height()\n",
    "        ax.annotate('{}'.format(height),\n",
    "                    xy=(rect.get_x() + rect.get_width() / 2, height),\n",
    "                    xytext=(0, 3),  # 3 points vertical offset\n",
    "                    textcoords=\"offset points\",\n",
    "                    ha='center', va='bottom')\n",
    "\n",
    "        \n",
    "autolabel(rects1)\n",
    "autolabel(rects2)\n",
    "\n",
    "fig.tight_layout()\n",
    "fig.set_figheight(10)\n",
    "fig.set_figwidth(15)\n",
    "plt.show()"
   ]
  },
  {
   "cell_type": "code",
   "execution_count": null,
   "metadata": {},
   "outputs": [],
   "source": []
  },
  {
   "cell_type": "code",
   "execution_count": null,
   "metadata": {},
   "outputs": [],
   "source": []
  }
 ],
 "metadata": {
  "kernelspec": {
   "display_name": "Python 3",
   "language": "python",
   "name": "python3"
  },
  "language_info": {
   "codemirror_mode": {
    "name": "ipython",
    "version": 3
   },
   "file_extension": ".py",
   "mimetype": "text/x-python",
   "name": "python",
   "nbconvert_exporter": "python",
   "pygments_lexer": "ipython3",
   "version": "3.9.1"
  }
 },
 "nbformat": 4,
 "nbformat_minor": 4
}

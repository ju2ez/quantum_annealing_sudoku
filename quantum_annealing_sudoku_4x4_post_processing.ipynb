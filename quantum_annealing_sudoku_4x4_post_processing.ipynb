{
 "cells": [
  {
   "cell_type": "code",
   "execution_count": 283,
   "metadata": {},
   "outputs": [],
   "source": [
    "import pandas as pd\n",
    "import matplotlib.pyplot as plt\n",
    "import seaborn as sns\n",
    "import json\n",
    "import math\n",
    "import numpy as np"
   ]
  },
  {
   "cell_type": "code",
   "execution_count": 284,
   "metadata": {},
   "outputs": [],
   "source": [
    "def truncate(number, decimals=0):\n",
    "    \"\"\"\n",
    "    Returns a value truncated to a specific number of decimal places.\n",
    "    \"\"\"\n",
    "    if not isinstance(decimals, int):\n",
    "        raise TypeError(\"decimal places must be an integer.\")\n",
    "    elif decimals < 0:\n",
    "        raise ValueError(\"decimal places has to be 0 or more.\")\n",
    "    elif decimals == 0:\n",
    "        return math.trunc(number)\n",
    "\n",
    "    factor = 10.0 ** decimals\n",
    "    return math.trunc(number * factor) / factor"
   ]
  },
  {
   "cell_type": "code",
   "execution_count": 170,
   "metadata": {},
   "outputs": [],
   "source": [
    "qa_1 = \"data/log_02_03_2021__20_59_20/params_qa1000_cf893c92-6a95-4646-a75b-5bac83ab2154.json\"\n",
    "qa_2 = \"data/log_02_03_2021__21_00_14/params_qa1000_61a0b009-9b25-4341-9bbd-729e18984757.json\"\n",
    "qa_3 = \"data/log_02_03_2021__21_01_08/params_qa1000_398e6290-4bdc-4c2e-b80e-073ca798eebe.json\""
   ]
  },
  {
   "cell_type": "code",
   "execution_count": 183,
   "metadata": {},
   "outputs": [],
   "source": [
    "sa_1 = \"data/log_02_03_2021__20_59_20/params_sa_1_-17.0_1000.json\"\n",
    "sa_2 = \"data/log_02_03_2021__21_00_14/params_sa_1_-17.0_1000.json\"\n",
    "sa_3 = \"data/log_02_03_2021__21_01_08/params_sa_1_-17.0_1000.json\""
   ]
  },
  {
   "cell_type": "code",
   "execution_count": 184,
   "metadata": {},
   "outputs": [],
   "source": [
    "with open(qa_1,\"r\") as f:\n",
    "  data = f.read()\n",
    "qa_1_json = json.loads(data)\n",
    "with open(qa_2,\"r\") as f:\n",
    "  data = f.read()\n",
    "qa_2_json = json.loads(data)\n",
    "with open(qa_3,\"r\") as f:\n",
    "  data = f.read()\n",
    "qa_3_json = json.loads(data)"
   ]
  },
  {
   "cell_type": "code",
   "execution_count": 185,
   "metadata": {},
   "outputs": [],
   "source": [
    "with open(sa_1,\"r\") as f:\n",
    "  data = f.read()\n",
    "sa_1_json = json.loads(data)\n",
    "with open(sa_2,\"r\") as f:\n",
    "  data = f.read()\n",
    "sa_2_json = json.loads(data)\n",
    "with open(sa_3,\"r\") as f:\n",
    "  data = f.read()\n",
    "sa_3_json = json.loads(data)"
   ]
  },
  {
   "cell_type": "code",
   "execution_count": 186,
   "metadata": {},
   "outputs": [],
   "source": [
    "t_q_1 = qa_1_json['result_data']['info']['timing']['qpu_sampling_time']/1000000\n",
    "t_q_2 = qa_2_json['result_data']['info']['timing']['qpu_sampling_time']/1000000\n",
    "t_q_3 = qa_3_json['result_data']['info']['timing']['qpu_sampling_time']/1000000"
   ]
  },
  {
   "cell_type": "code",
   "execution_count": 187,
   "metadata": {},
   "outputs": [
    {
     "data": {
      "text/plain": [
       "<Figure size 432x288 with 0 Axes>"
      ]
     },
     "metadata": {},
     "output_type": "display_data"
    },
    {
     "data": {
      "image/png": "[encoded data removed]",
      "text/plain": [
       "<Figure size 1080x720 with 1 Axes>"
      ]
     },
     "metadata": {
      "needs_background": "light"
     },
     "output_type": "display_data"
    }
   ],
   "source": [
    "t1 = np.array([1000, 3000, 5000])\n",
    "t2 = np.array([truncate(sa_1_json['annealing_time'],4), truncate(sa_2_json['annealing_time'],4), truncate(sa_3_json['annealing_time'],4)])\n",
    "t3 = np.array([t_q_1, t_q_2, t_q_3])\n",
    "\n",
    "plt.figure(1)\n",
    "fig, ax = plt.subplots()\n",
    "rects1 = ax.bar(t1-250, t2, width=500, label='Simualted Annealing')\n",
    "rects2 = ax.bar(t1+250, t3, width=500, label='Quantum Annealing')\n",
    "plt.xticks(t1, ('1000 sampling runs', '1000 sample runs', '1000 sample runs'))\n",
    "\n",
    "# Add some text for labels, title and custom x-axis tick labels, etc.\n",
    "ax.set_ylabel('Time in Seconds')\n",
    "ax.set_title('Simulated and Quantum Annealing sampling time comparison')\n",
    "\n",
    "\n",
    "def autolabel(rects):\n",
    "    \"\"\"Attach a text label above each bar in *rects*, displaying its height.\"\"\"\n",
    "    for rect in rects:\n",
    "        height = rect.get_height()\n",
    "        ax.annotate('{}'.format(height),\n",
    "                    xy=(rect.get_x() + rect.get_width() / 2, height),\n",
    "                    xytext=(0, 3),  # 3 points vertical offset\n",
    "                    textcoords=\"offset points\",\n",
    "                    ha='center', va='bottom')\n",
    "\n",
    "        \n",
    "autolabel(rects1)\n",
    "autolabel(rects2)\n",
    "\n",
    "fig.tight_layout()\n",
    "fig.set_figheight(10)\n",
    "fig.set_figwidth(15)\n",
    "\n",
    "plt.savefig('data/plots/time_comparison.png')\n",
    "plt.show()"
   ]
  },
  {
   "cell_type": "code",
   "execution_count": 228,
   "metadata": {},
   "outputs": [],
   "source": [
    "qa_df_1 = pd.read_csv('data/log_02_03_2021__20_59_20/annealing_runcf893c92-6a95-4646-a75b-5bac83ab2154.csv', index_col=0)\n",
    "qa_df_2 = pd.read_csv('data/log_02_03_2021__21_00_14/annealing_run61a0b009-9b25-4341-9bbd-729e18984757.csv', index_col=0)\n",
    "qa_df_3 = pd.read_csv('data/log_02_03_2021__21_01_08/annealing_run398e6290-4bdc-4c2e-b80e-073ca798eebe.csv', index_col=0)"
   ]
  },
  {
   "cell_type": "code",
   "execution_count": 272,
   "metadata": {},
   "outputs": [],
   "source": [
    "sa_df_1 = pd.read_csv('data/log_02_03_2021__20_59_20/simulated_annealing_1.3941059629942174.csv', index_col=0)\n",
    "sa_df_2 = pd.read_csv('data/log_02_03_2021__21_00_14/simulated_annealing_1.2324078120000195.csv', index_col=0)\n",
    "sa_df_3 = pd.read_csv('data/log_02_03_2021__21_01_08/simulated_annealing_2.0083507519957493.csv', index_col=0)\n",
    "            "
   ]
  },
  {
   "cell_type": "code",
   "execution_count": 273,
   "metadata": {},
   "outputs": [],
   "source": [
    "from quantum_annealing_sudoku import quantum_annealing_sudoku\n",
    "from quantum_annealing_sudoku.label_encoder import encode_var_labels, decode_var_labels"
   ]
  },
  {
   "cell_type": "code",
   "execution_count": 274,
   "metadata": {},
   "outputs": [],
   "source": [
    "sudoku_4x4 = quantum_annealing_sudoku.QuantumAnnealingSudoku(grid_9x9 = False)\n",
    "\n",
    "\n",
    "#get some function shortcuts for better readability \n",
    "check_sudoku = sudoku_4x4.check_sudoku\n",
    "encode_board_to_binary = sudoku_4x4.encode_board_to_binary\n",
    "decode_board_from_binary = sudoku_4x4.decode_board_from_binary\n",
    "print_board = sudoku_4x4.print_board"
   ]
  },
  {
   "cell_type": "code",
   "execution_count": 275,
   "metadata": {},
   "outputs": [],
   "source": [
    "def calculate_qa_success_probability(qa_df):\n",
    "    solution = {}\n",
    "    invalid_solutions = 0 \n",
    "    for row_num in range(len(qa_df)):\n",
    "        for column in qa_df.columns[:64]:\n",
    "            solution[column] = qa_df.iloc[row_num][column]\n",
    "\n",
    "\n",
    "        binary_solution_board= np.zeros((4, 4, 4))\n",
    "        for index, value in solution.items():\n",
    "            index = int(index)\n",
    "            if index is not None and int(index)>0:\n",
    "                board_index = decode_var_labels(index)\n",
    "                binary_solution_board[board_index[2]-1][board_index[0]-1][board_index[1]-1] = value\n",
    "\n",
    "        #solution_board=decode_board_from_binary(binary_solution_board)\n",
    "        #print_board(solution_board)\n",
    "        error_count = check_sudoku(solution_board)\n",
    "        if error_count>0:\n",
    "            invalid_solutions+=1\n",
    "    \n",
    "    success_probability = (1-invalid_solutions)/len(qa_df)\n",
    "    \n",
    "    return success_probability\n",
    "        \n",
    "        "
   ]
  },
  {
   "cell_type": "code",
   "execution_count": 276,
   "metadata": {},
   "outputs": [],
   "source": [
    "success_prob_qa_1 = calculate_qa_success_probability(qa_df_1)\n",
    "success_prob_qa_2 = calculate_qa_success_probability(qa_df_2)\n",
    "success_prob_qa_3 = calculate_qa_success_probability(qa_df_3)"
   ]
  },
  {
   "cell_type": "code",
   "execution_count": 278,
   "metadata": {},
   "outputs": [],
   "source": [
    "success_prob_sa_1 = calculate_qa_success_probability(sa_df_1)\n",
    "success_prob_sa_2 = calculate_qa_success_probability(sa_df_2)\n",
    "success_prob_sa_3 = calculate_qa_success_probability(sa_df_3)"
   ]
  },
  {
   "cell_type": "code",
   "execution_count": 288,
   "metadata": {},
   "outputs": [
    {
     "data": {
      "text/plain": [
       "<Figure size 432x288 with 0 Axes>"
      ]
     },
     "metadata": {},
     "output_type": "display_data"
    },
    {
     "data": {
      "image/png": "[encoded data removed]",
      "text/plain": [
       "<Figure size 1080x720 with 1 Axes>"
      ]
     },
     "metadata": {
      "needs_background": "light"
     },
     "output_type": "display_data"
    }
   ],
   "source": [
    "t1 = np.array([1000, 3000, 5000])\n",
    "t2 = np.array([truncate(success_prob_sa_1,6), truncate(success_prob_sa_2,6), truncate(success_prob_sa_3,6)])\n",
    "t3 = np.array([truncate(success_prob_qa_1,6), truncate(success_prob_qa_2,6), truncate(success_prob_qa_3,6)])\n",
    "\n",
    "plt.figure(1)\n",
    "fig, ax = plt.subplots()\n",
    "rects1 = ax.bar(t1-250, t2, width=500, label='Simualted Annealing')\n",
    "rects2 = ax.bar(t1+250, t3, width=500, label='Quantum Annealing')\n",
    "plt.xticks(t1, ('1000 sampling runs', '1000 sample runs', '1000 sample runs'))\n",
    "\n",
    "# Add some text for labels, title and custom x-axis tick labels, etc.\n",
    "ax.set_ylabel('Success Probability')\n",
    "ax.set_title('Simulated and Quantum Annealing success probability comparison')\n",
    "\n",
    "\n",
    "def autolabel(rects):\n",
    "    \"\"\"Attach a text label above each bar in *rects*, displaying its height.\"\"\"\n",
    "    for rect in rects:\n",
    "        height = rect.get_height()\n",
    "        ax.annotate('{}'.format(height),\n",
    "                    xy=(rect.get_x() + rect.get_width() / 2, height),\n",
    "                    xytext=(0, 3),  # 3 points vertical offset\n",
    "                    textcoords=\"offset points\",\n",
    "                    ha='center', va='bottom')\n",
    "\n",
    "        \n",
    "autolabel(rects1)\n",
    "autolabel(rects2)\n",
    "\n",
    "fig.tight_layout()\n",
    "fig.set_figheight(10)\n",
    "fig.set_figwidth(15)\n",
    "\n",
    "plt.savefig('data/plots/success_probability_comparison.png')\n",
    "plt.show()"
   ]
  }
 ],
 "metadata": {
  "kernelspec": {
   "display_name": "Python 3",
   "language": "python",
   "name": "python3"
  },
  "language_info": {
   "codemirror_mode": {
    "name": "ipython",
    "version": 3
   },
   "file_extension": ".py",
   "mimetype": "text/x-python",
   "name": "python",
   "nbconvert_exporter": "python",
   "pygments_lexer": "ipython3",
   "version": "3.9.1"
  }
 },
 "nbformat": 4,
 "nbformat_minor": 4
}
